{
 "cells": [
  {
   "cell_type": "markdown",
   "metadata": {},
   "source": [
    "# Logistic Regression Analysis: Determinants of Women as Primary Source of Revenue\n"
   ]
  },
  {
   "cell_type": "markdown",
   "metadata": {},
   "source": [
    "---"
   ]
  },
  {
   "cell_type": "markdown",
   "metadata": {},
   "source": [
    "![banner](banner.jpg)"
   ]
  },
  {
   "cell_type": "markdown",
   "metadata": {},
   "source": [
    "---"
   ]
  },
  {
   "cell_type": "markdown",
   "metadata": {},
   "source": [
    "## Content Table\n",
    "- [0. Environment Setup](#0.-Environment-Setup)\n",
    "- [1. Data Exploration & Management](#1.-Data-Exploration-&-Management)\n",
    "- [2. Feature Selection](#2.Feature-Selection)\n",
    "  - [A. Quantitative Data](#A.-Quantitative-Data)\n",
    "  - [B. Qualitative Data](#B.-Qualitative-Data)\n",
    "- [3. Final Data Preparation](#3.-Final-Data-Preparation)\n",
    "- [4. Statistical Modeling](#4.-Statistical-Modeling)\n",
    "  - [A. Multicollinearity tests](#A.-Multicollinearity-tests)\n",
    "  - [B. Data Standardization](#B.-Data-Standardization)\n",
    "  - [C. Model creation & fitting](#C.-Model-creation-&-fitting)\n",
    "  - [D. Model Optimization](#D.-Model-Optimization)\n",
    "  - [E. Model testing](#E.-Model-testing)\n",
    "- [5. Conclusion](#5.-Conclusion)"
   ]
  },
  {
   "cell_type": "markdown",
   "metadata": {},
   "source": [
    "## Project Overview\n",
    "\n",
    "This project aims to analyze the determinants for a woman being the primary source of revenue in a household using data from the \"Conditions de Travail 2013\" survey. The analysis will be focused on individuals living in couples in the same household.\n",
    "\n",
    "### Objectives\n",
    "The objective of the project is to analyze, based on the 2013 Working Conditions survey, the determinants for a woman being the primary source of revenue in the household.\n",
    "1. Data Exploration & Management: Explore the dataset and the available data and handle missing data.\n",
    "2. Feature Selection: The dataset presents 541 Columns/Features. A selection needs to be made to be able to conduct further analysis.\n",
    "3. Build and evaluate a logistic regression model to identify significant predictors of a women being the primary source of revenue in the household.\n",
    "\n",
    "### Dataset\n",
    "\n",
    "- **Source**: Conditions de Travail 2013 (Volet \"Actif\")\n",
    "- **Initial Dataset Size**: 33,673 individuals\n",
    "- **Filtered Dataset**: Individuals living in couples at the same household\n",
    "\n",
    "### Dependencies\n",
    "\n",
    "- Python libraries: pandas, numpy, matplotlib, seaborn, statsmodels, scikit-learn, plotly, scipy"
   ]
  },
  {
   "cell_type": "markdown",
   "metadata": {},
   "source": [
    "---"
   ]
  },
  {
   "cell_type": "markdown",
   "metadata": {},
   "source": [
    "## 0. Environment Setup"
   ]
  },
  {
   "cell_type": "code",
   "execution_count": null,
   "metadata": {},
   "outputs": [],
   "source": [
    "# Import necessary librairies\n",
    "import pandas as pd\n",
    "import numpy as np\n",
    "import seaborn as sns\n",
    "import plotly.express as px\n",
    "import statsmodels.api as sm\n",
    "import matplotlib.pyplot as plt"
   ]
  },
  {
   "cell_type": "code",
   "execution_count": null,
   "metadata": {},
   "outputs": [],
   "source": [
    "dataset_path = \"Data/individus_ct2013.sas7bdat\""
   ]
  },
  {
   "cell_type": "markdown",
   "metadata": {},
   "source": [
    "---"
   ]
  },
  {
   "cell_type": "markdown",
   "metadata": {},
   "source": [
    "## 1. Data Exploration & Management"
   ]
  },
  {
   "cell_type": "code",
   "execution_count": null,
   "metadata": {},
   "outputs": [
    {
     "name": "stdout",
     "output_type": "stream",
     "text": [
      "Warning: column count mismatch (234 + 255 != 541)\n",
      "\n"
     ]
    },
    {
     "data": {
      "text/html": [
       "<div>\n",
       "<style scoped>\n",
       "    .dataframe tbody tr th:only-of-type {\n",
       "        vertical-align: middle;\n",
       "    }\n",
       "\n",
       "    .dataframe tbody tr th {\n",
       "        vertical-align: top;\n",
       "    }\n",
       "\n",
       "    .dataframe thead th {\n",
       "        text-align: right;\n",
       "    }\n",
       "</style>\n",
       "<table border=\"1\" class=\"dataframe\">\n",
       "  <thead>\n",
       "    <tr style=\"text-align: right;\">\n",
       "      <th></th>\n",
       "      <th>C1C</th>\n",
       "      <th>C1D</th>\n",
       "      <th>IDENT_MEN</th>\n",
       "      <th>IDENT_IND</th>\n",
       "      <th>NPERS</th>\n",
       "      <th>NACTIFS</th>\n",
       "      <th>TYPMEN5</th>\n",
       "      <th>TYPMEN15</th>\n",
       "      <th>IR</th>\n",
       "      <th>REVMEN</th>\n",
       "      <th>...</th>\n",
       "      <th>lnaisd</th>\n",
       "      <th>lnaisper</th>\n",
       "      <th>lnaismer</th>\n",
       "      <th>natnaisper</th>\n",
       "      <th>natnaismer</th>\n",
       "      <th>nati</th>\n",
       "      <th>revannu_drap</th>\n",
       "      <th>revannu</th>\n",
       "      <th>revmensc</th>\n",
       "      <th>revmenscc_drap</th>\n",
       "    </tr>\n",
       "  </thead>\n",
       "  <tbody>\n",
       "    <tr>\n",
       "      <th>0</th>\n",
       "      <td>2</td>\n",
       "      <td>2</td>\n",
       "      <td>0100019101000</td>\n",
       "      <td>010001910100002</td>\n",
       "      <td>2.0</td>\n",
       "      <td>1.0</td>\n",
       "      <td>2</td>\n",
       "      <td>22</td>\n",
       "      <td>1</td>\n",
       "      <td>2200.0</td>\n",
       "      <td>...</td>\n",
       "      <td>11</td>\n",
       "      <td>11</td>\n",
       "      <td>11</td>\n",
       "      <td>NaN</td>\n",
       "      <td>NaN</td>\n",
       "      <td>NaN</td>\n",
       "      <td>1.0</td>\n",
       "      <td>1500.0</td>\n",
       "      <td>125.0</td>\n",
       "      <td>1.0</td>\n",
       "    </tr>\n",
       "    <tr>\n",
       "      <th>1</th>\n",
       "      <td>NaN</td>\n",
       "      <td>NaN</td>\n",
       "      <td>0100083001000</td>\n",
       "      <td>010008300100002</td>\n",
       "      <td>2.0</td>\n",
       "      <td>2.0</td>\n",
       "      <td>5</td>\n",
       "      <td>52</td>\n",
       "      <td>2</td>\n",
       "      <td>2250.0</td>\n",
       "      <td>...</td>\n",
       "      <td>11</td>\n",
       "      <td>11</td>\n",
       "      <td>11</td>\n",
       "      <td>NaN</td>\n",
       "      <td>NaN</td>\n",
       "      <td>NaN</td>\n",
       "      <td>-2.0</td>\n",
       "      <td>NaN</td>\n",
       "      <td>NaN</td>\n",
       "      <td>-2.0</td>\n",
       "    </tr>\n",
       "    <tr>\n",
       "      <th>2</th>\n",
       "      <td>2</td>\n",
       "      <td>2</td>\n",
       "      <td>0100084601000</td>\n",
       "      <td>010008460100002</td>\n",
       "      <td>5.0</td>\n",
       "      <td>2.0</td>\n",
       "      <td>4</td>\n",
       "      <td>42</td>\n",
       "      <td>1</td>\n",
       "      <td>2300.0</td>\n",
       "      <td>...</td>\n",
       "      <td>11</td>\n",
       "      <td>11</td>\n",
       "      <td>11</td>\n",
       "      <td>NaN</td>\n",
       "      <td>NaN</td>\n",
       "      <td>NaN</td>\n",
       "      <td>1.0</td>\n",
       "      <td>0.0</td>\n",
       "      <td>0.0</td>\n",
       "      <td>1.0</td>\n",
       "    </tr>\n",
       "  </tbody>\n",
       "</table>\n",
       "<p>3 rows × 541 columns</p>\n",
       "</div>"
      ],
      "text/plain": [
       "   C1C  C1D      IDENT_MEN        IDENT_IND  NPERS  NACTIFS TYPMEN5 TYPMEN15  \\\n",
       "0    2    2  0100019101000  010001910100002    2.0      1.0       2       22   \n",
       "1  NaN  NaN  0100083001000  010008300100002    2.0      2.0       5       52   \n",
       "2    2    2  0100084601000  010008460100002    5.0      2.0       4       42   \n",
       "\n",
       "  IR  REVMEN  ...  lnaisd  lnaisper  lnaismer  natnaisper  natnaismer  nati  \\\n",
       "0  1  2200.0  ...      11        11        11         NaN         NaN   NaN   \n",
       "1  2  2250.0  ...      11        11        11         NaN         NaN   NaN   \n",
       "2  1  2300.0  ...      11        11        11         NaN         NaN   NaN   \n",
       "\n",
       "  revannu_drap  revannu revmensc  revmenscc_drap  \n",
       "0          1.0   1500.0    125.0             1.0  \n",
       "1         -2.0      NaN      NaN            -2.0  \n",
       "2          1.0      0.0      0.0             1.0  \n",
       "\n",
       "[3 rows x 541 columns]"
      ]
     },
     "execution_count": 114,
     "metadata": {},
     "output_type": "execute_result"
    }
   ],
   "source": [
    "# Load the data from the 'individus_ct2013.sas7bdat' file into a DataFrame named df\n",
    "df = pd.read_sas(dataset_path, format=\"sas7bdat\", encoding=\"latin-1\")\n",
    "\n",
    "# Display the DataFrame\n",
    "df.head(3)"
   ]
  },
  {
   "cell_type": "markdown",
   "metadata": {},
   "source": [
    "##### This analysis will be only based on couples living in the same household. This is represented by the value 1 in the **'COUPLE'** variable."
   ]
  },
  {
   "cell_type": "code",
   "execution_count": null,
   "metadata": {},
   "outputs": [
    {
     "data": {
      "text/plain": [
       "(24024, 541)"
      ]
     },
     "execution_count": 115,
     "metadata": {},
     "output_type": "execute_result"
    }
   ],
   "source": [
    "# Filter only persons in couple in the same household for the study\n",
    "df = df[df[\"COUPLE\"] == \"1\"]\n",
    "df.shape"
   ]
  },
  {
   "cell_type": "markdown",
   "metadata": {},
   "source": [
    "##### Creation of the target variable: A binary variable that represents whether a Women is the primary source of revenue in the household"
   ]
  },
  {
   "cell_type": "code",
   "execution_count": null,
   "metadata": {},
   "outputs": [
    {
     "name": "stderr",
     "output_type": "stream",
     "text": [
      "/tmp/ipykernel_160722/3477372514.py:2: PerformanceWarning:\n",
      "\n",
      "DataFrame is highly fragmented.  This is usually the result of calling `frame.insert` many times, which has poor performance.  Consider joining all columns at once using pd.concat(axis=1) instead. To get a de-fragmented frame, use `newframe = frame.copy()`\n",
      "\n"
     ]
    },
    {
     "data": {
      "text/plain": [
       "target\n",
       "False    14629\n",
       "True      9395\n",
       "Name: count, dtype: int64"
      ]
     },
     "execution_count": 116,
     "metadata": {},
     "output_type": "execute_result"
    }
   ],
   "source": [
    "# Creat new variable 'target', this target represent women (in couple) who are the primary source of revenue in their household\n",
    "df[\"target\"] = df[[\"SEXE\", \"PRACT\"]].apply(\n",
    "    lambda x: True if x.iloc[0] == \"1\" and x.iloc[1] == \"1\" else False, axis=1\n",
    ")\n",
    "\n",
    "# Counts number of each category NOT PROVIDING (False) vs PROVIDING (True)\n",
    "df[\"target\"].value_counts()"
   ]
  },
  {
   "cell_type": "markdown",
   "metadata": {},
   "source": [
    "##### The columns PRACT and SEXE are now represented as needed by the **'target'** variable. 'LIENPREF' is not needed as well"
   ]
  },
  {
   "cell_type": "code",
   "execution_count": null,
   "metadata": {},
   "outputs": [],
   "source": [
    "# Dropping useless columns\n",
    "df = df.drop(columns=[\"PRACT\", \"SEXE\", \"LIENPREF\"])"
   ]
  },
  {
   "cell_type": "markdown",
   "metadata": {},
   "source": [
    "##### Analysis of the columns types"
   ]
  },
  {
   "cell_type": "code",
   "execution_count": null,
   "metadata": {},
   "outputs": [
    {
     "data": {
      "text/plain": [
       "object     462\n",
       "float64     76\n",
       "bool         1\n",
       "Name: count, dtype: int64"
      ]
     },
     "execution_count": 118,
     "metadata": {},
     "output_type": "execute_result"
    }
   ],
   "source": [
    "# Display the distribution of the target variable and thus the distribution of quantitative and qualitative variables\n",
    "df.dtypes.value_counts()"
   ]
  },
  {
   "cell_type": "markdown",
   "metadata": {},
   "source": [
    "---"
   ]
  },
  {
   "cell_type": "markdown",
   "metadata": {},
   "source": [
    "## 2.Feature Selection"
   ]
  },
  {
   "cell_type": "markdown",
   "metadata": {},
   "source": [
    "#### Our primary feature selection will be based on the relation of the columns with our target variables. The data set has both **Qualitative** & **Quantitative** data which will be explored seperatly at this stage."
   ]
  },
  {
   "cell_type": "markdown",
   "metadata": {},
   "source": [
    "### A. Quantitative Data"
   ]
  },
  {
   "cell_type": "code",
   "execution_count": null,
   "metadata": {},
   "outputs": [
    {
     "data": {
      "text/plain": [
       "(24024, 76)"
      ]
     },
     "execution_count": 119,
     "metadata": {},
     "output_type": "execute_result"
    }
   ],
   "source": [
    "# Get quantitative variables to calculate pearson correlation\n",
    "quantitatives = df.select_dtypes(include=[\"float64\", \"int64\"])\n",
    "quantitatives.shape"
   ]
  },
  {
   "cell_type": "markdown",
   "metadata": {},
   "source": [
    "#### Analysis of the missing values:"
   ]
  },
  {
   "cell_type": "code",
   "execution_count": null,
   "metadata": {},
   "outputs": [
    {
     "data": {
      "text/plain": [
       "SUPA               23928\n",
       "TPSINT             23777\n",
       "tps_interim        23777\n",
       "SUPH               23336\n",
       "duree_cessation    23280\n",
       "                   ...  \n",
       "AGE                    0\n",
       "ANAIS                  0\n",
       "MNAIS                  0\n",
       "COEFFUC                0\n",
       "revmenscc_drap         0\n",
       "Length: 76, dtype: int64"
      ]
     },
     "execution_count": 120,
     "metadata": {},
     "output_type": "execute_result"
    }
   ],
   "source": [
    "quantitatives.isna().sum().sort_values(ascending=False)"
   ]
  },
  {
   "cell_type": "code",
   "execution_count": null,
   "metadata": {},
   "outputs": [
    {
     "data": {
      "application/vnd.plotly.v1+json": {
       "config": {
        "plotlyServerURL": "https://plot.ly"
       },
       "data": [
        {
         "alignmentgroup": "True",
         "hovertemplate": "variable=0<br>index=%{x}<br>value=%{y}<extra></extra>",
         "legendgroup": "0",
         "marker": {
          "color": "#636efa",
          "pattern": {
           "shape": ""
          }
         },
         "name": "0",
         "offsetgroup": "0",
         "orientation": "v",
         "showlegend": true,
         "textposition": "auto",
         "type": "bar",
         "x": [
          "SUPA",
          "TPSINT",
          "tps_interim",
          "SUPH",
          "duree_cessation",
          "RABSP",
          "NBJARR",
          "POURCLIEN",
          "HHTOT",
          "FIN2M",
          "FIN2H",
          "DEBUT2M",
          "DEBUT2H",
          "DEBDETM",
          "debut_contrat",
          "DEBDETA",
          "revannu",
          "DUDET",
          "tps_contrat",
          "DATACCM",
          "DATACCA",
          "AGARRIV",
          "ANARRIV",
          "NBASTR",
          "NBNUIT",
          "TPMAISON",
          "ATMAL",
          "NBDIMA",
          "KMANNU",
          "NBRKM",
          "DAMOIS",
          "COMBIEN",
          "RESTMAIN",
          "NBSAME",
          "NOIK2",
          "INFOH",
          "TOTREVEN",
          "REVMENS",
          "ANETA",
          "revmensc",
          "FINM",
          "FINH",
          "DEBUTM",
          "DEBUTH",
          "WHO",
          "pondqaa",
          "REVMENMN",
          "REVMENMXUC",
          "REVMENMNUC",
          "REVMEN",
          "REVMENUC",
          "REVMENMX",
          "CONGE",
          "HH",
          "AGFINETU",
          "JOURTR",
          "TRAJET",
          "FINETUD",
          "ANFINETU",
          "DATANT",
          "anciennete",
          "CJACTOCCUP",
          "revannu_drap",
          "pondcal",
          "NPERS",
          "TPSINFO",
          "NACTIFS",
          "NBENF18P",
          "NBENF3A17",
          "NBENFM3",
          "NOIK1",
          "AGE",
          "ANAIS",
          "MNAIS",
          "COEFFUC",
          "revmenscc_drap"
         ],
         "xaxis": "x",
         "y": [
          23928,
          23777,
          23777,
          23336,
          23280,
          23107,
          23057,
          23036,
          22948,
          22533,
          22532,
          22530,
          22528,
          22459,
          22452,
          22452,
          22308,
          22243,
          22243,
          22061,
          21996,
          21675,
          21675,
          21349,
          20347,
          17820,
          17496,
          16224,
          15720,
          15720,
          15164,
          14715,
          14562,
          11922,
          8878,
          6523,
          6182,
          4397,
          3447,
          2681,
          2270,
          2265,
          2098,
          2095,
          1727,
          1301,
          1035,
          1035,
          1035,
          1035,
          1035,
          1035,
          761,
          440,
          242,
          190,
          130,
          130,
          130,
          39,
          39,
          4,
          0,
          0,
          0,
          0,
          0,
          0,
          0,
          0,
          0,
          0,
          0,
          0,
          0,
          0
         ],
         "yaxis": "y"
        }
       ],
       "layout": {
        "barmode": "relative",
        "legend": {
         "title": {
          "text": "variable"
         },
         "tracegroupgap": 0
        },
        "template": {
         "data": {
          "bar": [
           {
            "error_x": {
             "color": "#2a3f5f"
            },
            "error_y": {
             "color": "#2a3f5f"
            },
            "marker": {
             "line": {
              "color": "#E5ECF6",
              "width": 0.5
             },
             "pattern": {
              "fillmode": "overlay",
              "size": 10,
              "solidity": 0.2
             }
            },
            "type": "bar"
           }
          ],
          "barpolar": [
           {
            "marker": {
             "line": {
              "color": "#E5ECF6",
              "width": 0.5
             },
             "pattern": {
              "fillmode": "overlay",
              "size": 10,
              "solidity": 0.2
             }
            },
            "type": "barpolar"
           }
          ],
          "carpet": [
           {
            "aaxis": {
             "endlinecolor": "#2a3f5f",
             "gridcolor": "white",
             "linecolor": "white",
             "minorgridcolor": "white",
             "startlinecolor": "#2a3f5f"
            },
            "baxis": {
             "endlinecolor": "#2a3f5f",
             "gridcolor": "white",
             "linecolor": "white",
             "minorgridcolor": "white",
             "startlinecolor": "#2a3f5f"
            },
            "type": "carpet"
           }
          ],
          "choropleth": [
           {
            "colorbar": {
             "outlinewidth": 0,
             "ticks": ""
            },
            "type": "choropleth"
           }
          ],
          "contour": [
           {
            "colorbar": {
             "outlinewidth": 0,
             "ticks": ""
            },
            "colorscale": [
             [
              0,
              "#0d0887"
             ],
             [
              0.1111111111111111,
              "#46039f"
             ],
             [
              0.2222222222222222,
              "#7201a8"
             ],
             [
              0.3333333333333333,
              "#9c179e"
             ],
             [
              0.4444444444444444,
              "#bd3786"
             ],
             [
              0.5555555555555556,
              "#d8576b"
             ],
             [
              0.6666666666666666,
              "#ed7953"
             ],
             [
              0.7777777777777778,
              "#fb9f3a"
             ],
             [
              0.8888888888888888,
              "#fdca26"
             ],
             [
              1,
              "#f0f921"
             ]
            ],
            "type": "contour"
           }
          ],
          "contourcarpet": [
           {
            "colorbar": {
             "outlinewidth": 0,
             "ticks": ""
            },
            "type": "contourcarpet"
           }
          ],
          "heatmap": [
           {
            "colorbar": {
             "outlinewidth": 0,
             "ticks": ""
            },
            "colorscale": [
             [
              0,
              "#0d0887"
             ],
             [
              0.1111111111111111,
              "#46039f"
             ],
             [
              0.2222222222222222,
              "#7201a8"
             ],
             [
              0.3333333333333333,
              "#9c179e"
             ],
             [
              0.4444444444444444,
              "#bd3786"
             ],
             [
              0.5555555555555556,
              "#d8576b"
             ],
             [
              0.6666666666666666,
              "#ed7953"
             ],
             [
              0.7777777777777778,
              "#fb9f3a"
             ],
             [
              0.8888888888888888,
              "#fdca26"
             ],
             [
              1,
              "#f0f921"
             ]
            ],
            "type": "heatmap"
           }
          ],
          "heatmapgl": [
           {
            "colorbar": {
             "outlinewidth": 0,
             "ticks": ""
            },
            "colorscale": [
             [
              0,
              "#0d0887"
             ],
             [
              0.1111111111111111,
              "#46039f"
             ],
             [
              0.2222222222222222,
              "#7201a8"
             ],
             [
              0.3333333333333333,
              "#9c179e"
             ],
             [
              0.4444444444444444,
              "#bd3786"
             ],
             [
              0.5555555555555556,
              "#d8576b"
             ],
             [
              0.6666666666666666,
              "#ed7953"
             ],
             [
              0.7777777777777778,
              "#fb9f3a"
             ],
             [
              0.8888888888888888,
              "#fdca26"
             ],
             [
              1,
              "#f0f921"
             ]
            ],
            "type": "heatmapgl"
           }
          ],
          "histogram": [
           {
            "marker": {
             "pattern": {
              "fillmode": "overlay",
              "size": 10,
              "solidity": 0.2
             }
            },
            "type": "histogram"
           }
          ],
          "histogram2d": [
           {
            "colorbar": {
             "outlinewidth": 0,
             "ticks": ""
            },
            "colorscale": [
             [
              0,
              "#0d0887"
             ],
             [
              0.1111111111111111,
              "#46039f"
             ],
             [
              0.2222222222222222,
              "#7201a8"
             ],
             [
              0.3333333333333333,
              "#9c179e"
             ],
             [
              0.4444444444444444,
              "#bd3786"
             ],
             [
              0.5555555555555556,
              "#d8576b"
             ],
             [
              0.6666666666666666,
              "#ed7953"
             ],
             [
              0.7777777777777778,
              "#fb9f3a"
             ],
             [
              0.8888888888888888,
              "#fdca26"
             ],
             [
              1,
              "#f0f921"
             ]
            ],
            "type": "histogram2d"
           }
          ],
          "histogram2dcontour": [
           {
            "colorbar": {
             "outlinewidth": 0,
             "ticks": ""
            },
            "colorscale": [
             [
              0,
              "#0d0887"
             ],
             [
              0.1111111111111111,
              "#46039f"
             ],
             [
              0.2222222222222222,
              "#7201a8"
             ],
             [
              0.3333333333333333,
              "#9c179e"
             ],
             [
              0.4444444444444444,
              "#bd3786"
             ],
             [
              0.5555555555555556,
              "#d8576b"
             ],
             [
              0.6666666666666666,
              "#ed7953"
             ],
             [
              0.7777777777777778,
              "#fb9f3a"
             ],
             [
              0.8888888888888888,
              "#fdca26"
             ],
             [
              1,
              "#f0f921"
             ]
            ],
            "type": "histogram2dcontour"
           }
          ],
          "mesh3d": [
           {
            "colorbar": {
             "outlinewidth": 0,
             "ticks": ""
            },
            "type": "mesh3d"
           }
          ],
          "parcoords": [
           {
            "line": {
             "colorbar": {
              "outlinewidth": 0,
              "ticks": ""
             }
            },
            "type": "parcoords"
           }
          ],
          "pie": [
           {
            "automargin": true,
            "type": "pie"
           }
          ],
          "scatter": [
           {
            "fillpattern": {
             "fillmode": "overlay",
             "size": 10,
             "solidity": 0.2
            },
            "type": "scatter"
           }
          ],
          "scatter3d": [
           {
            "line": {
             "colorbar": {
              "outlinewidth": 0,
              "ticks": ""
             }
            },
            "marker": {
             "colorbar": {
              "outlinewidth": 0,
              "ticks": ""
             }
            },
            "type": "scatter3d"
           }
          ],
          "scattercarpet": [
           {
            "marker": {
             "colorbar": {
              "outlinewidth": 0,
              "ticks": ""
             }
            },
            "type": "scattercarpet"
           }
          ],
          "scattergeo": [
           {
            "marker": {
             "colorbar": {
              "outlinewidth": 0,
              "ticks": ""
             }
            },
            "type": "scattergeo"
           }
          ],
          "scattergl": [
           {
            "marker": {
             "colorbar": {
              "outlinewidth": 0,
              "ticks": ""
             }
            },
            "type": "scattergl"
           }
          ],
          "scattermapbox": [
           {
            "marker": {
             "colorbar": {
              "outlinewidth": 0,
              "ticks": ""
             }
            },
            "type": "scattermapbox"
           }
          ],
          "scatterpolar": [
           {
            "marker": {
             "colorbar": {
              "outlinewidth": 0,
              "ticks": ""
             }
            },
            "type": "scatterpolar"
           }
          ],
          "scatterpolargl": [
           {
            "marker": {
             "colorbar": {
              "outlinewidth": 0,
              "ticks": ""
             }
            },
            "type": "scatterpolargl"
           }
          ],
          "scatterternary": [
           {
            "marker": {
             "colorbar": {
              "outlinewidth": 0,
              "ticks": ""
             }
            },
            "type": "scatterternary"
           }
          ],
          "surface": [
           {
            "colorbar": {
             "outlinewidth": 0,
             "ticks": ""
            },
            "colorscale": [
             [
              0,
              "#0d0887"
             ],
             [
              0.1111111111111111,
              "#46039f"
             ],
             [
              0.2222222222222222,
              "#7201a8"
             ],
             [
              0.3333333333333333,
              "#9c179e"
             ],
             [
              0.4444444444444444,
              "#bd3786"
             ],
             [
              0.5555555555555556,
              "#d8576b"
             ],
             [
              0.6666666666666666,
              "#ed7953"
             ],
             [
              0.7777777777777778,
              "#fb9f3a"
             ],
             [
              0.8888888888888888,
              "#fdca26"
             ],
             [
              1,
              "#f0f921"
             ]
            ],
            "type": "surface"
           }
          ],
          "table": [
           {
            "cells": {
             "fill": {
              "color": "#EBF0F8"
             },
             "line": {
              "color": "white"
             }
            },
            "header": {
             "fill": {
              "color": "#C8D4E3"
             },
             "line": {
              "color": "white"
             }
            },
            "type": "table"
           }
          ]
         },
         "layout": {
          "annotationdefaults": {
           "arrowcolor": "#2a3f5f",
           "arrowhead": 0,
           "arrowwidth": 1
          },
          "autotypenumbers": "strict",
          "coloraxis": {
           "colorbar": {
            "outlinewidth": 0,
            "ticks": ""
           }
          },
          "colorscale": {
           "diverging": [
            [
             0,
             "#8e0152"
            ],
            [
             0.1,
             "#c51b7d"
            ],
            [
             0.2,
             "#de77ae"
            ],
            [
             0.3,
             "#f1b6da"
            ],
            [
             0.4,
             "#fde0ef"
            ],
            [
             0.5,
             "#f7f7f7"
            ],
            [
             0.6,
             "#e6f5d0"
            ],
            [
             0.7,
             "#b8e186"
            ],
            [
             0.8,
             "#7fbc41"
            ],
            [
             0.9,
             "#4d9221"
            ],
            [
             1,
             "#276419"
            ]
           ],
           "sequential": [
            [
             0,
             "#0d0887"
            ],
            [
             0.1111111111111111,
             "#46039f"
            ],
            [
             0.2222222222222222,
             "#7201a8"
            ],
            [
             0.3333333333333333,
             "#9c179e"
            ],
            [
             0.4444444444444444,
             "#bd3786"
            ],
            [
             0.5555555555555556,
             "#d8576b"
            ],
            [
             0.6666666666666666,
             "#ed7953"
            ],
            [
             0.7777777777777778,
             "#fb9f3a"
            ],
            [
             0.8888888888888888,
             "#fdca26"
            ],
            [
             1,
             "#f0f921"
            ]
           ],
           "sequentialminus": [
            [
             0,
             "#0d0887"
            ],
            [
             0.1111111111111111,
             "#46039f"
            ],
            [
             0.2222222222222222,
             "#7201a8"
            ],
            [
             0.3333333333333333,
             "#9c179e"
            ],
            [
             0.4444444444444444,
             "#bd3786"
            ],
            [
             0.5555555555555556,
             "#d8576b"
            ],
            [
             0.6666666666666666,
             "#ed7953"
            ],
            [
             0.7777777777777778,
             "#fb9f3a"
            ],
            [
             0.8888888888888888,
             "#fdca26"
            ],
            [
             1,
             "#f0f921"
            ]
           ]
          },
          "colorway": [
           "#636efa",
           "#EF553B",
           "#00cc96",
           "#ab63fa",
           "#FFA15A",
           "#19d3f3",
           "#FF6692",
           "#B6E880",
           "#FF97FF",
           "#FECB52"
          ],
          "font": {
           "color": "#2a3f5f"
          },
          "geo": {
           "bgcolor": "white",
           "lakecolor": "white",
           "landcolor": "#E5ECF6",
           "showlakes": true,
           "showland": true,
           "subunitcolor": "white"
          },
          "hoverlabel": {
           "align": "left"
          },
          "hovermode": "closest",
          "mapbox": {
           "style": "light"
          },
          "paper_bgcolor": "white",
          "plot_bgcolor": "#E5ECF6",
          "polar": {
           "angularaxis": {
            "gridcolor": "white",
            "linecolor": "white",
            "ticks": ""
           },
           "bgcolor": "#E5ECF6",
           "radialaxis": {
            "gridcolor": "white",
            "linecolor": "white",
            "ticks": ""
           }
          },
          "scene": {
           "xaxis": {
            "backgroundcolor": "#E5ECF6",
            "gridcolor": "white",
            "gridwidth": 2,
            "linecolor": "white",
            "showbackground": true,
            "ticks": "",
            "zerolinecolor": "white"
           },
           "yaxis": {
            "backgroundcolor": "#E5ECF6",
            "gridcolor": "white",
            "gridwidth": 2,
            "linecolor": "white",
            "showbackground": true,
            "ticks": "",
            "zerolinecolor": "white"
           },
           "zaxis": {
            "backgroundcolor": "#E5ECF6",
            "gridcolor": "white",
            "gridwidth": 2,
            "linecolor": "white",
            "showbackground": true,
            "ticks": "",
            "zerolinecolor": "white"
           }
          },
          "shapedefaults": {
           "line": {
            "color": "#2a3f5f"
           }
          },
          "ternary": {
           "aaxis": {
            "gridcolor": "white",
            "linecolor": "white",
            "ticks": ""
           },
           "baxis": {
            "gridcolor": "white",
            "linecolor": "white",
            "ticks": ""
           },
           "bgcolor": "#E5ECF6",
           "caxis": {
            "gridcolor": "white",
            "linecolor": "white",
            "ticks": ""
           }
          },
          "title": {
           "x": 0.05
          },
          "xaxis": {
           "automargin": true,
           "gridcolor": "white",
           "linecolor": "white",
           "ticks": "",
           "title": {
            "standoff": 15
           },
           "zerolinecolor": "white",
           "zerolinewidth": 2
          },
          "yaxis": {
           "automargin": true,
           "gridcolor": "white",
           "linecolor": "white",
           "ticks": "",
           "title": {
            "standoff": 15
           },
           "zerolinecolor": "white",
           "zerolinewidth": 2
          }
         }
        },
        "title": {
         "text": "Number of missing values in the qualitative variables"
        },
        "xaxis": {
         "anchor": "y",
         "domain": [
          0,
          1
         ],
         "title": {
          "text": "index"
         }
        },
        "yaxis": {
         "anchor": "x",
         "domain": [
          0,
          1
         ],
         "title": {
          "text": "value"
         }
        }
       }
      }
     },
     "metadata": {},
     "output_type": "display_data"
    }
   ],
   "source": [
    "px.bar(\n",
    "    quantitatives.isna().sum().sort_values(ascending=False),\n",
    "    title=\"Number of missing values in the qualitative variables\",\n",
    ")"
   ]
  },
  {
   "cell_type": "markdown",
   "metadata": {},
   "source": [
    "##### We chose to fill the missing values with medians to be able to study their correlation. The median was chosen rather then a mean to avoid any bias that could be introduced by outliers."
   ]
  },
  {
   "cell_type": "code",
   "execution_count": null,
   "metadata": {},
   "outputs": [],
   "source": [
    "quantitatives.fillna(quantitatives.median(), inplace=True)"
   ]
  },
  {
   "cell_type": "code",
   "execution_count": null,
   "metadata": {},
   "outputs": [],
   "source": [
    "# Copy the target variable to the quantitatives DataFrame\n",
    "quantitatives[\"target\"] = df[\"target\"]"
   ]
  },
  {
   "cell_type": "markdown",
   "metadata": {},
   "source": [
    "#### Correlation Analysis:"
   ]
  },
  {
   "cell_type": "markdown",
   "metadata": {},
   "source": [
    "##### We use pearson correlation coefficient to analyze the correlation between the variables and our target variable. Scipy was used rather than pandas correlation function so that we can extract and use the pvalue as well."
   ]
  },
  {
   "cell_type": "code",
   "execution_count": null,
   "metadata": {},
   "outputs": [],
   "source": [
    "from scipy.stats import pearsonr\n",
    "\n",
    "# Calculate Correlation of all quantitative variables with target variable\n",
    "quantitative_corr = {\n",
    "    \"Column\": [],\n",
    "    \"Correlation\": [],\n",
    "    \"P-value\": [],\n",
    "}  # Create a dictionary to store the results\n",
    "for col in quantitatives.columns:\n",
    "    corr, pvalue = pearsonr(\n",
    "        quantitatives[col], quantitatives[\"target\"]\n",
    "    )  # Calculate the correlation and p-value using the pearsonr function\n",
    "    quantitative_corr[\"Column\"].append(col)\n",
    "    quantitative_corr[\"Correlation\"].append(corr)\n",
    "    quantitative_corr[\"P-value\"].append(pvalue)\n",
    "# Create a DataFrame from the dictionary and sort it by the correlation and P-value\n",
    "quant_corr = (\n",
    "    pd.DataFrame(quantitative_corr)\n",
    "    .sort_values(by=[\"Correlation\", \"P-value\"], ascending=False, key=(abs))\n",
    "    .reset_index()\n",
    "    .drop(0)\n",
    "    .drop(columns=\"index\")\n",
    ")"
   ]
  },
  {
   "cell_type": "code",
   "execution_count": null,
   "metadata": {},
   "outputs": [
    {
     "data": {
      "text/html": [
       "<div>\n",
       "<style scoped>\n",
       "    .dataframe tbody tr th:only-of-type {\n",
       "        vertical-align: middle;\n",
       "    }\n",
       "\n",
       "    .dataframe tbody tr th {\n",
       "        vertical-align: top;\n",
       "    }\n",
       "\n",
       "    .dataframe thead th {\n",
       "        text-align: right;\n",
       "    }\n",
       "</style>\n",
       "<table border=\"1\" class=\"dataframe\">\n",
       "  <thead>\n",
       "    <tr style=\"text-align: right;\">\n",
       "      <th></th>\n",
       "      <th>Column</th>\n",
       "      <th>Correlation</th>\n",
       "      <th>P-value</th>\n",
       "    </tr>\n",
       "  </thead>\n",
       "  <tbody>\n",
       "    <tr>\n",
       "      <th>1</th>\n",
       "      <td>HH</td>\n",
       "      <td>0.268071</td>\n",
       "      <td>0.000000e+00</td>\n",
       "    </tr>\n",
       "    <tr>\n",
       "      <th>2</th>\n",
       "      <td>KMANNU</td>\n",
       "      <td>0.205376</td>\n",
       "      <td>4.007308e-227</td>\n",
       "    </tr>\n",
       "    <tr>\n",
       "      <th>3</th>\n",
       "      <td>JOURTR</td>\n",
       "      <td>0.190734</td>\n",
       "      <td>1.334825e-195</td>\n",
       "    </tr>\n",
       "    <tr>\n",
       "      <th>4</th>\n",
       "      <td>NBRKM</td>\n",
       "      <td>0.181284</td>\n",
       "      <td>1.392872e-176</td>\n",
       "    </tr>\n",
       "    <tr>\n",
       "      <th>5</th>\n",
       "      <td>CJACTOCCUP</td>\n",
       "      <td>-0.167778</td>\n",
       "      <td>3.490268e-151</td>\n",
       "    </tr>\n",
       "    <tr>\n",
       "      <th>...</th>\n",
       "      <td>...</td>\n",
       "      <td>...</td>\n",
       "      <td>...</td>\n",
       "    </tr>\n",
       "    <tr>\n",
       "      <th>72</th>\n",
       "      <td>INFOH</td>\n",
       "      <td>0.002117</td>\n",
       "      <td>7.427827e-01</td>\n",
       "    </tr>\n",
       "    <tr>\n",
       "      <th>73</th>\n",
       "      <td>DATACCM</td>\n",
       "      <td>-0.001456</td>\n",
       "      <td>8.214214e-01</td>\n",
       "    </tr>\n",
       "    <tr>\n",
       "      <th>74</th>\n",
       "      <td>ANARRIV</td>\n",
       "      <td>0.001345</td>\n",
       "      <td>8.348608e-01</td>\n",
       "    </tr>\n",
       "    <tr>\n",
       "      <th>75</th>\n",
       "      <td>POURCLIEN</td>\n",
       "      <td>-0.000870</td>\n",
       "      <td>8.927699e-01</td>\n",
       "    </tr>\n",
       "    <tr>\n",
       "      <th>76</th>\n",
       "      <td>RABSP</td>\n",
       "      <td>-0.000859</td>\n",
       "      <td>8.940753e-01</td>\n",
       "    </tr>\n",
       "  </tbody>\n",
       "</table>\n",
       "<p>76 rows × 3 columns</p>\n",
       "</div>"
      ],
      "text/plain": [
       "        Column  Correlation        P-value\n",
       "1           HH     0.268071   0.000000e+00\n",
       "2       KMANNU     0.205376  4.007308e-227\n",
       "3       JOURTR     0.190734  1.334825e-195\n",
       "4        NBRKM     0.181284  1.392872e-176\n",
       "5   CJACTOCCUP    -0.167778  3.490268e-151\n",
       "..         ...          ...            ...\n",
       "72       INFOH     0.002117   7.427827e-01\n",
       "73     DATACCM    -0.001456   8.214214e-01\n",
       "74     ANARRIV     0.001345   8.348608e-01\n",
       "75   POURCLIEN    -0.000870   8.927699e-01\n",
       "76       RABSP    -0.000859   8.940753e-01\n",
       "\n",
       "[76 rows x 3 columns]"
      ]
     },
     "execution_count": 125,
     "metadata": {},
     "output_type": "execute_result"
    }
   ],
   "source": [
    "quant_corr"
   ]
  },
  {
   "cell_type": "markdown",
   "metadata": {},
   "source": [
    "##### We apply a filter on the resulting data frame to keep only relevant correlations (**'P-value'<0.05**) and those having a (**correlation coefficient > 0.1**) in absolute value."
   ]
  },
  {
   "cell_type": "code",
   "execution_count": null,
   "metadata": {},
   "outputs": [],
   "source": [
    "quant_corr_filtered = quant_corr[\n",
    "    (quant_corr[\"P-value\"] < 0.05) & (abs(quant_corr[\"Correlation\"]) > 0.1)\n",
    "]"
   ]
  },
  {
   "cell_type": "code",
   "execution_count": null,
   "metadata": {},
   "outputs": [
    {
     "data": {
      "application/vnd.plotly.v1+json": {
       "config": {
        "plotlyServerURL": "https://plot.ly"
       },
       "data": [
        {
         "alignmentgroup": "True",
         "hovertemplate": "Column=%{x}<br>Correlation=%{text}<br>color=%{marker.color}<extra></extra>",
         "legendgroup": "",
         "marker": {
          "color": [
           0.2680712606717622,
           0.20537625056206557,
           0.190734414780538,
           0.18128419771979237,
           0.16777843684076418,
           0.11524751640596409,
           0.10437628813955944
          ],
          "coloraxis": "coloraxis",
          "pattern": {
           "shape": ""
          }
         },
         "name": "",
         "offsetgroup": "",
         "orientation": "v",
         "showlegend": false,
         "text": [
          0.2680712606717622,
          0.20537625056206557,
          0.190734414780538,
          0.18128419771979237,
          -0.16777843684076418,
          0.11524751640596409,
          0.10437628813955944
         ],
         "textposition": "inside",
         "texttemplate": "%{text:.2f}",
         "type": "bar",
         "x": [
          "HH",
          "KMANNU",
          "JOURTR",
          "NBRKM",
          "CJACTOCCUP",
          "REVMENS",
          "revmensc"
         ],
         "xaxis": "x",
         "y": [
          0.2680712606717622,
          0.20537625056206557,
          0.190734414780538,
          0.18128419771979237,
          -0.16777843684076418,
          0.11524751640596409,
          0.10437628813955944
         ],
         "yaxis": "y"
        }
       ],
       "layout": {
        "barmode": "relative",
        "coloraxis": {
         "colorbar": {
          "title": {
           "text": "Absolute Correlation"
          }
         },
         "colorscale": [
          [
           0,
           "rgb(247,251,255)"
          ],
          [
           0.125,
           "rgb(222,235,247)"
          ],
          [
           0.25,
           "rgb(198,219,239)"
          ],
          [
           0.375,
           "rgb(158,202,225)"
          ],
          [
           0.5,
           "rgb(107,174,214)"
          ],
          [
           0.625,
           "rgb(66,146,198)"
          ],
          [
           0.75,
           "rgb(33,113,181)"
          ],
          [
           0.875,
           "rgb(8,81,156)"
          ],
          [
           1,
           "rgb(8,48,107)"
          ]
         ]
        },
        "legend": {
         "tracegroupgap": 0
        },
        "template": {
         "data": {
          "bar": [
           {
            "error_x": {
             "color": "#2a3f5f"
            },
            "error_y": {
             "color": "#2a3f5f"
            },
            "marker": {
             "line": {
              "color": "#E5ECF6",
              "width": 0.5
             },
             "pattern": {
              "fillmode": "overlay",
              "size": 10,
              "solidity": 0.2
             }
            },
            "type": "bar"
           }
          ],
          "barpolar": [
           {
            "marker": {
             "line": {
              "color": "#E5ECF6",
              "width": 0.5
             },
             "pattern": {
              "fillmode": "overlay",
              "size": 10,
              "solidity": 0.2
             }
            },
            "type": "barpolar"
           }
          ],
          "carpet": [
           {
            "aaxis": {
             "endlinecolor": "#2a3f5f",
             "gridcolor": "white",
             "linecolor": "white",
             "minorgridcolor": "white",
             "startlinecolor": "#2a3f5f"
            },
            "baxis": {
             "endlinecolor": "#2a3f5f",
             "gridcolor": "white",
             "linecolor": "white",
             "minorgridcolor": "white",
             "startlinecolor": "#2a3f5f"
            },
            "type": "carpet"
           }
          ],
          "choropleth": [
           {
            "colorbar": {
             "outlinewidth": 0,
             "ticks": ""
            },
            "type": "choropleth"
           }
          ],
          "contour": [
           {
            "colorbar": {
             "outlinewidth": 0,
             "ticks": ""
            },
            "colorscale": [
             [
              0,
              "#0d0887"
             ],
             [
              0.1111111111111111,
              "#46039f"
             ],
             [
              0.2222222222222222,
              "#7201a8"
             ],
             [
              0.3333333333333333,
              "#9c179e"
             ],
             [
              0.4444444444444444,
              "#bd3786"
             ],
             [
              0.5555555555555556,
              "#d8576b"
             ],
             [
              0.6666666666666666,
              "#ed7953"
             ],
             [
              0.7777777777777778,
              "#fb9f3a"
             ],
             [
              0.8888888888888888,
              "#fdca26"
             ],
             [
              1,
              "#f0f921"
             ]
            ],
            "type": "contour"
           }
          ],
          "contourcarpet": [
           {
            "colorbar": {
             "outlinewidth": 0,
             "ticks": ""
            },
            "type": "contourcarpet"
           }
          ],
          "heatmap": [
           {
            "colorbar": {
             "outlinewidth": 0,
             "ticks": ""
            },
            "colorscale": [
             [
              0,
              "#0d0887"
             ],
             [
              0.1111111111111111,
              "#46039f"
             ],
             [
              0.2222222222222222,
              "#7201a8"
             ],
             [
              0.3333333333333333,
              "#9c179e"
             ],
             [
              0.4444444444444444,
              "#bd3786"
             ],
             [
              0.5555555555555556,
              "#d8576b"
             ],
             [
              0.6666666666666666,
              "#ed7953"
             ],
             [
              0.7777777777777778,
              "#fb9f3a"
             ],
             [
              0.8888888888888888,
              "#fdca26"
             ],
             [
              1,
              "#f0f921"
             ]
            ],
            "type": "heatmap"
           }
          ],
          "heatmapgl": [
           {
            "colorbar": {
             "outlinewidth": 0,
             "ticks": ""
            },
            "colorscale": [
             [
              0,
              "#0d0887"
             ],
             [
              0.1111111111111111,
              "#46039f"
             ],
             [
              0.2222222222222222,
              "#7201a8"
             ],
             [
              0.3333333333333333,
              "#9c179e"
             ],
             [
              0.4444444444444444,
              "#bd3786"
             ],
             [
              0.5555555555555556,
              "#d8576b"
             ],
             [
              0.6666666666666666,
              "#ed7953"
             ],
             [
              0.7777777777777778,
              "#fb9f3a"
             ],
             [
              0.8888888888888888,
              "#fdca26"
             ],
             [
              1,
              "#f0f921"
             ]
            ],
            "type": "heatmapgl"
           }
          ],
          "histogram": [
           {
            "marker": {
             "pattern": {
              "fillmode": "overlay",
              "size": 10,
              "solidity": 0.2
             }
            },
            "type": "histogram"
           }
          ],
          "histogram2d": [
           {
            "colorbar": {
             "outlinewidth": 0,
             "ticks": ""
            },
            "colorscale": [
             [
              0,
              "#0d0887"
             ],
             [
              0.1111111111111111,
              "#46039f"
             ],
             [
              0.2222222222222222,
              "#7201a8"
             ],
             [
              0.3333333333333333,
              "#9c179e"
             ],
             [
              0.4444444444444444,
              "#bd3786"
             ],
             [
              0.5555555555555556,
              "#d8576b"
             ],
             [
              0.6666666666666666,
              "#ed7953"
             ],
             [
              0.7777777777777778,
              "#fb9f3a"
             ],
             [
              0.8888888888888888,
              "#fdca26"
             ],
             [
              1,
              "#f0f921"
             ]
            ],
            "type": "histogram2d"
           }
          ],
          "histogram2dcontour": [
           {
            "colorbar": {
             "outlinewidth": 0,
             "ticks": ""
            },
            "colorscale": [
             [
              0,
              "#0d0887"
             ],
             [
              0.1111111111111111,
              "#46039f"
             ],
             [
              0.2222222222222222,
              "#7201a8"
             ],
             [
              0.3333333333333333,
              "#9c179e"
             ],
             [
              0.4444444444444444,
              "#bd3786"
             ],
             [
              0.5555555555555556,
              "#d8576b"
             ],
             [
              0.6666666666666666,
              "#ed7953"
             ],
             [
              0.7777777777777778,
              "#fb9f3a"
             ],
             [
              0.8888888888888888,
              "#fdca26"
             ],
             [
              1,
              "#f0f921"
             ]
            ],
            "type": "histogram2dcontour"
           }
          ],
          "mesh3d": [
           {
            "colorbar": {
             "outlinewidth": 0,
             "ticks": ""
            },
            "type": "mesh3d"
           }
          ],
          "parcoords": [
           {
            "line": {
             "colorbar": {
              "outlinewidth": 0,
              "ticks": ""
             }
            },
            "type": "parcoords"
           }
          ],
          "pie": [
           {
            "automargin": true,
            "type": "pie"
           }
          ],
          "scatter": [
           {
            "fillpattern": {
             "fillmode": "overlay",
             "size": 10,
             "solidity": 0.2
            },
            "type": "scatter"
           }
          ],
          "scatter3d": [
           {
            "line": {
             "colorbar": {
              "outlinewidth": 0,
              "ticks": ""
             }
            },
            "marker": {
             "colorbar": {
              "outlinewidth": 0,
              "ticks": ""
             }
            },
            "type": "scatter3d"
           }
          ],
          "scattercarpet": [
           {
            "marker": {
             "colorbar": {
              "outlinewidth": 0,
              "ticks": ""
             }
            },
            "type": "scattercarpet"
           }
          ],
          "scattergeo": [
           {
            "marker": {
             "colorbar": {
              "outlinewidth": 0,
              "ticks": ""
             }
            },
            "type": "scattergeo"
           }
          ],
          "scattergl": [
           {
            "marker": {
             "colorbar": {
              "outlinewidth": 0,
              "ticks": ""
             }
            },
            "type": "scattergl"
           }
          ],
          "scattermapbox": [
           {
            "marker": {
             "colorbar": {
              "outlinewidth": 0,
              "ticks": ""
             }
            },
            "type": "scattermapbox"
           }
          ],
          "scatterpolar": [
           {
            "marker": {
             "colorbar": {
              "outlinewidth": 0,
              "ticks": ""
             }
            },
            "type": "scatterpolar"
           }
          ],
          "scatterpolargl": [
           {
            "marker": {
             "colorbar": {
              "outlinewidth": 0,
              "ticks": ""
             }
            },
            "type": "scatterpolargl"
           }
          ],
          "scatterternary": [
           {
            "marker": {
             "colorbar": {
              "outlinewidth": 0,
              "ticks": ""
             }
            },
            "type": "scatterternary"
           }
          ],
          "surface": [
           {
            "colorbar": {
             "outlinewidth": 0,
             "ticks": ""
            },
            "colorscale": [
             [
              0,
              "#0d0887"
             ],
             [
              0.1111111111111111,
              "#46039f"
             ],
             [
              0.2222222222222222,
              "#7201a8"
             ],
             [
              0.3333333333333333,
              "#9c179e"
             ],
             [
              0.4444444444444444,
              "#bd3786"
             ],
             [
              0.5555555555555556,
              "#d8576b"
             ],
             [
              0.6666666666666666,
              "#ed7953"
             ],
             [
              0.7777777777777778,
              "#fb9f3a"
             ],
             [
              0.8888888888888888,
              "#fdca26"
             ],
             [
              1,
              "#f0f921"
             ]
            ],
            "type": "surface"
           }
          ],
          "table": [
           {
            "cells": {
             "fill": {
              "color": "#EBF0F8"
             },
             "line": {
              "color": "white"
             }
            },
            "header": {
             "fill": {
              "color": "#C8D4E3"
             },
             "line": {
              "color": "white"
             }
            },
            "type": "table"
           }
          ]
         },
         "layout": {
          "annotationdefaults": {
           "arrowcolor": "#2a3f5f",
           "arrowhead": 0,
           "arrowwidth": 1
          },
          "autotypenumbers": "strict",
          "coloraxis": {
           "colorbar": {
            "outlinewidth": 0,
            "ticks": ""
           }
          },
          "colorscale": {
           "diverging": [
            [
             0,
             "#8e0152"
            ],
            [
             0.1,
             "#c51b7d"
            ],
            [
             0.2,
             "#de77ae"
            ],
            [
             0.3,
             "#f1b6da"
            ],
            [
             0.4,
             "#fde0ef"
            ],
            [
             0.5,
             "#f7f7f7"
            ],
            [
             0.6,
             "#e6f5d0"
            ],
            [
             0.7,
             "#b8e186"
            ],
            [
             0.8,
             "#7fbc41"
            ],
            [
             0.9,
             "#4d9221"
            ],
            [
             1,
             "#276419"
            ]
           ],
           "sequential": [
            [
             0,
             "#0d0887"
            ],
            [
             0.1111111111111111,
             "#46039f"
            ],
            [
             0.2222222222222222,
             "#7201a8"
            ],
            [
             0.3333333333333333,
             "#9c179e"
            ],
            [
             0.4444444444444444,
             "#bd3786"
            ],
            [
             0.5555555555555556,
             "#d8576b"
            ],
            [
             0.6666666666666666,
             "#ed7953"
            ],
            [
             0.7777777777777778,
             "#fb9f3a"
            ],
            [
             0.8888888888888888,
             "#fdca26"
            ],
            [
             1,
             "#f0f921"
            ]
           ],
           "sequentialminus": [
            [
             0,
             "#0d0887"
            ],
            [
             0.1111111111111111,
             "#46039f"
            ],
            [
             0.2222222222222222,
             "#7201a8"
            ],
            [
             0.3333333333333333,
             "#9c179e"
            ],
            [
             0.4444444444444444,
             "#bd3786"
            ],
            [
             0.5555555555555556,
             "#d8576b"
            ],
            [
             0.6666666666666666,
             "#ed7953"
            ],
            [
             0.7777777777777778,
             "#fb9f3a"
            ],
            [
             0.8888888888888888,
             "#fdca26"
            ],
            [
             1,
             "#f0f921"
            ]
           ]
          },
          "colorway": [
           "#636efa",
           "#EF553B",
           "#00cc96",
           "#ab63fa",
           "#FFA15A",
           "#19d3f3",
           "#FF6692",
           "#B6E880",
           "#FF97FF",
           "#FECB52"
          ],
          "font": {
           "color": "#2a3f5f"
          },
          "geo": {
           "bgcolor": "white",
           "lakecolor": "white",
           "landcolor": "#E5ECF6",
           "showlakes": true,
           "showland": true,
           "subunitcolor": "white"
          },
          "hoverlabel": {
           "align": "left"
          },
          "hovermode": "closest",
          "mapbox": {
           "style": "light"
          },
          "paper_bgcolor": "white",
          "plot_bgcolor": "#E5ECF6",
          "polar": {
           "angularaxis": {
            "gridcolor": "white",
            "linecolor": "white",
            "ticks": ""
           },
           "bgcolor": "#E5ECF6",
           "radialaxis": {
            "gridcolor": "white",
            "linecolor": "white",
            "ticks": ""
           }
          },
          "scene": {
           "xaxis": {
            "backgroundcolor": "#E5ECF6",
            "gridcolor": "white",
            "gridwidth": 2,
            "linecolor": "white",
            "showbackground": true,
            "ticks": "",
            "zerolinecolor": "white"
           },
           "yaxis": {
            "backgroundcolor": "#E5ECF6",
            "gridcolor": "white",
            "gridwidth": 2,
            "linecolor": "white",
            "showbackground": true,
            "ticks": "",
            "zerolinecolor": "white"
           },
           "zaxis": {
            "backgroundcolor": "#E5ECF6",
            "gridcolor": "white",
            "gridwidth": 2,
            "linecolor": "white",
            "showbackground": true,
            "ticks": "",
            "zerolinecolor": "white"
           }
          },
          "shapedefaults": {
           "line": {
            "color": "#2a3f5f"
           }
          },
          "ternary": {
           "aaxis": {
            "gridcolor": "white",
            "linecolor": "white",
            "ticks": ""
           },
           "baxis": {
            "gridcolor": "white",
            "linecolor": "white",
            "ticks": ""
           },
           "bgcolor": "#E5ECF6",
           "caxis": {
            "gridcolor": "white",
            "linecolor": "white",
            "ticks": ""
           }
          },
          "title": {
           "x": 0.05
          },
          "xaxis": {
           "automargin": true,
           "gridcolor": "white",
           "linecolor": "white",
           "ticks": "",
           "title": {
            "standoff": 15
           },
           "zerolinecolor": "white",
           "zerolinewidth": 2
          },
          "yaxis": {
           "automargin": true,
           "gridcolor": "white",
           "linecolor": "white",
           "ticks": "",
           "title": {
            "standoff": 15
           },
           "zerolinecolor": "white",
           "zerolinewidth": 2
          }
         }
        },
        "title": {
         "text": "Pearson Correlation of the quantitative variables with the target variable",
         "x": 0.5
        },
        "uniformtext": {
         "minsize": 8,
         "mode": "hide"
        },
        "xaxis": {
         "anchor": "y",
         "domain": [
          0,
          1
         ],
         "title": {
          "text": "Quantitative Variables"
         }
        },
        "yaxis": {
         "anchor": "x",
         "domain": [
          0,
          1
         ],
         "title": {
          "text": "Pearson Correlation"
         }
        }
       }
      }
     },
     "metadata": {},
     "output_type": "display_data"
    }
   ],
   "source": [
    "fig = px.bar(\n",
    "    quant_corr_filtered,\n",
    "    x=\"Column\",\n",
    "    y=\"Correlation\",\n",
    "    color=abs(quant_corr_filtered[\"Correlation\"]),\n",
    "    text=\"Correlation\",\n",
    "    color_continuous_scale=px.colors.sequential.Blues,\n",
    "    title=\"Pearson Correlation of the quantitative variables with the target variable\",\n",
    ")\n",
    "fig.update_traces(texttemplate=\"%{text:.2f}\", textposition=\"inside\")\n",
    "fig.update_layout(\n",
    "    xaxis_title=\"Quantitative Variables\",\n",
    "    yaxis_title=\"Pearson Correlation\",\n",
    "    title_x=0.5,  # Center the title\n",
    "    coloraxis_colorbar=dict(\n",
    "        title=\"Absolute Correlation\"\n",
    "    ),\n",
    "    uniformtext_minsize=8,\n",
    "    uniformtext_mode='hide'\n",
    ")\n",
    "fig.show()"
   ]
  },
  {
   "cell_type": "markdown",
   "metadata": {},
   "source": [
    "##### Using the dictionnary we analyzed the meaning/content of these variables and found recurrent ones that we eliminated"
   ]
  },
  {
   "cell_type": "code",
   "execution_count": null,
   "metadata": {},
   "outputs": [
    {
     "data": {
      "text/html": [
       "<div>\n",
       "<style scoped>\n",
       "    .dataframe tbody tr th:only-of-type {\n",
       "        vertical-align: middle;\n",
       "    }\n",
       "\n",
       "    .dataframe tbody tr th {\n",
       "        vertical-align: top;\n",
       "    }\n",
       "\n",
       "    .dataframe thead th {\n",
       "        text-align: right;\n",
       "    }\n",
       "</style>\n",
       "<table border=\"1\" class=\"dataframe\">\n",
       "  <thead>\n",
       "    <tr style=\"text-align: right;\">\n",
       "      <th></th>\n",
       "      <th>Column</th>\n",
       "      <th>Correlation</th>\n",
       "      <th>P-value</th>\n",
       "    </tr>\n",
       "  </thead>\n",
       "  <tbody>\n",
       "    <tr>\n",
       "      <th>0</th>\n",
       "      <td>HH</td>\n",
       "      <td>0.268071</td>\n",
       "      <td>0.000000e+00</td>\n",
       "    </tr>\n",
       "    <tr>\n",
       "      <th>1</th>\n",
       "      <td>KMANNU</td>\n",
       "      <td>0.205376</td>\n",
       "      <td>4.007308e-227</td>\n",
       "    </tr>\n",
       "    <tr>\n",
       "      <th>2</th>\n",
       "      <td>REVMENS</td>\n",
       "      <td>0.115248</td>\n",
       "      <td>7.969893e-72</td>\n",
       "    </tr>\n",
       "  </tbody>\n",
       "</table>\n",
       "</div>"
      ],
      "text/plain": [
       "    Column  Correlation        P-value\n",
       "0       HH     0.268071   0.000000e+00\n",
       "1   KMANNU     0.205376  4.007308e-227\n",
       "2  REVMENS     0.115248   7.969893e-72"
      ]
     },
     "execution_count": 128,
     "metadata": {},
     "output_type": "execute_result"
    }
   ],
   "source": [
    "quant_corr_filtered = (\n",
    "    quant_corr_filtered.set_index(\"Column\") # Set the column as the index \n",
    "    .drop([\"JOURTR\", \"CJACTOCCUP\", \"revmensc\", \"NBRKM\"]) \n",
    "    .reset_index()\n",
    ")\n",
    "quant_corr_filtered"
   ]
  },
  {
   "cell_type": "markdown",
   "metadata": {},
   "source": [
    "##### We also found that one of the variables **'CJACTOCCUP'** is a qualitative one "
   ]
  },
  {
   "cell_type": "code",
   "execution_count": null,
   "metadata": {},
   "outputs": [],
   "source": [
    "df[\"CJACTOCCUP\"] = df[\"CJACTOCCUP\"].apply(lambda x: str(x)) # Convert the column to string"
   ]
  },
  {
   "cell_type": "markdown",
   "metadata": {},
   "source": [
    "---"
   ]
  },
  {
   "cell_type": "markdown",
   "metadata": {},
   "source": [
    "### B. Qualitative Data"
   ]
  },
  {
   "cell_type": "code",
   "execution_count": null,
   "metadata": {},
   "outputs": [
    {
     "data": {
      "text/plain": [
       "(24024, 463)"
      ]
     },
     "execution_count": 130,
     "metadata": {},
     "output_type": "execute_result"
    }
   ],
   "source": [
    "# Get qualitative variables to calculate chi² correlation\n",
    "qualitatives = df.select_dtypes(include=[\"object\"])\n",
    "qualitatives.shape"
   ]
  },
  {
   "cell_type": "code",
   "execution_count": null,
   "metadata": {},
   "outputs": [],
   "source": [
    "# Copy the target variable to the qualitatives DataFrame\n",
    "qualitatives[\"target\"] = df[\"target\"]"
   ]
  },
  {
   "cell_type": "markdown",
   "metadata": {},
   "source": [
    "#### Analysis of the missing values:"
   ]
  },
  {
   "cell_type": "code",
   "execution_count": null,
   "metadata": {},
   "outputs": [
    {
     "data": {
      "text/plain": [
       "LIEN_20    24024\n",
       "LIEN_19    24024\n",
       "LIEN_18    24023\n",
       "LIEN_16    24021\n",
       "LIEN_17    24021\n",
       "           ...  \n",
       "RISQUAL        0\n",
       "RISFINA        0\n",
       "RISDANG        0\n",
       "RISEMPL        0\n",
       "target         0\n",
       "Length: 464, dtype: int64"
      ]
     },
     "execution_count": 132,
     "metadata": {},
     "output_type": "execute_result"
    }
   ],
   "source": [
    "qualitatives.isna().sum().sort_values(ascending=False)"
   ]
  },
  {
   "cell_type": "code",
   "execution_count": 133,
   "metadata": {},
   "outputs": [
    {
     "data": {
      "application/vnd.plotly.v1+json": {
       "config": {
        "plotlyServerURL": "https://plot.ly"
       },
       "data": [
        {
         "alignmentgroup": "True",
         "hovertemplate": "variable=0<br>index=%{x}<br>value=%{y}<extra></extra>",
         "legendgroup": "0",
         "marker": {
          "color": "#636efa",
          "pattern": {
           "shape": ""
          }
         },
         "name": "0",
         "offsetgroup": "0",
         "orientation": "v",
         "showlegend": true,
         "textposition": "auto",
         "type": "bar",
         "x": [
          "LIEN_20",
          "LIEN_19",
          "LIEN_18",
          "LIEN_16",
          "LIEN_17",
          "LIEN_15",
          "LIEN_14",
          "LIEN_13",
          "LIEN_12",
          "LIEN_11",
          "NUMFA_SOURCE",
          "SSECH_SOURCE",
          "IDENT_FA_SOURCE",
          "IDENT_LOG_SOURCE",
          "IDENT_MEN_SOURCE",
          "IDENT_IND_SOURCE",
          "DOUBLONTYPE",
          "LIEN_10",
          "LANG4",
          "LIEN_09",
          "NATIO1NB",
          "INFORM",
          "AIDE2E",
          "AIDFAM",
          "LIEN_08",
          "AFTYPTRAV",
          "NBSALAID",
          "AIDE1E",
          "TRAJET_DRAP",
          "PASTRA",
          "LANG2",
          "TPSINTU",
          "LIEN_07",
          "FORMINIT",
          "ETUDIPL",
          "ACTUACC2",
          "OPA",
          "AIDOM",
          "LIEN_06",
          "RABSPU",
          "REVTRNSA",
          "nati",
          "EREG",
          "ACTUACC1",
          "REVTRSAL",
          "RDET",
          "DUDETU",
          "INDEMNI",
          "REDRISK",
          "SIGN",
          "ARRET",
          "NBSAL",
          "ASTRCOMP",
          "RABS",
          "APPLINSP",
          "CLIENT",
          "SYNDICNS",
          "PREJOUR",
          "NUICOMP",
          "LIEN_05",
          "natnaismer",
          "natnaisper",
          "CHGTINFL",
          "RAISTP",
          "TXTPPB",
          "PRESEM",
          "STATUTEXT",
          "ASSOEVAL",
          "TRANCHRE",
          "DIMCOMP",
          "NBSALB",
          "PACS",
          "OBJATTEIN",
          "OBJMODIF",
          "POLYERR",
          "POLYQUAL",
          "RISKINF3",
          "RISKINF4",
          "RISKINF2",
          "RISKINF1",
          "RISKINF5",
          "B3H",
          "B3G",
          "B3F",
          "B3E",
          "B3D",
          "B3C",
          "B3B",
          "B3A",
          "B2D",
          "B2C",
          "B2A",
          "B2B",
          "NBRKMU",
          "TITPUB",
          "CYCLE",
          "APPLIQ",
          "CHANGOP",
          "TENSION4",
          "CHGTINFO",
          "CHGTCONS",
          "RWDEMAND",
          "LIEN_04",
          "NBSALENTC",
          "AUTRETA",
          "EVACRIT",
          "EPIUTIL",
          "DICOL",
          "MELDOM",
          "DICHEF",
          "INTERACT",
          "CSEDEB",
          "cserdeb",
          "PROFDEB",
          "STATUTA",
          "CHGTCOLL",
          "REMPLAS",
          "LIEN_03",
          "HSUPCOMP",
          "REUNION",
          "INFOHU2",
          "INFOHU1",
          "RWNORMJ",
          "csermer",
          "PROFMER",
          "CSEMER",
          "ITOTREV",
          "STATUTM",
          "PUBLIC1",
          "PUBLIC2",
          "TENSION1",
          "DIFPAYE",
          "DRH",
          "NBSALA",
          "DOCEVAL",
          "FORMSEC",
          "FORTMOD1",
          "FONCTION",
          "TYPEMPLOI",
          "CLASSIF",
          "LIEUW",
          "DISCURP",
          "SECURITE",
          "EVA",
          "POLY",
          "SYNDIC",
          "RWSURV",
          "COMMENT",
          "ACCHEF",
          "VISITUNI",
          "EPI",
          "COLLECT",
          "AIDCHEF",
          "TENSION2",
          "STARK",
          "MEDECIN",
          "RISK",
          "JOINDRE",
          "PRISCONG",
          "CONGEU",
          "DEPNAIS",
          "TCDD",
          "cserper",
          "PROFPER",
          "CSEPER",
          "STATUTP",
          "TINTERIM",
          "C1D",
          "C1C",
          "C1B",
          "C1E",
          "C2",
          "C1A",
          "B6",
          "B5F",
          "B5E",
          "B5D",
          "B5C",
          "B5B",
          "B5A",
          "B4D",
          "B4C",
          "B4B",
          "B4A",
          "B1G",
          "B1I",
          "B1H",
          "B1J",
          "B1F",
          "B1E",
          "B1D",
          "B1C",
          "B1B",
          "B1A",
          "A2F",
          "A2B",
          "A2C",
          "A2D",
          "A2E",
          "A2G",
          "A2L",
          "A2K",
          "A2H",
          "A2I",
          "A2J",
          "A2A",
          "A1L",
          "A1K",
          "A1J",
          "A1I",
          "A1G",
          "A1F",
          "A1E",
          "A1H",
          "A1D",
          "A1C",
          "A1B",
          "A1A",
          "INTRO",
          "FORTMOD6",
          "FORTMOD5",
          "FORTMOD4",
          "FORTMOD3",
          "FRANCE",
          "AIDEXT",
          "CHSCT",
          "AIDAUTR",
          "RESDOM",
          "PAYECOM",
          "FINETUDU",
          "FORTMOD7",
          "FORTMOD2",
          "LIBCONG",
          "ARETMAL",
          "TPP",
          "DEMENA",
          "DEMPRO",
          "NBEMP",
          "TCHOL",
          "TSAN",
          "TCHOC",
          "TINA",
          "TINDEP",
          "ACTIVFIN",
          "AUTSAL",
          "REPQAA",
          "region",
          "NUMENQ_ANON",
          "LE",
          "NUMFA",
          "EC",
          "IDENT_LOG",
          "IDENT_FA",
          "BS",
          "PER1E",
          "CHERCHEUR",
          "MER1E",
          "peun",
          "peun10",
          "SITUA",
          "CJSITUA",
          "TRAREF",
          "cser",
          "CSE",
          "PE",
          "LANG1",
          "SAMEDI",
          "NUIT",
          "PTMATIN",
          "DIMANCHE",
          "SOIR",
          "naf17",
          "fap87",
          "HHTOT_DRAP",
          "naf4",
          "JOURTR_DRAP",
          "FINH_DRAP",
          "fap225",
          "DATACCA_DRAP",
          "NBSAME_DRAP",
          "NBJARR_DRAP",
          "NBDIMA_DRAP",
          "DEBUTH_DRAP",
          "DATACCM_DRAP",
          "DEBUTM_DRAP",
          "RESTMAIN_DRAP",
          "NATIO1NA",
          "congetr",
          "naf38",
          "FIN2H_DRAP",
          "NBASTR_DRAP",
          "COMBIEN_DRAP",
          "DEBUT2M_DRAP",
          "DEBUT2H_DRAP",
          "TPMAISON_DRAP",
          "CONGE_DRAP",
          "ATMAL_DRAP",
          "NBRKM_DRAP",
          "INFOH_DRAP",
          "REVMENS_DRAP",
          "FINM_DRAP",
          "lnaismer",
          "lnaisper",
          "lnaisd",
          "HH_DRAP",
          "DUDET_DRAP",
          "ANETA_DRAP",
          "POURCLIEN_DRAP",
          "TOTREVEN_DRAP",
          "DIPLOME",
          "csei",
          "militaire",
          "CHAMP_CT2005",
          "ELIGEXT",
          "V",
          "typrepqaa",
          "STATUT",
          "FIN2M_DRAP",
          "RGES",
          "ETUDES",
          "SSECH",
          "INTERNET",
          "NAIP",
          "NAIM",
          "LIENMIG",
          "DEBDETM_DRAP",
          "QUAL_SIRET",
          "CHAMP_EMPL",
          "DAMOIS_DRAP",
          "QUAL_EMPLX",
          "DATANT_DRAP",
          "QUAL_ADR",
          "TPSINT_DRAP",
          "QUALITE_VOLET",
          "MERIMMI",
          "TYPEXTFP",
          "PREVIS",
          "NATIO",
          "DEBDETA_DRAP",
          "IMMI",
          "PERIMMI",
          "NBNUIT_DRAP",
          "CORRFORM",
          "ACTIM",
          "SECTOXNO",
          "HSUP",
          "ASTREINTE",
          "MAISON",
          "MISSION",
          "URGFAM1",
          "CVFVP",
          "AIDHID",
          "CWDEBOU",
          "CWPOSTU",
          "CWDEPLA",
          "CWLOURD",
          "CWMVT",
          "CWVIB",
          "CWVUE",
          "CWLETR",
          "CWMINUS",
          "CWVISO",
          "HYGSAL",
          "HYGCHUMI",
          "HYGCOUR",
          "HYGODEUR",
          "HYGCHAUD",
          "HYGFROID",
          "HYGSANI",
          "HYGVUE",
          "HYGPRIV",
          "CONDUITE",
          "CONTROLE",
          "PERIODE",
          "HORVAR",
          "ETAMATRI",
          "IDENT_MEN",
          "IDENT_IND",
          "TYPMEN5",
          "TYPMEN15",
          "IR",
          "CJACTOCCUP",
          "AGEQ",
          "LNAIS",
          "NAIS7",
          "COUPLE",
          "COUPLRP",
          "CONJOINT",
          "ENFANT",
          "PREMOIS",
          "LIEN_01",
          "LIEN_02",
          "TYPOLOG",
          "IPROPLOC",
          "AUTLOG",
          "IPRAN",
          "FAMPRINC",
          "CJENQUETE",
          "ENCADR",
          "REPOS",
          "DETHOR",
          "HORANGT",
          "SECFUPOU",
          "SECINFEC",
          "ACTIP",
          "SECACCID",
          "AIDCOLL",
          "TRAVSEUL",
          "ACCOL",
          "TENSION3",
          "DETRESSE",
          "CALMER",
          "CONTRAD",
          "CORRTAN",
          "CORRINF",
          "CORRCOP",
          "CORRCOL",
          "CORRLOG",
          "CORRMAT",
          "TELEPORT",
          "MICRO1",
          "MICRO2",
          "MEL",
          "INTRANET",
          "CRAINTE",
          "METIER",
          "NOCHOM",
          "TENIR",
          "SOUHAIT",
          "BSANTE",
          "BCHRO",
          "BLIMI",
          "BRECO",
          "COMPUTIL2",
          "COMPUTIL1",
          "SIEG34",
          "DEBORD",
          "SECROUT",
          "ENTENDR",
          "ACCIDT",
          "RWDEP",
          "RWCAD",
          "RWTECH",
          "RWCOLEG",
          "RWNORMH",
          "RWDEM",
          "RWINFO",
          "CHAINE",
          "DEPECH",
          "OBJECTIF",
          "RESTMAI",
          "DELAIS",
          "PUBLIC",
          "INTERUP",
          "INCIDENT",
          "PROCEDUR",
          "REPETE",
          "MONOTON",
          "NOUVELLE",
          "RISQUAL",
          "RISFINA",
          "RISDANG",
          "RISEMPL",
          "target"
         ],
         "xaxis": "x",
         "y": [
          24024,
          24024,
          24023,
          24021,
          24021,
          24020,
          24018,
          24018,
          24017,
          24014,
          24012,
          24012,
          24012,
          24012,
          24012,
          24012,
          24011,
          24004,
          24002,
          23974,
          23960,
          23932,
          23932,
          23932,
          23931,
          23924,
          23924,
          23924,
          23894,
          23863,
          23832,
          23777,
          23764,
          23575,
          23575,
          23549,
          23336,
          23235,
          23203,
          23107,
          23096,
          22926,
          22880,
          22462,
          22271,
          22257,
          22188,
          22163,
          22163,
          22163,
          21987,
          21480,
          21480,
          21471,
          21430,
          21380,
          21380,
          21273,
          20520,
          20520,
          20361,
          20120,
          19989,
          19265,
          19265,
          19084,
          19078,
          17863,
          17755,
          17383,
          17166,
          17004,
          16975,
          16975,
          16797,
          16797,
          16366,
          16366,
          16366,
          16366,
          16366,
          16004,
          16003,
          16003,
          16003,
          16003,
          16003,
          16003,
          16003,
          16003,
          16003,
          16002,
          16002,
          15720,
          15327,
          14123,
          14097,
          14005,
          13990,
          13883,
          13883,
          13705,
          12939,
          12377,
          12152,
          11673,
          11479,
          11458,
          10737,
          9634,
          8595,
          8093,
          8093,
          8093,
          8061,
          8025,
          7575,
          7211,
          7096,
          6719,
          6523,
          6523,
          6218,
          6198,
          6198,
          6198,
          6182,
          5963,
          5663,
          5663,
          5655,
          3737,
          3736,
          3736,
          3433,
          3433,
          2881,
          2665,
          2664,
          2663,
          2645,
          2644,
          2644,
          2644,
          2644,
          2644,
          2644,
          2644,
          2644,
          2644,
          2644,
          2644,
          2644,
          2644,
          2644,
          2644,
          2644,
          2644,
          2568,
          2568,
          2371,
          2352,
          1823,
          1823,
          1823,
          1631,
          1558,
          1378,
          1378,
          1307,
          1307,
          1307,
          1306,
          1306,
          1305,
          1305,
          1305,
          1305,
          1304,
          1303,
          1303,
          1303,
          1303,
          1303,
          1300,
          1300,
          1300,
          1300,
          1299,
          1299,
          1299,
          1298,
          1298,
          1298,
          1296,
          1296,
          1296,
          1296,
          1296,
          1296,
          1296,
          1296,
          1296,
          1296,
          1296,
          1295,
          1294,
          1292,
          1292,
          1292,
          1291,
          1291,
          1291,
          1291,
          1290,
          1289,
          1289,
          1288,
          1180,
          1022,
          1022,
          1022,
          1022,
          789,
          789,
          789,
          789,
          789,
          302,
          253,
          237,
          237,
          187,
          187,
          187,
          133,
          133,
          132,
          131,
          131,
          131,
          131,
          131,
          123,
          100,
          81,
          52,
          52,
          52,
          52,
          52,
          52,
          52,
          52,
          38,
          22,
          18,
          13,
          13,
          4,
          4,
          4,
          3,
          3,
          3,
          3,
          1,
          1,
          1,
          1,
          1,
          0,
          0,
          0,
          0,
          0,
          0,
          0,
          0,
          0,
          0,
          0,
          0,
          0,
          0,
          0,
          0,
          0,
          0,
          0,
          0,
          0,
          0,
          0,
          0,
          0,
          0,
          0,
          0,
          0,
          0,
          0,
          0,
          0,
          0,
          0,
          0,
          0,
          0,
          0,
          0,
          0,
          0,
          0,
          0,
          0,
          0,
          0,
          0,
          0,
          0,
          0,
          0,
          0,
          0,
          0,
          0,
          0,
          0,
          0,
          0,
          0,
          0,
          0,
          0,
          0,
          0,
          0,
          0,
          0,
          0,
          0,
          0,
          0,
          0,
          0,
          0,
          0,
          0,
          0,
          0,
          0,
          0,
          0,
          0,
          0,
          0,
          0,
          0,
          0,
          0,
          0,
          0,
          0,
          0,
          0,
          0,
          0,
          0,
          0,
          0,
          0,
          0,
          0,
          0,
          0,
          0,
          0,
          0,
          0,
          0,
          0,
          0,
          0,
          0,
          0,
          0,
          0,
          0,
          0,
          0,
          0,
          0,
          0,
          0,
          0,
          0,
          0,
          0,
          0,
          0,
          0,
          0,
          0,
          0,
          0,
          0,
          0,
          0,
          0,
          0,
          0,
          0,
          0,
          0,
          0,
          0,
          0,
          0,
          0,
          0,
          0,
          0,
          0,
          0,
          0,
          0,
          0,
          0,
          0,
          0,
          0,
          0,
          0,
          0,
          0,
          0,
          0,
          0,
          0,
          0,
          0,
          0,
          0,
          0,
          0,
          0,
          0,
          0,
          0,
          0,
          0,
          0,
          0,
          0,
          0,
          0,
          0,
          0,
          0,
          0,
          0,
          0,
          0
         ],
         "yaxis": "y"
        }
       ],
       "layout": {
        "barmode": "relative",
        "legend": {
         "title": {
          "text": "variable"
         },
         "tracegroupgap": 0
        },
        "showlegend": false,
        "template": {
         "data": {
          "bar": [
           {
            "error_x": {
             "color": "#2a3f5f"
            },
            "error_y": {
             "color": "#2a3f5f"
            },
            "marker": {
             "line": {
              "color": "#E5ECF6",
              "width": 0.5
             },
             "pattern": {
              "fillmode": "overlay",
              "size": 10,
              "solidity": 0.2
             }
            },
            "type": "bar"
           }
          ],
          "barpolar": [
           {
            "marker": {
             "line": {
              "color": "#E5ECF6",
              "width": 0.5
             },
             "pattern": {
              "fillmode": "overlay",
              "size": 10,
              "solidity": 0.2
             }
            },
            "type": "barpolar"
           }
          ],
          "carpet": [
           {
            "aaxis": {
             "endlinecolor": "#2a3f5f",
             "gridcolor": "white",
             "linecolor": "white",
             "minorgridcolor": "white",
             "startlinecolor": "#2a3f5f"
            },
            "baxis": {
             "endlinecolor": "#2a3f5f",
             "gridcolor": "white",
             "linecolor": "white",
             "minorgridcolor": "white",
             "startlinecolor": "#2a3f5f"
            },
            "type": "carpet"
           }
          ],
          "choropleth": [
           {
            "colorbar": {
             "outlinewidth": 0,
             "ticks": ""
            },
            "type": "choropleth"
           }
          ],
          "contour": [
           {
            "colorbar": {
             "outlinewidth": 0,
             "ticks": ""
            },
            "colorscale": [
             [
              0,
              "#0d0887"
             ],
             [
              0.1111111111111111,
              "#46039f"
             ],
             [
              0.2222222222222222,
              "#7201a8"
             ],
             [
              0.3333333333333333,
              "#9c179e"
             ],
             [
              0.4444444444444444,
              "#bd3786"
             ],
             [
              0.5555555555555556,
              "#d8576b"
             ],
             [
              0.6666666666666666,
              "#ed7953"
             ],
             [
              0.7777777777777778,
              "#fb9f3a"
             ],
             [
              0.8888888888888888,
              "#fdca26"
             ],
             [
              1,
              "#f0f921"
             ]
            ],
            "type": "contour"
           }
          ],
          "contourcarpet": [
           {
            "colorbar": {
             "outlinewidth": 0,
             "ticks": ""
            },
            "type": "contourcarpet"
           }
          ],
          "heatmap": [
           {
            "colorbar": {
             "outlinewidth": 0,
             "ticks": ""
            },
            "colorscale": [
             [
              0,
              "#0d0887"
             ],
             [
              0.1111111111111111,
              "#46039f"
             ],
             [
              0.2222222222222222,
              "#7201a8"
             ],
             [
              0.3333333333333333,
              "#9c179e"
             ],
             [
              0.4444444444444444,
              "#bd3786"
             ],
             [
              0.5555555555555556,
              "#d8576b"
             ],
             [
              0.6666666666666666,
              "#ed7953"
             ],
             [
              0.7777777777777778,
              "#fb9f3a"
             ],
             [
              0.8888888888888888,
              "#fdca26"
             ],
             [
              1,
              "#f0f921"
             ]
            ],
            "type": "heatmap"
           }
          ],
          "heatmapgl": [
           {
            "colorbar": {
             "outlinewidth": 0,
             "ticks": ""
            },
            "colorscale": [
             [
              0,
              "#0d0887"
             ],
             [
              0.1111111111111111,
              "#46039f"
             ],
             [
              0.2222222222222222,
              "#7201a8"
             ],
             [
              0.3333333333333333,
              "#9c179e"
             ],
             [
              0.4444444444444444,
              "#bd3786"
             ],
             [
              0.5555555555555556,
              "#d8576b"
             ],
             [
              0.6666666666666666,
              "#ed7953"
             ],
             [
              0.7777777777777778,
              "#fb9f3a"
             ],
             [
              0.8888888888888888,
              "#fdca26"
             ],
             [
              1,
              "#f0f921"
             ]
            ],
            "type": "heatmapgl"
           }
          ],
          "histogram": [
           {
            "marker": {
             "pattern": {
              "fillmode": "overlay",
              "size": 10,
              "solidity": 0.2
             }
            },
            "type": "histogram"
           }
          ],
          "histogram2d": [
           {
            "colorbar": {
             "outlinewidth": 0,
             "ticks": ""
            },
            "colorscale": [
             [
              0,
              "#0d0887"
             ],
             [
              0.1111111111111111,
              "#46039f"
             ],
             [
              0.2222222222222222,
              "#7201a8"
             ],
             [
              0.3333333333333333,
              "#9c179e"
             ],
             [
              0.4444444444444444,
              "#bd3786"
             ],
             [
              0.5555555555555556,
              "#d8576b"
             ],
             [
              0.6666666666666666,
              "#ed7953"
             ],
             [
              0.7777777777777778,
              "#fb9f3a"
             ],
             [
              0.8888888888888888,
              "#fdca26"
             ],
             [
              1,
              "#f0f921"
             ]
            ],
            "type": "histogram2d"
           }
          ],
          "histogram2dcontour": [
           {
            "colorbar": {
             "outlinewidth": 0,
             "ticks": ""
            },
            "colorscale": [
             [
              0,
              "#0d0887"
             ],
             [
              0.1111111111111111,
              "#46039f"
             ],
             [
              0.2222222222222222,
              "#7201a8"
             ],
             [
              0.3333333333333333,
              "#9c179e"
             ],
             [
              0.4444444444444444,
              "#bd3786"
             ],
             [
              0.5555555555555556,
              "#d8576b"
             ],
             [
              0.6666666666666666,
              "#ed7953"
             ],
             [
              0.7777777777777778,
              "#fb9f3a"
             ],
             [
              0.8888888888888888,
              "#fdca26"
             ],
             [
              1,
              "#f0f921"
             ]
            ],
            "type": "histogram2dcontour"
           }
          ],
          "mesh3d": [
           {
            "colorbar": {
             "outlinewidth": 0,
             "ticks": ""
            },
            "type": "mesh3d"
           }
          ],
          "parcoords": [
           {
            "line": {
             "colorbar": {
              "outlinewidth": 0,
              "ticks": ""
             }
            },
            "type": "parcoords"
           }
          ],
          "pie": [
           {
            "automargin": true,
            "type": "pie"
           }
          ],
          "scatter": [
           {
            "fillpattern": {
             "fillmode": "overlay",
             "size": 10,
             "solidity": 0.2
            },
            "type": "scatter"
           }
          ],
          "scatter3d": [
           {
            "line": {
             "colorbar": {
              "outlinewidth": 0,
              "ticks": ""
             }
            },
            "marker": {
             "colorbar": {
              "outlinewidth": 0,
              "ticks": ""
             }
            },
            "type": "scatter3d"
           }
          ],
          "scattercarpet": [
           {
            "marker": {
             "colorbar": {
              "outlinewidth": 0,
              "ticks": ""
             }
            },
            "type": "scattercarpet"
           }
          ],
          "scattergeo": [
           {
            "marker": {
             "colorbar": {
              "outlinewidth": 0,
              "ticks": ""
             }
            },
            "type": "scattergeo"
           }
          ],
          "scattergl": [
           {
            "marker": {
             "colorbar": {
              "outlinewidth": 0,
              "ticks": ""
             }
            },
            "type": "scattergl"
           }
          ],
          "scattermapbox": [
           {
            "marker": {
             "colorbar": {
              "outlinewidth": 0,
              "ticks": ""
             }
            },
            "type": "scattermapbox"
           }
          ],
          "scatterpolar": [
           {
            "marker": {
             "colorbar": {
              "outlinewidth": 0,
              "ticks": ""
             }
            },
            "type": "scatterpolar"
           }
          ],
          "scatterpolargl": [
           {
            "marker": {
             "colorbar": {
              "outlinewidth": 0,
              "ticks": ""
             }
            },
            "type": "scatterpolargl"
           }
          ],
          "scatterternary": [
           {
            "marker": {
             "colorbar": {
              "outlinewidth": 0,
              "ticks": ""
             }
            },
            "type": "scatterternary"
           }
          ],
          "surface": [
           {
            "colorbar": {
             "outlinewidth": 0,
             "ticks": ""
            },
            "colorscale": [
             [
              0,
              "#0d0887"
             ],
             [
              0.1111111111111111,
              "#46039f"
             ],
             [
              0.2222222222222222,
              "#7201a8"
             ],
             [
              0.3333333333333333,
              "#9c179e"
             ],
             [
              0.4444444444444444,
              "#bd3786"
             ],
             [
              0.5555555555555556,
              "#d8576b"
             ],
             [
              0.6666666666666666,
              "#ed7953"
             ],
             [
              0.7777777777777778,
              "#fb9f3a"
             ],
             [
              0.8888888888888888,
              "#fdca26"
             ],
             [
              1,
              "#f0f921"
             ]
            ],
            "type": "surface"
           }
          ],
          "table": [
           {
            "cells": {
             "fill": {
              "color": "#EBF0F8"
             },
             "line": {
              "color": "white"
             }
            },
            "header": {
             "fill": {
              "color": "#C8D4E3"
             },
             "line": {
              "color": "white"
             }
            },
            "type": "table"
           }
          ]
         },
         "layout": {
          "annotationdefaults": {
           "arrowcolor": "#2a3f5f",
           "arrowhead": 0,
           "arrowwidth": 1
          },
          "autotypenumbers": "strict",
          "coloraxis": {
           "colorbar": {
            "outlinewidth": 0,
            "ticks": ""
           }
          },
          "colorscale": {
           "diverging": [
            [
             0,
             "#8e0152"
            ],
            [
             0.1,
             "#c51b7d"
            ],
            [
             0.2,
             "#de77ae"
            ],
            [
             0.3,
             "#f1b6da"
            ],
            [
             0.4,
             "#fde0ef"
            ],
            [
             0.5,
             "#f7f7f7"
            ],
            [
             0.6,
             "#e6f5d0"
            ],
            [
             0.7,
             "#b8e186"
            ],
            [
             0.8,
             "#7fbc41"
            ],
            [
             0.9,
             "#4d9221"
            ],
            [
             1,
             "#276419"
            ]
           ],
           "sequential": [
            [
             0,
             "#0d0887"
            ],
            [
             0.1111111111111111,
             "#46039f"
            ],
            [
             0.2222222222222222,
             "#7201a8"
            ],
            [
             0.3333333333333333,
             "#9c179e"
            ],
            [
             0.4444444444444444,
             "#bd3786"
            ],
            [
             0.5555555555555556,
             "#d8576b"
            ],
            [
             0.6666666666666666,
             "#ed7953"
            ],
            [
             0.7777777777777778,
             "#fb9f3a"
            ],
            [
             0.8888888888888888,
             "#fdca26"
            ],
            [
             1,
             "#f0f921"
            ]
           ],
           "sequentialminus": [
            [
             0,
             "#0d0887"
            ],
            [
             0.1111111111111111,
             "#46039f"
            ],
            [
             0.2222222222222222,
             "#7201a8"
            ],
            [
             0.3333333333333333,
             "#9c179e"
            ],
            [
             0.4444444444444444,
             "#bd3786"
            ],
            [
             0.5555555555555556,
             "#d8576b"
            ],
            [
             0.6666666666666666,
             "#ed7953"
            ],
            [
             0.7777777777777778,
             "#fb9f3a"
            ],
            [
             0.8888888888888888,
             "#fdca26"
            ],
            [
             1,
             "#f0f921"
            ]
           ]
          },
          "colorway": [
           "#636efa",
           "#EF553B",
           "#00cc96",
           "#ab63fa",
           "#FFA15A",
           "#19d3f3",
           "#FF6692",
           "#B6E880",
           "#FF97FF",
           "#FECB52"
          ],
          "font": {
           "color": "#2a3f5f"
          },
          "geo": {
           "bgcolor": "white",
           "lakecolor": "white",
           "landcolor": "#E5ECF6",
           "showlakes": true,
           "showland": true,
           "subunitcolor": "white"
          },
          "hoverlabel": {
           "align": "left"
          },
          "hovermode": "closest",
          "mapbox": {
           "style": "light"
          },
          "paper_bgcolor": "white",
          "plot_bgcolor": "#E5ECF6",
          "polar": {
           "angularaxis": {
            "gridcolor": "white",
            "linecolor": "white",
            "ticks": ""
           },
           "bgcolor": "#E5ECF6",
           "radialaxis": {
            "gridcolor": "white",
            "linecolor": "white",
            "ticks": ""
           }
          },
          "scene": {
           "xaxis": {
            "backgroundcolor": "#E5ECF6",
            "gridcolor": "white",
            "gridwidth": 2,
            "linecolor": "white",
            "showbackground": true,
            "ticks": "",
            "zerolinecolor": "white"
           },
           "yaxis": {
            "backgroundcolor": "#E5ECF6",
            "gridcolor": "white",
            "gridwidth": 2,
            "linecolor": "white",
            "showbackground": true,
            "ticks": "",
            "zerolinecolor": "white"
           },
           "zaxis": {
            "backgroundcolor": "#E5ECF6",
            "gridcolor": "white",
            "gridwidth": 2,
            "linecolor": "white",
            "showbackground": true,
            "ticks": "",
            "zerolinecolor": "white"
           }
          },
          "shapedefaults": {
           "line": {
            "color": "#2a3f5f"
           }
          },
          "ternary": {
           "aaxis": {
            "gridcolor": "white",
            "linecolor": "white",
            "ticks": ""
           },
           "baxis": {
            "gridcolor": "white",
            "linecolor": "white",
            "ticks": ""
           },
           "bgcolor": "#E5ECF6",
           "caxis": {
            "gridcolor": "white",
            "linecolor": "white",
            "ticks": ""
           }
          },
          "title": {
           "x": 0.05
          },
          "xaxis": {
           "automargin": true,
           "gridcolor": "white",
           "linecolor": "white",
           "ticks": "",
           "title": {
            "standoff": 15
           },
           "zerolinecolor": "white",
           "zerolinewidth": 2
          },
          "yaxis": {
           "automargin": true,
           "gridcolor": "white",
           "linecolor": "white",
           "ticks": "",
           "title": {
            "standoff": 15
           },
           "zerolinecolor": "white",
           "zerolinewidth": 2
          }
         }
        },
        "title": {
         "text": "Number of Missing Values in the Quantitative Variables",
         "x": 0.5
        },
        "xaxis": {
         "anchor": "y",
         "domain": [
          0,
          1
         ],
         "tickangle": -45,
         "title": {
          "text": "Quantitative Variables"
         }
        },
        "yaxis": {
         "anchor": "x",
         "domain": [
          0,
          1
         ],
         "title": {
          "text": "Number of Missing Values"
         }
        }
       }
      }
     },
     "metadata": {},
     "output_type": "display_data"
    }
   ],
   "source": [
    "# Create the bar chart\n",
    "fig = px.bar(\n",
    "    qualitatives.isna().sum().sort_values(ascending=False),\n",
    "    title=\"Number of Missing Values in the Quantitative Variables\",\n",
    "    labels={\n",
    "        \"Variable\": \"Quantitative Variables\",\n",
    "        \"MissingValues\": \"Number of Missing Values\",\n",
    "    },\n",
    ")\n",
    "\n",
    "# Update layout for better readability\n",
    "fig.update_layout(\n",
    "    xaxis_title=\"Quantitative Variables\",\n",
    "    yaxis_title=\"Number of Missing Values\",\n",
    "    title_x=0.5,  # Center the title\n",
    "    xaxis_tickangle=-45,\n",
    "    showlegend=False,\n",
    ")"
   ]
  },
  {
   "cell_type": "markdown",
   "metadata": {},
   "source": [
    "##### From the graph we decided to drop all columns with more than 2000 missing values as those could negatively impact the analysis and could not be used to calculate the relation to the target variable"
   ]
  },
  {
   "cell_type": "code",
   "execution_count": 134,
   "metadata": {},
   "outputs": [
    {
     "data": {
      "text/plain": [
       "(24024, 464)"
      ]
     },
     "execution_count": 134,
     "metadata": {},
     "output_type": "execute_result"
    }
   ],
   "source": [
    "qualitatives.shape"
   ]
  },
  {
   "cell_type": "code",
   "execution_count": 135,
   "metadata": {},
   "outputs": [],
   "source": [
    "qualitatives = qualitatives.dropna(axis=1, thresh=(len(df) - 2000)).dropna() # Drop columns with more than 2000 missing values then finally drop the rows with missing values"
   ]
  },
  {
   "cell_type": "code",
   "execution_count": 136,
   "metadata": {},
   "outputs": [
    {
     "data": {
      "text/plain": [
       "(18418, 302)"
      ]
     },
     "execution_count": 136,
     "metadata": {},
     "output_type": "execute_result"
    }
   ],
   "source": [
    "qualitatives.shape"
   ]
  },
  {
   "cell_type": "markdown",
   "metadata": {},
   "source": [
    "#### Correlation Analysis:"
   ]
  },
  {
   "cell_type": "markdown",
   "metadata": {},
   "source": [
    "##### We used the chi2 test to determine whether there is a realtion between the qualitative variables and our target variable for feature selection. The process is generally the same as the one we used for the quantitative variables."
   ]
  },
  {
   "cell_type": "code",
   "execution_count": 137,
   "metadata": {},
   "outputs": [],
   "source": [
    "from scipy.stats import chi2_contingency\n",
    "\n",
    "# Calculate Correlation of all qualitative variables with target variable\n",
    "qualitative_corr = {\n",
    "    \"Column\": [],\n",
    "    \"Chi2-stat\": [],\n",
    "    \"P-value\": [],\n",
    "    \"dof\": [],\n",
    "    \"expected\": [],\n",
    "}\n",
    "for col in qualitatives.columns:\n",
    "    contingency_table = pd.crosstab(qualitatives[col], qualitatives[\"target\"]) # Create a contingency table using the crosstab function\n",
    "    cchi2_stat, p_val, dof, expected = chi2_contingency(contingency_table) # Calculate the chi2 statistic, p-value, degrees of freedom and expected values using the chi2_contingency function\n",
    "    qualitative_corr[\"Column\"].append(col)\n",
    "    qualitative_corr[\"Chi2-stat\"].append(cchi2_stat)\n",
    "    qualitative_corr[\"P-value\"].append(p_val)\n",
    "    qualitative_corr[\"dof\"].append(dof)\n",
    "    qualitative_corr[\"expected\"].append(expected)\n",
    "\n",
    "# Create a DataFrame from the dictionary and sort it by the chi2 statistic and P-value\n",
    "quali_corr = (\n",
    "    pd.DataFrame(qualitative_corr)\n",
    "    .sort_values(by=[\"Chi2-stat\", \"P-value\"], ascending=False, key=(abs))\n",
    "    .reset_index()\n",
    "    .drop(0)\n",
    "    .drop(columns=\"index\")[1:]\n",
    ")"
   ]
  },
  {
   "cell_type": "code",
   "execution_count": 138,
   "metadata": {},
   "outputs": [
    {
     "data": {
      "text/html": [
       "<div>\n",
       "<style scoped>\n",
       "    .dataframe tbody tr th:only-of-type {\n",
       "        vertical-align: middle;\n",
       "    }\n",
       "\n",
       "    .dataframe tbody tr th {\n",
       "        vertical-align: top;\n",
       "    }\n",
       "\n",
       "    .dataframe thead th {\n",
       "        text-align: right;\n",
       "    }\n",
       "</style>\n",
       "<table border=\"1\" class=\"dataframe\">\n",
       "  <thead>\n",
       "    <tr style=\"text-align: right;\">\n",
       "      <th></th>\n",
       "      <th>Column</th>\n",
       "      <th>Chi2-stat</th>\n",
       "      <th>P-value</th>\n",
       "      <th>dof</th>\n",
       "      <th>expected</th>\n",
       "    </tr>\n",
       "  </thead>\n",
       "  <tbody>\n",
       "    <tr>\n",
       "      <th>2</th>\n",
       "      <td>IDENT_FA</td>\n",
       "      <td>11694.082450</td>\n",
       "      <td>1.0</td>\n",
       "      <td>14338</td>\n",
       "      <td>[[0.6172765772613747, 0.38272342273862525], [0...</td>\n",
       "    </tr>\n",
       "    <tr>\n",
       "      <th>3</th>\n",
       "      <td>IDENT_LOG</td>\n",
       "      <td>11694.082450</td>\n",
       "      <td>1.0</td>\n",
       "      <td>14338</td>\n",
       "      <td>[[0.6172765772613747, 0.38272342273862525], [0...</td>\n",
       "    </tr>\n",
       "    <tr>\n",
       "      <th>4</th>\n",
       "      <td>IDENT_MEN</td>\n",
       "      <td>11694.082450</td>\n",
       "      <td>1.0</td>\n",
       "      <td>14350</td>\n",
       "      <td>[[0.6172765772613747, 0.38272342273862525], [0...</td>\n",
       "    </tr>\n",
       "    <tr>\n",
       "      <th>5</th>\n",
       "      <td>PE</td>\n",
       "      <td>6422.827119</td>\n",
       "      <td>0.0</td>\n",
       "      <td>498</td>\n",
       "      <td>[[4.320936040829623, 2.6790639591703767], [0.6...</td>\n",
       "    </tr>\n",
       "    <tr>\n",
       "      <th>6</th>\n",
       "      <td>peun</td>\n",
       "      <td>6145.467554</td>\n",
       "      <td>0.0</td>\n",
       "      <td>370</td>\n",
       "      <td>[[10.493701813443371, 6.506298186556629], [10....</td>\n",
       "    </tr>\n",
       "    <tr>\n",
       "      <th>...</th>\n",
       "      <td>...</td>\n",
       "      <td>...</td>\n",
       "      <td>...</td>\n",
       "      <td>...</td>\n",
       "      <td>...</td>\n",
       "    </tr>\n",
       "    <tr>\n",
       "      <th>297</th>\n",
       "      <td>REPQAA</td>\n",
       "      <td>0.000000</td>\n",
       "      <td>1.0</td>\n",
       "      <td>0</td>\n",
       "      <td>[[11369.0, 7049.0]]</td>\n",
       "    </tr>\n",
       "    <tr>\n",
       "      <th>298</th>\n",
       "      <td>TPSINT_DRAP</td>\n",
       "      <td>0.000000</td>\n",
       "      <td>1.0</td>\n",
       "      <td>1</td>\n",
       "      <td>[[11368.38272342274, 7048.617276577262], [0.61...</td>\n",
       "    </tr>\n",
       "    <tr>\n",
       "      <th>299</th>\n",
       "      <td>DATANT_DRAP</td>\n",
       "      <td>0.000000</td>\n",
       "      <td>1.0</td>\n",
       "      <td>1</td>\n",
       "      <td>[[11363.444510804648, 7045.5554891953525], [5....</td>\n",
       "    </tr>\n",
       "    <tr>\n",
       "      <th>300</th>\n",
       "      <td>EC</td>\n",
       "      <td>0.000000</td>\n",
       "      <td>1.0</td>\n",
       "      <td>0</td>\n",
       "      <td>[[11369.0, 7049.0]]</td>\n",
       "    </tr>\n",
       "    <tr>\n",
       "      <th>301</th>\n",
       "      <td>typrepqaa</td>\n",
       "      <td>0.000000</td>\n",
       "      <td>1.0</td>\n",
       "      <td>0</td>\n",
       "      <td>[[11369.0, 7049.0]]</td>\n",
       "    </tr>\n",
       "  </tbody>\n",
       "</table>\n",
       "<p>300 rows × 5 columns</p>\n",
       "</div>"
      ],
      "text/plain": [
       "          Column     Chi2-stat  P-value    dof  \\\n",
       "2       IDENT_FA  11694.082450      1.0  14338   \n",
       "3      IDENT_LOG  11694.082450      1.0  14338   \n",
       "4      IDENT_MEN  11694.082450      1.0  14350   \n",
       "5             PE   6422.827119      0.0    498   \n",
       "6           peun   6145.467554      0.0    370   \n",
       "..           ...           ...      ...    ...   \n",
       "297       REPQAA      0.000000      1.0      0   \n",
       "298  TPSINT_DRAP      0.000000      1.0      1   \n",
       "299  DATANT_DRAP      0.000000      1.0      1   \n",
       "300           EC      0.000000      1.0      0   \n",
       "301    typrepqaa      0.000000      1.0      0   \n",
       "\n",
       "                                              expected  \n",
       "2    [[0.6172765772613747, 0.38272342273862525], [0...  \n",
       "3    [[0.6172765772613747, 0.38272342273862525], [0...  \n",
       "4    [[0.6172765772613747, 0.38272342273862525], [0...  \n",
       "5    [[4.320936040829623, 2.6790639591703767], [0.6...  \n",
       "6    [[10.493701813443371, 6.506298186556629], [10....  \n",
       "..                                                 ...  \n",
       "297                                [[11369.0, 7049.0]]  \n",
       "298  [[11368.38272342274, 7048.617276577262], [0.61...  \n",
       "299  [[11363.444510804648, 7045.5554891953525], [5....  \n",
       "300                                [[11369.0, 7049.0]]  \n",
       "301                                [[11369.0, 7049.0]]  \n",
       "\n",
       "[300 rows x 5 columns]"
      ]
     },
     "execution_count": 138,
     "metadata": {},
     "output_type": "execute_result"
    }
   ],
   "source": [
    "quali_corr"
   ]
  },
  {
   "cell_type": "markdown",
   "metadata": {},
   "source": [
    "##### We apply a filter on the resulting data frame to keep only relevant correlations (**'P-value'<0.05**). Seeing there still way to many variables we select the 50 first with the strongest chi2_stat"
   ]
  },
  {
   "cell_type": "code",
   "execution_count": 139,
   "metadata": {},
   "outputs": [],
   "source": [
    "filtered_quali_corr = quali_corr[(quali_corr[\"P-value\"] < 0.05)][:50]"
   ]
  },
  {
   "cell_type": "code",
   "execution_count": 140,
   "metadata": {},
   "outputs": [],
   "source": [
    "# Create a new column with the number of categories for each qualitative variable \n",
    "filtered_quali_corr[\"Number of categories\"] = [\n",
    "    len(qualitatives[col].unique()) for col in filtered_quali_corr[\"Column\"]\n",
    "]"
   ]
  },
  {
   "cell_type": "code",
   "execution_count": 141,
   "metadata": {},
   "outputs": [
    {
     "data": {
      "application/vnd.plotly.v1+json": {
       "config": {
        "plotlyServerURL": "https://plot.ly"
       },
       "data": [
        {
         "alignmentgroup": "True",
         "hovertemplate": "Column=%{x}<br>Chi2-stat=%{text}<br>Number of categories=%{marker.color}<extra></extra>",
         "legendgroup": "",
         "marker": {
          "color": [
           499,
           371,
           225,
           88,
           37,
           22,
           85,
           37,
           7,
           11,
           17,
           3,
           8,
           4,
           4,
           4,
           3,
           4,
           8,
           4,
           6,
           4,
           3,
           4,
           4,
           6,
           3,
           10,
           3,
           4,
           6,
           3,
           2,
           10,
           4,
           3,
           4,
           4,
           3,
           3,
           3,
           4,
           6,
           6,
           3,
           3,
           4,
           3,
           4,
           5
          ],
          "coloraxis": "coloraxis",
          "pattern": {
           "shape": ""
          }
         },
         "name": "",
         "offsetgroup": "",
         "orientation": "v",
         "showlegend": false,
         "text": [
          6422.827118741032,
          6145.467553603463,
          5950.75325791626,
          5408.458133150989,
          4798.898222810621,
          3937.053183641214,
          3276.0270551005747,
          2904.826457036068,
          2372.2742345638335,
          2301.6389908646497,
          2224.0576071383903,
          1800.495419050458,
          1605.9310095565324,
          1482.7836649732249,
          1478.4693671376517,
          1359.3410470192684,
          1348.1732432703088,
          1305.848588202065,
          1053.3968831757327,
          1035.8828463472962,
          997.7755211742822,
          956.517347919132,
          859.0643109174291,
          851.0762206082409,
          846.9236195242117,
          811.6856719835341,
          730.5229321694534,
          665.1250860565086,
          625.4769937702029,
          619.4929861756509,
          616.8214907822997,
          573.023809836529,
          491.8604665874022,
          479.30304962512525,
          441.7126192554777,
          421.1811004276563,
          405.7123168895523,
          401.39472717277687,
          400.7602710192553,
          372.95045367902395,
          372.81031855448697,
          372.61439174358924,
          354.0017395715092,
          348.60260909351825,
          347.46970143727276,
          346.91391906326027,
          338.0058042217061,
          328.20697763858465,
          326.6375660179509,
          314.0947248592143
         ],
         "textposition": "inside",
         "texttemplate": "%{text:.2f}",
         "type": "bar",
         "x": [
          "PE",
          "peun",
          "fap225",
          "fap87",
          "CSE",
          "csei",
          "ACTIVFIN",
          "naf38",
          "cser",
          "peun10",
          "naf17",
          "TPP",
          "CJSITUA",
          "SECROUT",
          "naf4",
          "NBRKM_DRAP",
          "CONDUITE",
          "TINA",
          "STATUT",
          "CWVIB",
          "TYPEXTFP",
          "SECFUPOU",
          "TELEPORT",
          "ENCADR",
          "RISFINA",
          "MISSION",
          "ELIGEXT",
          "TYPMEN15",
          "PTMATIN",
          "HYGCHUMI",
          "SSECH",
          "DETRESSE",
          "CJACTOCCUP",
          "DIPLOME",
          "HYGCOUR",
          "NUIT",
          "HYGSAL",
          "SECACCID",
          "SAMEDI",
          "ASTREINTE",
          "NBASTR_DRAP",
          "NBNUIT_DRAP",
          "A2I",
          "A2E",
          "SOIR",
          "PUBLIC",
          "SECINFEC",
          "DEMPRO",
          "DELAIS",
          "INCIDENT"
         ],
         "xaxis": "x",
         "y": [
          6422.827118741032,
          6145.467553603463,
          5950.75325791626,
          5408.458133150989,
          4798.898222810621,
          3937.053183641214,
          3276.0270551005747,
          2904.826457036068,
          2372.2742345638335,
          2301.6389908646497,
          2224.0576071383903,
          1800.495419050458,
          1605.9310095565324,
          1482.7836649732249,
          1478.4693671376517,
          1359.3410470192684,
          1348.1732432703088,
          1305.848588202065,
          1053.3968831757327,
          1035.8828463472962,
          997.7755211742822,
          956.517347919132,
          859.0643109174291,
          851.0762206082409,
          846.9236195242117,
          811.6856719835341,
          730.5229321694534,
          665.1250860565086,
          625.4769937702029,
          619.4929861756509,
          616.8214907822997,
          573.023809836529,
          491.8604665874022,
          479.30304962512525,
          441.7126192554777,
          421.1811004276563,
          405.7123168895523,
          401.39472717277687,
          400.7602710192553,
          372.95045367902395,
          372.81031855448697,
          372.61439174358924,
          354.0017395715092,
          348.60260909351825,
          347.46970143727276,
          346.91391906326027,
          338.0058042217061,
          328.20697763858465,
          326.6375660179509,
          314.0947248592143
         ],
         "yaxis": "y"
        }
       ],
       "layout": {
        "barmode": "relative",
        "coloraxis": {
         "colorbar": {
          "title": {
           "text": "Number of categories"
          }
         },
         "colorscale": [
          [
           0,
           "rgb(8,48,107)"
          ],
          [
           0.125,
           "rgb(8,81,156)"
          ],
          [
           0.25,
           "rgb(33,113,181)"
          ],
          [
           0.375,
           "rgb(66,146,198)"
          ],
          [
           0.5,
           "rgb(107,174,214)"
          ],
          [
           0.625,
           "rgb(158,202,225)"
          ],
          [
           0.75,
           "rgb(198,219,239)"
          ],
          [
           0.875,
           "rgb(222,235,247)"
          ],
          [
           1,
           "rgb(247,251,255)"
          ]
         ]
        },
        "legend": {
         "tracegroupgap": 0
        },
        "template": {
         "data": {
          "bar": [
           {
            "error_x": {
             "color": "#2a3f5f"
            },
            "error_y": {
             "color": "#2a3f5f"
            },
            "marker": {
             "line": {
              "color": "#E5ECF6",
              "width": 0.5
             },
             "pattern": {
              "fillmode": "overlay",
              "size": 10,
              "solidity": 0.2
             }
            },
            "type": "bar"
           }
          ],
          "barpolar": [
           {
            "marker": {
             "line": {
              "color": "#E5ECF6",
              "width": 0.5
             },
             "pattern": {
              "fillmode": "overlay",
              "size": 10,
              "solidity": 0.2
             }
            },
            "type": "barpolar"
           }
          ],
          "carpet": [
           {
            "aaxis": {
             "endlinecolor": "#2a3f5f",
             "gridcolor": "white",
             "linecolor": "white",
             "minorgridcolor": "white",
             "startlinecolor": "#2a3f5f"
            },
            "baxis": {
             "endlinecolor": "#2a3f5f",
             "gridcolor": "white",
             "linecolor": "white",
             "minorgridcolor": "white",
             "startlinecolor": "#2a3f5f"
            },
            "type": "carpet"
           }
          ],
          "choropleth": [
           {
            "colorbar": {
             "outlinewidth": 0,
             "ticks": ""
            },
            "type": "choropleth"
           }
          ],
          "contour": [
           {
            "colorbar": {
             "outlinewidth": 0,
             "ticks": ""
            },
            "colorscale": [
             [
              0,
              "#0d0887"
             ],
             [
              0.1111111111111111,
              "#46039f"
             ],
             [
              0.2222222222222222,
              "#7201a8"
             ],
             [
              0.3333333333333333,
              "#9c179e"
             ],
             [
              0.4444444444444444,
              "#bd3786"
             ],
             [
              0.5555555555555556,
              "#d8576b"
             ],
             [
              0.6666666666666666,
              "#ed7953"
             ],
             [
              0.7777777777777778,
              "#fb9f3a"
             ],
             [
              0.8888888888888888,
              "#fdca26"
             ],
             [
              1,
              "#f0f921"
             ]
            ],
            "type": "contour"
           }
          ],
          "contourcarpet": [
           {
            "colorbar": {
             "outlinewidth": 0,
             "ticks": ""
            },
            "type": "contourcarpet"
           }
          ],
          "heatmap": [
           {
            "colorbar": {
             "outlinewidth": 0,
             "ticks": ""
            },
            "colorscale": [
             [
              0,
              "#0d0887"
             ],
             [
              0.1111111111111111,
              "#46039f"
             ],
             [
              0.2222222222222222,
              "#7201a8"
             ],
             [
              0.3333333333333333,
              "#9c179e"
             ],
             [
              0.4444444444444444,
              "#bd3786"
             ],
             [
              0.5555555555555556,
              "#d8576b"
             ],
             [
              0.6666666666666666,
              "#ed7953"
             ],
             [
              0.7777777777777778,
              "#fb9f3a"
             ],
             [
              0.8888888888888888,
              "#fdca26"
             ],
             [
              1,
              "#f0f921"
             ]
            ],
            "type": "heatmap"
           }
          ],
          "heatmapgl": [
           {
            "colorbar": {
             "outlinewidth": 0,
             "ticks": ""
            },
            "colorscale": [
             [
              0,
              "#0d0887"
             ],
             [
              0.1111111111111111,
              "#46039f"
             ],
             [
              0.2222222222222222,
              "#7201a8"
             ],
             [
              0.3333333333333333,
              "#9c179e"
             ],
             [
              0.4444444444444444,
              "#bd3786"
             ],
             [
              0.5555555555555556,
              "#d8576b"
             ],
             [
              0.6666666666666666,
              "#ed7953"
             ],
             [
              0.7777777777777778,
              "#fb9f3a"
             ],
             [
              0.8888888888888888,
              "#fdca26"
             ],
             [
              1,
              "#f0f921"
             ]
            ],
            "type": "heatmapgl"
           }
          ],
          "histogram": [
           {
            "marker": {
             "pattern": {
              "fillmode": "overlay",
              "size": 10,
              "solidity": 0.2
             }
            },
            "type": "histogram"
           }
          ],
          "histogram2d": [
           {
            "colorbar": {
             "outlinewidth": 0,
             "ticks": ""
            },
            "colorscale": [
             [
              0,
              "#0d0887"
             ],
             [
              0.1111111111111111,
              "#46039f"
             ],
             [
              0.2222222222222222,
              "#7201a8"
             ],
             [
              0.3333333333333333,
              "#9c179e"
             ],
             [
              0.4444444444444444,
              "#bd3786"
             ],
             [
              0.5555555555555556,
              "#d8576b"
             ],
             [
              0.6666666666666666,
              "#ed7953"
             ],
             [
              0.7777777777777778,
              "#fb9f3a"
             ],
             [
              0.8888888888888888,
              "#fdca26"
             ],
             [
              1,
              "#f0f921"
             ]
            ],
            "type": "histogram2d"
           }
          ],
          "histogram2dcontour": [
           {
            "colorbar": {
             "outlinewidth": 0,
             "ticks": ""
            },
            "colorscale": [
             [
              0,
              "#0d0887"
             ],
             [
              0.1111111111111111,
              "#46039f"
             ],
             [
              0.2222222222222222,
              "#7201a8"
             ],
             [
              0.3333333333333333,
              "#9c179e"
             ],
             [
              0.4444444444444444,
              "#bd3786"
             ],
             [
              0.5555555555555556,
              "#d8576b"
             ],
             [
              0.6666666666666666,
              "#ed7953"
             ],
             [
              0.7777777777777778,
              "#fb9f3a"
             ],
             [
              0.8888888888888888,
              "#fdca26"
             ],
             [
              1,
              "#f0f921"
             ]
            ],
            "type": "histogram2dcontour"
           }
          ],
          "mesh3d": [
           {
            "colorbar": {
             "outlinewidth": 0,
             "ticks": ""
            },
            "type": "mesh3d"
           }
          ],
          "parcoords": [
           {
            "line": {
             "colorbar": {
              "outlinewidth": 0,
              "ticks": ""
             }
            },
            "type": "parcoords"
           }
          ],
          "pie": [
           {
            "automargin": true,
            "type": "pie"
           }
          ],
          "scatter": [
           {
            "fillpattern": {
             "fillmode": "overlay",
             "size": 10,
             "solidity": 0.2
            },
            "type": "scatter"
           }
          ],
          "scatter3d": [
           {
            "line": {
             "colorbar": {
              "outlinewidth": 0,
              "ticks": ""
             }
            },
            "marker": {
             "colorbar": {
              "outlinewidth": 0,
              "ticks": ""
             }
            },
            "type": "scatter3d"
           }
          ],
          "scattercarpet": [
           {
            "marker": {
             "colorbar": {
              "outlinewidth": 0,
              "ticks": ""
             }
            },
            "type": "scattercarpet"
           }
          ],
          "scattergeo": [
           {
            "marker": {
             "colorbar": {
              "outlinewidth": 0,
              "ticks": ""
             }
            },
            "type": "scattergeo"
           }
          ],
          "scattergl": [
           {
            "marker": {
             "colorbar": {
              "outlinewidth": 0,
              "ticks": ""
             }
            },
            "type": "scattergl"
           }
          ],
          "scattermapbox": [
           {
            "marker": {
             "colorbar": {
              "outlinewidth": 0,
              "ticks": ""
             }
            },
            "type": "scattermapbox"
           }
          ],
          "scatterpolar": [
           {
            "marker": {
             "colorbar": {
              "outlinewidth": 0,
              "ticks": ""
             }
            },
            "type": "scatterpolar"
           }
          ],
          "scatterpolargl": [
           {
            "marker": {
             "colorbar": {
              "outlinewidth": 0,
              "ticks": ""
             }
            },
            "type": "scatterpolargl"
           }
          ],
          "scatterternary": [
           {
            "marker": {
             "colorbar": {
              "outlinewidth": 0,
              "ticks": ""
             }
            },
            "type": "scatterternary"
           }
          ],
          "surface": [
           {
            "colorbar": {
             "outlinewidth": 0,
             "ticks": ""
            },
            "colorscale": [
             [
              0,
              "#0d0887"
             ],
             [
              0.1111111111111111,
              "#46039f"
             ],
             [
              0.2222222222222222,
              "#7201a8"
             ],
             [
              0.3333333333333333,
              "#9c179e"
             ],
             [
              0.4444444444444444,
              "#bd3786"
             ],
             [
              0.5555555555555556,
              "#d8576b"
             ],
             [
              0.6666666666666666,
              "#ed7953"
             ],
             [
              0.7777777777777778,
              "#fb9f3a"
             ],
             [
              0.8888888888888888,
              "#fdca26"
             ],
             [
              1,
              "#f0f921"
             ]
            ],
            "type": "surface"
           }
          ],
          "table": [
           {
            "cells": {
             "fill": {
              "color": "#EBF0F8"
             },
             "line": {
              "color": "white"
             }
            },
            "header": {
             "fill": {
              "color": "#C8D4E3"
             },
             "line": {
              "color": "white"
             }
            },
            "type": "table"
           }
          ]
         },
         "layout": {
          "annotationdefaults": {
           "arrowcolor": "#2a3f5f",
           "arrowhead": 0,
           "arrowwidth": 1
          },
          "autotypenumbers": "strict",
          "coloraxis": {
           "colorbar": {
            "outlinewidth": 0,
            "ticks": ""
           }
          },
          "colorscale": {
           "diverging": [
            [
             0,
             "#8e0152"
            ],
            [
             0.1,
             "#c51b7d"
            ],
            [
             0.2,
             "#de77ae"
            ],
            [
             0.3,
             "#f1b6da"
            ],
            [
             0.4,
             "#fde0ef"
            ],
            [
             0.5,
             "#f7f7f7"
            ],
            [
             0.6,
             "#e6f5d0"
            ],
            [
             0.7,
             "#b8e186"
            ],
            [
             0.8,
             "#7fbc41"
            ],
            [
             0.9,
             "#4d9221"
            ],
            [
             1,
             "#276419"
            ]
           ],
           "sequential": [
            [
             0,
             "#0d0887"
            ],
            [
             0.1111111111111111,
             "#46039f"
            ],
            [
             0.2222222222222222,
             "#7201a8"
            ],
            [
             0.3333333333333333,
             "#9c179e"
            ],
            [
             0.4444444444444444,
             "#bd3786"
            ],
            [
             0.5555555555555556,
             "#d8576b"
            ],
            [
             0.6666666666666666,
             "#ed7953"
            ],
            [
             0.7777777777777778,
             "#fb9f3a"
            ],
            [
             0.8888888888888888,
             "#fdca26"
            ],
            [
             1,
             "#f0f921"
            ]
           ],
           "sequentialminus": [
            [
             0,
             "#0d0887"
            ],
            [
             0.1111111111111111,
             "#46039f"
            ],
            [
             0.2222222222222222,
             "#7201a8"
            ],
            [
             0.3333333333333333,
             "#9c179e"
            ],
            [
             0.4444444444444444,
             "#bd3786"
            ],
            [
             0.5555555555555556,
             "#d8576b"
            ],
            [
             0.6666666666666666,
             "#ed7953"
            ],
            [
             0.7777777777777778,
             "#fb9f3a"
            ],
            [
             0.8888888888888888,
             "#fdca26"
            ],
            [
             1,
             "#f0f921"
            ]
           ]
          },
          "colorway": [
           "#636efa",
           "#EF553B",
           "#00cc96",
           "#ab63fa",
           "#FFA15A",
           "#19d3f3",
           "#FF6692",
           "#B6E880",
           "#FF97FF",
           "#FECB52"
          ],
          "font": {
           "color": "#2a3f5f"
          },
          "geo": {
           "bgcolor": "white",
           "lakecolor": "white",
           "landcolor": "#E5ECF6",
           "showlakes": true,
           "showland": true,
           "subunitcolor": "white"
          },
          "hoverlabel": {
           "align": "left"
          },
          "hovermode": "closest",
          "mapbox": {
           "style": "light"
          },
          "paper_bgcolor": "white",
          "plot_bgcolor": "#E5ECF6",
          "polar": {
           "angularaxis": {
            "gridcolor": "white",
            "linecolor": "white",
            "ticks": ""
           },
           "bgcolor": "#E5ECF6",
           "radialaxis": {
            "gridcolor": "white",
            "linecolor": "white",
            "ticks": ""
           }
          },
          "scene": {
           "xaxis": {
            "backgroundcolor": "#E5ECF6",
            "gridcolor": "white",
            "gridwidth": 2,
            "linecolor": "white",
            "showbackground": true,
            "ticks": "",
            "zerolinecolor": "white"
           },
           "yaxis": {
            "backgroundcolor": "#E5ECF6",
            "gridcolor": "white",
            "gridwidth": 2,
            "linecolor": "white",
            "showbackground": true,
            "ticks": "",
            "zerolinecolor": "white"
           },
           "zaxis": {
            "backgroundcolor": "#E5ECF6",
            "gridcolor": "white",
            "gridwidth": 2,
            "linecolor": "white",
            "showbackground": true,
            "ticks": "",
            "zerolinecolor": "white"
           }
          },
          "shapedefaults": {
           "line": {
            "color": "#2a3f5f"
           }
          },
          "ternary": {
           "aaxis": {
            "gridcolor": "white",
            "linecolor": "white",
            "ticks": ""
           },
           "baxis": {
            "gridcolor": "white",
            "linecolor": "white",
            "ticks": ""
           },
           "bgcolor": "#E5ECF6",
           "caxis": {
            "gridcolor": "white",
            "linecolor": "white",
            "ticks": ""
           }
          },
          "title": {
           "x": 0.05
          },
          "xaxis": {
           "automargin": true,
           "gridcolor": "white",
           "linecolor": "white",
           "ticks": "",
           "title": {
            "standoff": 15
           },
           "zerolinecolor": "white",
           "zerolinewidth": 2
          },
          "yaxis": {
           "automargin": true,
           "gridcolor": "white",
           "linecolor": "white",
           "ticks": "",
           "title": {
            "standoff": 15
           },
           "zerolinecolor": "white",
           "zerolinewidth": 2
          }
         }
        },
        "title": {
         "text": "Chi2 Correlation of the quantitative variables with the target variable",
         "x": 0.5
        },
        "xaxis": {
         "anchor": "y",
         "domain": [
          0,
          1
         ],
         "title": {
          "text": "Column"
         }
        },
        "yaxis": {
         "anchor": "x",
         "domain": [
          0,
          1
         ],
         "title": {
          "text": "Chi2-stat"
         }
        }
       }
      }
     },
     "metadata": {},
     "output_type": "display_data"
    }
   ],
   "source": [
    "fig = px.bar(\n",
    "    filtered_quali_corr,\n",
    "    x=\"Column\",\n",
    "    y=\"Chi2-stat\",\n",
    "    text=\"Chi2-stat\",\n",
    "    color=\"Number of categories\",\n",
    "    color_continuous_scale=px.colors.sequential.Blues_r,\n",
    "    title=\"Chi2 Correlation of the quantitative variables with the target variable\",\n",
    ")\n",
    "fig.update_traces(texttemplate=\"%{text:.2f}\", textposition=\"inside\")\n",
    "fig.update_layout(\n",
    "    title_x=0.5,  # Center the title\n",
    ")\n",
    "fig.show()"
   ]
  },
  {
   "cell_type": "markdown",
   "metadata": {},
   "source": [
    "#### One Hot Encoding:"
   ]
  },
  {
   "cell_type": "markdown",
   "metadata": {},
   "source": [
    "##### Since we use categorical variables that are label encoded, we one hot encoded them to be able to use Linear Regression models without ordinality problems. "
   ]
  },
  {
   "cell_type": "code",
   "execution_count": 142,
   "metadata": {},
   "outputs": [
    {
     "data": {
      "text/html": [
       "<div>\n",
       "<style scoped>\n",
       "    .dataframe tbody tr th:only-of-type {\n",
       "        vertical-align: middle;\n",
       "    }\n",
       "\n",
       "    .dataframe tbody tr th {\n",
       "        vertical-align: top;\n",
       "    }\n",
       "\n",
       "    .dataframe thead th {\n",
       "        text-align: right;\n",
       "    }\n",
       "</style>\n",
       "<table border=\"1\" class=\"dataframe\">\n",
       "  <thead>\n",
       "    <tr style=\"text-align: right;\">\n",
       "      <th></th>\n",
       "      <th>PE_0000</th>\n",
       "      <th>PE_0003</th>\n",
       "      <th>PE_111A</th>\n",
       "      <th>PE_111B</th>\n",
       "      <th>PE_111C</th>\n",
       "      <th>PE_111D</th>\n",
       "      <th>PE_111E</th>\n",
       "      <th>PE_111F</th>\n",
       "      <th>PE_121A</th>\n",
       "      <th>PE_121B</th>\n",
       "      <th>...</th>\n",
       "      <th>DELAIS_1</th>\n",
       "      <th>DELAIS_2</th>\n",
       "      <th>DELAIS_3</th>\n",
       "      <th>DELAIS_9</th>\n",
       "      <th>INCIDENT_1</th>\n",
       "      <th>INCIDENT_2</th>\n",
       "      <th>INCIDENT_3</th>\n",
       "      <th>INCIDENT_8</th>\n",
       "      <th>INCIDENT_9</th>\n",
       "      <th>target</th>\n",
       "    </tr>\n",
       "  </thead>\n",
       "  <tbody>\n",
       "    <tr>\n",
       "      <th>9</th>\n",
       "      <td>False</td>\n",
       "      <td>False</td>\n",
       "      <td>False</td>\n",
       "      <td>False</td>\n",
       "      <td>False</td>\n",
       "      <td>False</td>\n",
       "      <td>False</td>\n",
       "      <td>False</td>\n",
       "      <td>False</td>\n",
       "      <td>False</td>\n",
       "      <td>...</td>\n",
       "      <td>False</td>\n",
       "      <td>True</td>\n",
       "      <td>False</td>\n",
       "      <td>False</td>\n",
       "      <td>True</td>\n",
       "      <td>False</td>\n",
       "      <td>False</td>\n",
       "      <td>False</td>\n",
       "      <td>False</td>\n",
       "      <td>True</td>\n",
       "    </tr>\n",
       "    <tr>\n",
       "      <th>11</th>\n",
       "      <td>False</td>\n",
       "      <td>False</td>\n",
       "      <td>False</td>\n",
       "      <td>False</td>\n",
       "      <td>False</td>\n",
       "      <td>False</td>\n",
       "      <td>False</td>\n",
       "      <td>False</td>\n",
       "      <td>False</td>\n",
       "      <td>False</td>\n",
       "      <td>...</td>\n",
       "      <td>True</td>\n",
       "      <td>False</td>\n",
       "      <td>False</td>\n",
       "      <td>False</td>\n",
       "      <td>True</td>\n",
       "      <td>False</td>\n",
       "      <td>False</td>\n",
       "      <td>False</td>\n",
       "      <td>False</td>\n",
       "      <td>False</td>\n",
       "    </tr>\n",
       "    <tr>\n",
       "      <th>15</th>\n",
       "      <td>False</td>\n",
       "      <td>False</td>\n",
       "      <td>True</td>\n",
       "      <td>False</td>\n",
       "      <td>False</td>\n",
       "      <td>False</td>\n",
       "      <td>False</td>\n",
       "      <td>False</td>\n",
       "      <td>False</td>\n",
       "      <td>False</td>\n",
       "      <td>...</td>\n",
       "      <td>False</td>\n",
       "      <td>False</td>\n",
       "      <td>True</td>\n",
       "      <td>False</td>\n",
       "      <td>True</td>\n",
       "      <td>False</td>\n",
       "      <td>False</td>\n",
       "      <td>False</td>\n",
       "      <td>False</td>\n",
       "      <td>True</td>\n",
       "    </tr>\n",
       "    <tr>\n",
       "      <th>21</th>\n",
       "      <td>False</td>\n",
       "      <td>False</td>\n",
       "      <td>False</td>\n",
       "      <td>False</td>\n",
       "      <td>False</td>\n",
       "      <td>False</td>\n",
       "      <td>False</td>\n",
       "      <td>False</td>\n",
       "      <td>False</td>\n",
       "      <td>False</td>\n",
       "      <td>...</td>\n",
       "      <td>False</td>\n",
       "      <td>False</td>\n",
       "      <td>True</td>\n",
       "      <td>False</td>\n",
       "      <td>False</td>\n",
       "      <td>False</td>\n",
       "      <td>True</td>\n",
       "      <td>False</td>\n",
       "      <td>False</td>\n",
       "      <td>True</td>\n",
       "    </tr>\n",
       "    <tr>\n",
       "      <th>26</th>\n",
       "      <td>False</td>\n",
       "      <td>False</td>\n",
       "      <td>False</td>\n",
       "      <td>False</td>\n",
       "      <td>False</td>\n",
       "      <td>False</td>\n",
       "      <td>False</td>\n",
       "      <td>False</td>\n",
       "      <td>False</td>\n",
       "      <td>False</td>\n",
       "      <td>...</td>\n",
       "      <td>True</td>\n",
       "      <td>False</td>\n",
       "      <td>False</td>\n",
       "      <td>False</td>\n",
       "      <td>True</td>\n",
       "      <td>False</td>\n",
       "      <td>False</td>\n",
       "      <td>False</td>\n",
       "      <td>False</td>\n",
       "      <td>True</td>\n",
       "    </tr>\n",
       "    <tr>\n",
       "      <th>...</th>\n",
       "      <td>...</td>\n",
       "      <td>...</td>\n",
       "      <td>...</td>\n",
       "      <td>...</td>\n",
       "      <td>...</td>\n",
       "      <td>...</td>\n",
       "      <td>...</td>\n",
       "      <td>...</td>\n",
       "      <td>...</td>\n",
       "      <td>...</td>\n",
       "      <td>...</td>\n",
       "      <td>...</td>\n",
       "      <td>...</td>\n",
       "      <td>...</td>\n",
       "      <td>...</td>\n",
       "      <td>...</td>\n",
       "      <td>...</td>\n",
       "      <td>...</td>\n",
       "      <td>...</td>\n",
       "      <td>...</td>\n",
       "      <td>...</td>\n",
       "    </tr>\n",
       "    <tr>\n",
       "      <th>33665</th>\n",
       "      <td>False</td>\n",
       "      <td>False</td>\n",
       "      <td>False</td>\n",
       "      <td>False</td>\n",
       "      <td>False</td>\n",
       "      <td>False</td>\n",
       "      <td>False</td>\n",
       "      <td>False</td>\n",
       "      <td>False</td>\n",
       "      <td>False</td>\n",
       "      <td>...</td>\n",
       "      <td>False</td>\n",
       "      <td>False</td>\n",
       "      <td>True</td>\n",
       "      <td>False</td>\n",
       "      <td>True</td>\n",
       "      <td>False</td>\n",
       "      <td>False</td>\n",
       "      <td>False</td>\n",
       "      <td>False</td>\n",
       "      <td>False</td>\n",
       "    </tr>\n",
       "    <tr>\n",
       "      <th>33666</th>\n",
       "      <td>False</td>\n",
       "      <td>False</td>\n",
       "      <td>False</td>\n",
       "      <td>False</td>\n",
       "      <td>False</td>\n",
       "      <td>False</td>\n",
       "      <td>False</td>\n",
       "      <td>False</td>\n",
       "      <td>False</td>\n",
       "      <td>False</td>\n",
       "      <td>...</td>\n",
       "      <td>True</td>\n",
       "      <td>False</td>\n",
       "      <td>False</td>\n",
       "      <td>False</td>\n",
       "      <td>True</td>\n",
       "      <td>False</td>\n",
       "      <td>False</td>\n",
       "      <td>False</td>\n",
       "      <td>False</td>\n",
       "      <td>True</td>\n",
       "    </tr>\n",
       "    <tr>\n",
       "      <th>33667</th>\n",
       "      <td>False</td>\n",
       "      <td>False</td>\n",
       "      <td>False</td>\n",
       "      <td>False</td>\n",
       "      <td>False</td>\n",
       "      <td>False</td>\n",
       "      <td>False</td>\n",
       "      <td>False</td>\n",
       "      <td>False</td>\n",
       "      <td>False</td>\n",
       "      <td>...</td>\n",
       "      <td>False</td>\n",
       "      <td>False</td>\n",
       "      <td>True</td>\n",
       "      <td>False</td>\n",
       "      <td>True</td>\n",
       "      <td>False</td>\n",
       "      <td>False</td>\n",
       "      <td>False</td>\n",
       "      <td>False</td>\n",
       "      <td>True</td>\n",
       "    </tr>\n",
       "    <tr>\n",
       "      <th>33668</th>\n",
       "      <td>False</td>\n",
       "      <td>False</td>\n",
       "      <td>False</td>\n",
       "      <td>False</td>\n",
       "      <td>False</td>\n",
       "      <td>False</td>\n",
       "      <td>False</td>\n",
       "      <td>False</td>\n",
       "      <td>False</td>\n",
       "      <td>False</td>\n",
       "      <td>...</td>\n",
       "      <td>True</td>\n",
       "      <td>False</td>\n",
       "      <td>False</td>\n",
       "      <td>False</td>\n",
       "      <td>True</td>\n",
       "      <td>False</td>\n",
       "      <td>False</td>\n",
       "      <td>False</td>\n",
       "      <td>False</td>\n",
       "      <td>True</td>\n",
       "    </tr>\n",
       "    <tr>\n",
       "      <th>33669</th>\n",
       "      <td>False</td>\n",
       "      <td>False</td>\n",
       "      <td>False</td>\n",
       "      <td>False</td>\n",
       "      <td>False</td>\n",
       "      <td>False</td>\n",
       "      <td>False</td>\n",
       "      <td>False</td>\n",
       "      <td>False</td>\n",
       "      <td>False</td>\n",
       "      <td>...</td>\n",
       "      <td>False</td>\n",
       "      <td>True</td>\n",
       "      <td>False</td>\n",
       "      <td>False</td>\n",
       "      <td>False</td>\n",
       "      <td>True</td>\n",
       "      <td>False</td>\n",
       "      <td>False</td>\n",
       "      <td>False</td>\n",
       "      <td>False</td>\n",
       "    </tr>\n",
       "  </tbody>\n",
       "</table>\n",
       "<p>18418 rows × 1572 columns</p>\n",
       "</div>"
      ],
      "text/plain": [
       "       PE_0000  PE_0003  PE_111A  PE_111B  PE_111C  PE_111D  PE_111E  PE_111F  \\\n",
       "9        False    False    False    False    False    False    False    False   \n",
       "11       False    False    False    False    False    False    False    False   \n",
       "15       False    False     True    False    False    False    False    False   \n",
       "21       False    False    False    False    False    False    False    False   \n",
       "26       False    False    False    False    False    False    False    False   \n",
       "...        ...      ...      ...      ...      ...      ...      ...      ...   \n",
       "33665    False    False    False    False    False    False    False    False   \n",
       "33666    False    False    False    False    False    False    False    False   \n",
       "33667    False    False    False    False    False    False    False    False   \n",
       "33668    False    False    False    False    False    False    False    False   \n",
       "33669    False    False    False    False    False    False    False    False   \n",
       "\n",
       "       PE_121A  PE_121B  ...  DELAIS_1  DELAIS_2  DELAIS_3  DELAIS_9  \\\n",
       "9        False    False  ...     False      True     False     False   \n",
       "11       False    False  ...      True     False     False     False   \n",
       "15       False    False  ...     False     False      True     False   \n",
       "21       False    False  ...     False     False      True     False   \n",
       "26       False    False  ...      True     False     False     False   \n",
       "...        ...      ...  ...       ...       ...       ...       ...   \n",
       "33665    False    False  ...     False     False      True     False   \n",
       "33666    False    False  ...      True     False     False     False   \n",
       "33667    False    False  ...     False     False      True     False   \n",
       "33668    False    False  ...      True     False     False     False   \n",
       "33669    False    False  ...     False      True     False     False   \n",
       "\n",
       "       INCIDENT_1  INCIDENT_2  INCIDENT_3  INCIDENT_8  INCIDENT_9  target  \n",
       "9            True       False       False       False       False    True  \n",
       "11           True       False       False       False       False   False  \n",
       "15           True       False       False       False       False    True  \n",
       "21          False       False        True       False       False    True  \n",
       "26           True       False       False       False       False    True  \n",
       "...           ...         ...         ...         ...         ...     ...  \n",
       "33665        True       False       False       False       False   False  \n",
       "33666        True       False       False       False       False    True  \n",
       "33667        True       False       False       False       False    True  \n",
       "33668        True       False       False       False       False    True  \n",
       "33669       False        True       False       False       False   False  \n",
       "\n",
       "[18418 rows x 1572 columns]"
      ]
     },
     "execution_count": 142,
     "metadata": {},
     "output_type": "execute_result"
    }
   ],
   "source": [
    "one_hot_quali = pd.get_dummies(\n",
    "    qualitatives[filtered_quali_corr[\"Column\"].to_list()],\n",
    "    prefix=filtered_quali_corr[\"Column\"].to_list(),\n",
    ")\n",
    "one_hot_quali[\"target\"] = df[\"target\"]\n",
    "one_hot_quali"
   ]
  },
  {
   "cell_type": "markdown",
   "metadata": {},
   "source": [
    "#### Second Correlation Analysis"
   ]
  },
  {
   "cell_type": "markdown",
   "metadata": {},
   "source": [
    "##### We perform a second relation analysis similar to the previous one on the values of the selected columns "
   ]
  },
  {
   "cell_type": "code",
   "execution_count": 143,
   "metadata": {},
   "outputs": [],
   "source": [
    "# Calculate Correlation of all qualitative variables with target variable\n",
    "oh_qualitative_corr = {\n",
    "    \"Column\": [],\n",
    "    \"Chi2-stat\": [],\n",
    "    \"P-value\": [],\n",
    "    \"dof\": [],\n",
    "    \"expected\": [],\n",
    "}\n",
    "for col in one_hot_quali.columns:\n",
    "    contingency_table = pd.crosstab(one_hot_quali[col], one_hot_quali[\"target\"])\n",
    "    cchi2_stat, p_val, dof, expected = chi2_contingency(contingency_table)\n",
    "    oh_qualitative_corr[\"Column\"].append(col)\n",
    "    oh_qualitative_corr[\"P-value\"].append(p_val)\n",
    "    oh_qualitative_corr[\"dof\"].append(dof)\n",
    "    oh_qualitative_corr[\"expected\"].append(expected)\n",
    "    oh_qualitative_corr[\"Chi2-stat\"].append(cchi2_stat)\n",
    "\n",
    "# Create a DataFrame from the dictionary and sort it by the chi2 statistic and P-value\n",
    "one_hot_quali_corr = (\n",
    "    pd.DataFrame(oh_qualitative_corr)\n",
    "    .sort_values(by=[\"Chi2-stat\", \"P-value\"], ascending=False, key=(abs))\n",
    "    .reset_index()\n",
    "    .drop(0)\n",
    "    .drop(columns=\"index\")[1:]\n",
    ")"
   ]
  },
  {
   "cell_type": "code",
   "execution_count": 144,
   "metadata": {},
   "outputs": [
    {
     "data": {
      "text/html": [
       "<div>\n",
       "<style scoped>\n",
       "    .dataframe tbody tr th:only-of-type {\n",
       "        vertical-align: middle;\n",
       "    }\n",
       "\n",
       "    .dataframe tbody tr th {\n",
       "        vertical-align: top;\n",
       "    }\n",
       "\n",
       "    .dataframe thead th {\n",
       "        text-align: right;\n",
       "    }\n",
       "</style>\n",
       "<table border=\"1\" class=\"dataframe\">\n",
       "  <thead>\n",
       "    <tr style=\"text-align: right;\">\n",
       "      <th></th>\n",
       "      <th>Column</th>\n",
       "      <th>Chi2-stat</th>\n",
       "      <th>P-value</th>\n",
       "      <th>dof</th>\n",
       "      <th>expected</th>\n",
       "    </tr>\n",
       "  </thead>\n",
       "  <tbody>\n",
       "    <tr>\n",
       "      <th>2</th>\n",
       "      <td>TPP_1</td>\n",
       "      <td>1796.127392</td>\n",
       "      <td>0.000000e+00</td>\n",
       "      <td>1</td>\n",
       "      <td>[[2183.3072537734824, 1353.6927462265176], [91...</td>\n",
       "    </tr>\n",
       "    <tr>\n",
       "      <th>3</th>\n",
       "      <td>SECROUT_1</td>\n",
       "      <td>1479.867368</td>\n",
       "      <td>0.000000e+00</td>\n",
       "      <td>1</td>\n",
       "      <td>[[7437.565479422305, 4611.434520577695], [3931...</td>\n",
       "    </tr>\n",
       "    <tr>\n",
       "      <th>4</th>\n",
       "      <td>SECROUT_2</td>\n",
       "      <td>1474.633121</td>\n",
       "      <td>0.000000e+00</td>\n",
       "      <td>1</td>\n",
       "      <td>[[3934.5209034640025, 2439.4790965359975], [74...</td>\n",
       "    </tr>\n",
       "    <tr>\n",
       "      <th>5</th>\n",
       "      <td>cser_5</td>\n",
       "      <td>1377.926440</td>\n",
       "      <td>1.315491e-301</td>\n",
       "      <td>1</td>\n",
       "      <td>[[8042.496525138452, 4986.503474861548], [3326...</td>\n",
       "    </tr>\n",
       "    <tr>\n",
       "      <th>6</th>\n",
       "      <td>naf4_EV</td>\n",
       "      <td>1361.400263</td>\n",
       "      <td>5.132368e-298</td>\n",
       "      <td>1</td>\n",
       "      <td>[[2291.9479313714846, 1421.0520686285156], [90...</td>\n",
       "    </tr>\n",
       "    <tr>\n",
       "      <th>...</th>\n",
       "      <td>...</td>\n",
       "      <td>...</td>\n",
       "      <td>...</td>\n",
       "      <td>...</td>\n",
       "      <td>...</td>\n",
       "    </tr>\n",
       "    <tr>\n",
       "      <th>1567</th>\n",
       "      <td>HYGSAL_8</td>\n",
       "      <td>0.000000</td>\n",
       "      <td>1.000000e+00</td>\n",
       "      <td>1</td>\n",
       "      <td>[[11368.38272342274, 7048.617276577262], [0.61...</td>\n",
       "    </tr>\n",
       "    <tr>\n",
       "      <th>1568</th>\n",
       "      <td>HYGSAL_9</td>\n",
       "      <td>0.000000</td>\n",
       "      <td>1.000000e+00</td>\n",
       "      <td>1</td>\n",
       "      <td>[[11364.67906395917, 7046.32093604083], [4.320...</td>\n",
       "    </tr>\n",
       "    <tr>\n",
       "      <th>1569</th>\n",
       "      <td>SECACCID_8</td>\n",
       "      <td>0.000000</td>\n",
       "      <td>1.000000e+00</td>\n",
       "      <td>1</td>\n",
       "      <td>[[11367.765446845477, 7048.2345531545225], [1....</td>\n",
       "    </tr>\n",
       "    <tr>\n",
       "      <th>1570</th>\n",
       "      <td>SECINFEC_8</td>\n",
       "      <td>0.000000</td>\n",
       "      <td>1.000000e+00</td>\n",
       "      <td>1</td>\n",
       "      <td>[[11368.38272342274, 7048.617276577262], [0.61...</td>\n",
       "    </tr>\n",
       "    <tr>\n",
       "      <th>1571</th>\n",
       "      <td>DEMPRO_9</td>\n",
       "      <td>0.000000</td>\n",
       "      <td>1.000000e+00</td>\n",
       "      <td>1</td>\n",
       "      <td>[[11367.765446845477, 7048.2345531545225], [1....</td>\n",
       "    </tr>\n",
       "  </tbody>\n",
       "</table>\n",
       "<p>1570 rows × 5 columns</p>\n",
       "</div>"
      ],
      "text/plain": [
       "          Column    Chi2-stat        P-value  dof  \\\n",
       "2          TPP_1  1796.127392   0.000000e+00    1   \n",
       "3      SECROUT_1  1479.867368   0.000000e+00    1   \n",
       "4      SECROUT_2  1474.633121   0.000000e+00    1   \n",
       "5         cser_5  1377.926440  1.315491e-301    1   \n",
       "6        naf4_EV  1361.400263  5.132368e-298    1   \n",
       "...          ...          ...            ...  ...   \n",
       "1567    HYGSAL_8     0.000000   1.000000e+00    1   \n",
       "1568    HYGSAL_9     0.000000   1.000000e+00    1   \n",
       "1569  SECACCID_8     0.000000   1.000000e+00    1   \n",
       "1570  SECINFEC_8     0.000000   1.000000e+00    1   \n",
       "1571    DEMPRO_9     0.000000   1.000000e+00    1   \n",
       "\n",
       "                                               expected  \n",
       "2     [[2183.3072537734824, 1353.6927462265176], [91...  \n",
       "3     [[7437.565479422305, 4611.434520577695], [3931...  \n",
       "4     [[3934.5209034640025, 2439.4790965359975], [74...  \n",
       "5     [[8042.496525138452, 4986.503474861548], [3326...  \n",
       "6     [[2291.9479313714846, 1421.0520686285156], [90...  \n",
       "...                                                 ...  \n",
       "1567  [[11368.38272342274, 7048.617276577262], [0.61...  \n",
       "1568  [[11364.67906395917, 7046.32093604083], [4.320...  \n",
       "1569  [[11367.765446845477, 7048.2345531545225], [1....  \n",
       "1570  [[11368.38272342274, 7048.617276577262], [0.61...  \n",
       "1571  [[11367.765446845477, 7048.2345531545225], [1....  \n",
       "\n",
       "[1570 rows x 5 columns]"
      ]
     },
     "execution_count": 144,
     "metadata": {},
     "output_type": "execute_result"
    }
   ],
   "source": [
    "one_hot_quali_corr"
   ]
  },
  {
   "cell_type": "markdown",
   "metadata": {},
   "source": [
    "##### We apply a filter on the resulting data frame to keep only relevant correlations (**'P-value'<0.05**). Seeing there still way to many variables we select the 20 first with the strongest chi2_stat"
   ]
  },
  {
   "cell_type": "code",
   "execution_count": 145,
   "metadata": {},
   "outputs": [],
   "source": [
    "filtered_oh_quali_corr = one_hot_quali_corr[(one_hot_quali_corr[\"P-value\"] < 0.05)][:20]"
   ]
  },
  {
   "cell_type": "code",
   "execution_count": 146,
   "metadata": {},
   "outputs": [
    {
     "data": {
      "application/vnd.plotly.v1+json": {
       "config": {
        "plotlyServerURL": "https://plot.ly"
       },
       "data": [
        {
         "alignmentgroup": "True",
         "hovertemplate": "Column=%{x}<br>Chi2-stat=%{text}<extra></extra>",
         "legendgroup": "",
         "marker": {
          "color": "rgb(8,48,107)",
          "pattern": {
           "shape": ""
          }
         },
         "name": "",
         "offsetgroup": "",
         "orientation": "v",
         "showlegend": false,
         "text": [
          1796.127392336779,
          1479.8673678742953,
          1474.6331212167966,
          1377.9264397278944,
          1361.400262989445,
          1346.9745928291504,
          1346.2130635183094,
          1346.2130635183094,
          1324.6259460197152,
          1307.8621703866074,
          1297.529037381073,
          1240.8966471068613,
          1183.285872692718,
          1149.3917345648022,
          1032.7803757508939,
          1032.6673717198757,
          954.0119561454222,
          953.4759992210195,
          867.0617872504977,
          867.0617872504977
         ],
         "textposition": "inside",
         "texttemplate": "%{text:.2f}",
         "type": "bar",
         "x": [
          "TPP_1",
          "SECROUT_1",
          "SECROUT_2",
          "cser_5",
          "naf4_EV",
          "CONDUITE_2",
          "NBRKM_DRAP_ 0",
          "CONDUITE_1",
          "naf17_OQ",
          "CJSITUA_6",
          "TINA_3",
          "NBRKM_DRAP_ 1",
          "csei_61",
          "cser_6",
          "CWVIB_2",
          "CWVIB_1",
          "SECFUPOU_2",
          "SECFUPOU_1",
          "ACTIVFIN_86",
          "naf38_QA"
         ],
         "xaxis": "x",
         "y": [
          1796.127392336779,
          1479.8673678742953,
          1474.6331212167966,
          1377.9264397278944,
          1361.400262989445,
          1346.9745928291504,
          1346.2130635183094,
          1346.2130635183094,
          1324.6259460197152,
          1307.8621703866074,
          1297.529037381073,
          1240.8966471068613,
          1183.285872692718,
          1149.3917345648022,
          1032.7803757508939,
          1032.6673717198757,
          954.0119561454222,
          953.4759992210195,
          867.0617872504977,
          867.0617872504977
         ],
         "yaxis": "y"
        }
       ],
       "layout": {
        "barmode": "relative",
        "legend": {
         "tracegroupgap": 0
        },
        "template": {
         "data": {
          "bar": [
           {
            "error_x": {
             "color": "#2a3f5f"
            },
            "error_y": {
             "color": "#2a3f5f"
            },
            "marker": {
             "line": {
              "color": "#E5ECF6",
              "width": 0.5
             },
             "pattern": {
              "fillmode": "overlay",
              "size": 10,
              "solidity": 0.2
             }
            },
            "type": "bar"
           }
          ],
          "barpolar": [
           {
            "marker": {
             "line": {
              "color": "#E5ECF6",
              "width": 0.5
             },
             "pattern": {
              "fillmode": "overlay",
              "size": 10,
              "solidity": 0.2
             }
            },
            "type": "barpolar"
           }
          ],
          "carpet": [
           {
            "aaxis": {
             "endlinecolor": "#2a3f5f",
             "gridcolor": "white",
             "linecolor": "white",
             "minorgridcolor": "white",
             "startlinecolor": "#2a3f5f"
            },
            "baxis": {
             "endlinecolor": "#2a3f5f",
             "gridcolor": "white",
             "linecolor": "white",
             "minorgridcolor": "white",
             "startlinecolor": "#2a3f5f"
            },
            "type": "carpet"
           }
          ],
          "choropleth": [
           {
            "colorbar": {
             "outlinewidth": 0,
             "ticks": ""
            },
            "type": "choropleth"
           }
          ],
          "contour": [
           {
            "colorbar": {
             "outlinewidth": 0,
             "ticks": ""
            },
            "colorscale": [
             [
              0,
              "#0d0887"
             ],
             [
              0.1111111111111111,
              "#46039f"
             ],
             [
              0.2222222222222222,
              "#7201a8"
             ],
             [
              0.3333333333333333,
              "#9c179e"
             ],
             [
              0.4444444444444444,
              "#bd3786"
             ],
             [
              0.5555555555555556,
              "#d8576b"
             ],
             [
              0.6666666666666666,
              "#ed7953"
             ],
             [
              0.7777777777777778,
              "#fb9f3a"
             ],
             [
              0.8888888888888888,
              "#fdca26"
             ],
             [
              1,
              "#f0f921"
             ]
            ],
            "type": "contour"
           }
          ],
          "contourcarpet": [
           {
            "colorbar": {
             "outlinewidth": 0,
             "ticks": ""
            },
            "type": "contourcarpet"
           }
          ],
          "heatmap": [
           {
            "colorbar": {
             "outlinewidth": 0,
             "ticks": ""
            },
            "colorscale": [
             [
              0,
              "#0d0887"
             ],
             [
              0.1111111111111111,
              "#46039f"
             ],
             [
              0.2222222222222222,
              "#7201a8"
             ],
             [
              0.3333333333333333,
              "#9c179e"
             ],
             [
              0.4444444444444444,
              "#bd3786"
             ],
             [
              0.5555555555555556,
              "#d8576b"
             ],
             [
              0.6666666666666666,
              "#ed7953"
             ],
             [
              0.7777777777777778,
              "#fb9f3a"
             ],
             [
              0.8888888888888888,
              "#fdca26"
             ],
             [
              1,
              "#f0f921"
             ]
            ],
            "type": "heatmap"
           }
          ],
          "heatmapgl": [
           {
            "colorbar": {
             "outlinewidth": 0,
             "ticks": ""
            },
            "colorscale": [
             [
              0,
              "#0d0887"
             ],
             [
              0.1111111111111111,
              "#46039f"
             ],
             [
              0.2222222222222222,
              "#7201a8"
             ],
             [
              0.3333333333333333,
              "#9c179e"
             ],
             [
              0.4444444444444444,
              "#bd3786"
             ],
             [
              0.5555555555555556,
              "#d8576b"
             ],
             [
              0.6666666666666666,
              "#ed7953"
             ],
             [
              0.7777777777777778,
              "#fb9f3a"
             ],
             [
              0.8888888888888888,
              "#fdca26"
             ],
             [
              1,
              "#f0f921"
             ]
            ],
            "type": "heatmapgl"
           }
          ],
          "histogram": [
           {
            "marker": {
             "pattern": {
              "fillmode": "overlay",
              "size": 10,
              "solidity": 0.2
             }
            },
            "type": "histogram"
           }
          ],
          "histogram2d": [
           {
            "colorbar": {
             "outlinewidth": 0,
             "ticks": ""
            },
            "colorscale": [
             [
              0,
              "#0d0887"
             ],
             [
              0.1111111111111111,
              "#46039f"
             ],
             [
              0.2222222222222222,
              "#7201a8"
             ],
             [
              0.3333333333333333,
              "#9c179e"
             ],
             [
              0.4444444444444444,
              "#bd3786"
             ],
             [
              0.5555555555555556,
              "#d8576b"
             ],
             [
              0.6666666666666666,
              "#ed7953"
             ],
             [
              0.7777777777777778,
              "#fb9f3a"
             ],
             [
              0.8888888888888888,
              "#fdca26"
             ],
             [
              1,
              "#f0f921"
             ]
            ],
            "type": "histogram2d"
           }
          ],
          "histogram2dcontour": [
           {
            "colorbar": {
             "outlinewidth": 0,
             "ticks": ""
            },
            "colorscale": [
             [
              0,
              "#0d0887"
             ],
             [
              0.1111111111111111,
              "#46039f"
             ],
             [
              0.2222222222222222,
              "#7201a8"
             ],
             [
              0.3333333333333333,
              "#9c179e"
             ],
             [
              0.4444444444444444,
              "#bd3786"
             ],
             [
              0.5555555555555556,
              "#d8576b"
             ],
             [
              0.6666666666666666,
              "#ed7953"
             ],
             [
              0.7777777777777778,
              "#fb9f3a"
             ],
             [
              0.8888888888888888,
              "#fdca26"
             ],
             [
              1,
              "#f0f921"
             ]
            ],
            "type": "histogram2dcontour"
           }
          ],
          "mesh3d": [
           {
            "colorbar": {
             "outlinewidth": 0,
             "ticks": ""
            },
            "type": "mesh3d"
           }
          ],
          "parcoords": [
           {
            "line": {
             "colorbar": {
              "outlinewidth": 0,
              "ticks": ""
             }
            },
            "type": "parcoords"
           }
          ],
          "pie": [
           {
            "automargin": true,
            "type": "pie"
           }
          ],
          "scatter": [
           {
            "fillpattern": {
             "fillmode": "overlay",
             "size": 10,
             "solidity": 0.2
            },
            "type": "scatter"
           }
          ],
          "scatter3d": [
           {
            "line": {
             "colorbar": {
              "outlinewidth": 0,
              "ticks": ""
             }
            },
            "marker": {
             "colorbar": {
              "outlinewidth": 0,
              "ticks": ""
             }
            },
            "type": "scatter3d"
           }
          ],
          "scattercarpet": [
           {
            "marker": {
             "colorbar": {
              "outlinewidth": 0,
              "ticks": ""
             }
            },
            "type": "scattercarpet"
           }
          ],
          "scattergeo": [
           {
            "marker": {
             "colorbar": {
              "outlinewidth": 0,
              "ticks": ""
             }
            },
            "type": "scattergeo"
           }
          ],
          "scattergl": [
           {
            "marker": {
             "colorbar": {
              "outlinewidth": 0,
              "ticks": ""
             }
            },
            "type": "scattergl"
           }
          ],
          "scattermapbox": [
           {
            "marker": {
             "colorbar": {
              "outlinewidth": 0,
              "ticks": ""
             }
            },
            "type": "scattermapbox"
           }
          ],
          "scatterpolar": [
           {
            "marker": {
             "colorbar": {
              "outlinewidth": 0,
              "ticks": ""
             }
            },
            "type": "scatterpolar"
           }
          ],
          "scatterpolargl": [
           {
            "marker": {
             "colorbar": {
              "outlinewidth": 0,
              "ticks": ""
             }
            },
            "type": "scatterpolargl"
           }
          ],
          "scatterternary": [
           {
            "marker": {
             "colorbar": {
              "outlinewidth": 0,
              "ticks": ""
             }
            },
            "type": "scatterternary"
           }
          ],
          "surface": [
           {
            "colorbar": {
             "outlinewidth": 0,
             "ticks": ""
            },
            "colorscale": [
             [
              0,
              "#0d0887"
             ],
             [
              0.1111111111111111,
              "#46039f"
             ],
             [
              0.2222222222222222,
              "#7201a8"
             ],
             [
              0.3333333333333333,
              "#9c179e"
             ],
             [
              0.4444444444444444,
              "#bd3786"
             ],
             [
              0.5555555555555556,
              "#d8576b"
             ],
             [
              0.6666666666666666,
              "#ed7953"
             ],
             [
              0.7777777777777778,
              "#fb9f3a"
             ],
             [
              0.8888888888888888,
              "#fdca26"
             ],
             [
              1,
              "#f0f921"
             ]
            ],
            "type": "surface"
           }
          ],
          "table": [
           {
            "cells": {
             "fill": {
              "color": "#EBF0F8"
             },
             "line": {
              "color": "white"
             }
            },
            "header": {
             "fill": {
              "color": "#C8D4E3"
             },
             "line": {
              "color": "white"
             }
            },
            "type": "table"
           }
          ]
         },
         "layout": {
          "annotationdefaults": {
           "arrowcolor": "#2a3f5f",
           "arrowhead": 0,
           "arrowwidth": 1
          },
          "autotypenumbers": "strict",
          "coloraxis": {
           "colorbar": {
            "outlinewidth": 0,
            "ticks": ""
           }
          },
          "colorscale": {
           "diverging": [
            [
             0,
             "#8e0152"
            ],
            [
             0.1,
             "#c51b7d"
            ],
            [
             0.2,
             "#de77ae"
            ],
            [
             0.3,
             "#f1b6da"
            ],
            [
             0.4,
             "#fde0ef"
            ],
            [
             0.5,
             "#f7f7f7"
            ],
            [
             0.6,
             "#e6f5d0"
            ],
            [
             0.7,
             "#b8e186"
            ],
            [
             0.8,
             "#7fbc41"
            ],
            [
             0.9,
             "#4d9221"
            ],
            [
             1,
             "#276419"
            ]
           ],
           "sequential": [
            [
             0,
             "#0d0887"
            ],
            [
             0.1111111111111111,
             "#46039f"
            ],
            [
             0.2222222222222222,
             "#7201a8"
            ],
            [
             0.3333333333333333,
             "#9c179e"
            ],
            [
             0.4444444444444444,
             "#bd3786"
            ],
            [
             0.5555555555555556,
             "#d8576b"
            ],
            [
             0.6666666666666666,
             "#ed7953"
            ],
            [
             0.7777777777777778,
             "#fb9f3a"
            ],
            [
             0.8888888888888888,
             "#fdca26"
            ],
            [
             1,
             "#f0f921"
            ]
           ],
           "sequentialminus": [
            [
             0,
             "#0d0887"
            ],
            [
             0.1111111111111111,
             "#46039f"
            ],
            [
             0.2222222222222222,
             "#7201a8"
            ],
            [
             0.3333333333333333,
             "#9c179e"
            ],
            [
             0.4444444444444444,
             "#bd3786"
            ],
            [
             0.5555555555555556,
             "#d8576b"
            ],
            [
             0.6666666666666666,
             "#ed7953"
            ],
            [
             0.7777777777777778,
             "#fb9f3a"
            ],
            [
             0.8888888888888888,
             "#fdca26"
            ],
            [
             1,
             "#f0f921"
            ]
           ]
          },
          "colorway": [
           "#636efa",
           "#EF553B",
           "#00cc96",
           "#ab63fa",
           "#FFA15A",
           "#19d3f3",
           "#FF6692",
           "#B6E880",
           "#FF97FF",
           "#FECB52"
          ],
          "font": {
           "color": "#2a3f5f"
          },
          "geo": {
           "bgcolor": "white",
           "lakecolor": "white",
           "landcolor": "#E5ECF6",
           "showlakes": true,
           "showland": true,
           "subunitcolor": "white"
          },
          "hoverlabel": {
           "align": "left"
          },
          "hovermode": "closest",
          "mapbox": {
           "style": "light"
          },
          "paper_bgcolor": "white",
          "plot_bgcolor": "#E5ECF6",
          "polar": {
           "angularaxis": {
            "gridcolor": "white",
            "linecolor": "white",
            "ticks": ""
           },
           "bgcolor": "#E5ECF6",
           "radialaxis": {
            "gridcolor": "white",
            "linecolor": "white",
            "ticks": ""
           }
          },
          "scene": {
           "xaxis": {
            "backgroundcolor": "#E5ECF6",
            "gridcolor": "white",
            "gridwidth": 2,
            "linecolor": "white",
            "showbackground": true,
            "ticks": "",
            "zerolinecolor": "white"
           },
           "yaxis": {
            "backgroundcolor": "#E5ECF6",
            "gridcolor": "white",
            "gridwidth": 2,
            "linecolor": "white",
            "showbackground": true,
            "ticks": "",
            "zerolinecolor": "white"
           },
           "zaxis": {
            "backgroundcolor": "#E5ECF6",
            "gridcolor": "white",
            "gridwidth": 2,
            "linecolor": "white",
            "showbackground": true,
            "ticks": "",
            "zerolinecolor": "white"
           }
          },
          "shapedefaults": {
           "line": {
            "color": "#2a3f5f"
           }
          },
          "ternary": {
           "aaxis": {
            "gridcolor": "white",
            "linecolor": "white",
            "ticks": ""
           },
           "baxis": {
            "gridcolor": "white",
            "linecolor": "white",
            "ticks": ""
           },
           "bgcolor": "#E5ECF6",
           "caxis": {
            "gridcolor": "white",
            "linecolor": "white",
            "ticks": ""
           }
          },
          "title": {
           "x": 0.05
          },
          "xaxis": {
           "automargin": true,
           "gridcolor": "white",
           "linecolor": "white",
           "ticks": "",
           "title": {
            "standoff": 15
           },
           "zerolinecolor": "white",
           "zerolinewidth": 2
          },
          "yaxis": {
           "automargin": true,
           "gridcolor": "white",
           "linecolor": "white",
           "ticks": "",
           "title": {
            "standoff": 15
           },
           "zerolinecolor": "white",
           "zerolinewidth": 2
          }
         }
        },
        "title": {
         "text": "Chi2 Correlation of the quantitative variables with the target variable",
         "x": 0.5
        },
        "xaxis": {
         "anchor": "y",
         "domain": [
          0,
          1
         ],
         "title": {
          "text": "Column"
         }
        },
        "yaxis": {
         "anchor": "x",
         "domain": [
          0,
          1
         ],
         "title": {
          "text": "Chi2-stat"
         }
        }
       }
      }
     },
     "metadata": {},
     "output_type": "display_data"
    }
   ],
   "source": [
    "fig = px.bar(\n",
    "    filtered_oh_quali_corr,\n",
    "    x=\"Column\",\n",
    "    y=\"Chi2-stat\",\n",
    "    text=\"Chi2-stat\",\n",
    "    color_discrete_sequence=px.colors.sequential.Blues_r,\n",
    "    title=\"Chi2 Correlation of the quantitative variables with the target variable\",\n",
    ")\n",
    "fig.update_traces(texttemplate=\"%{text:.2f}\", textposition=\"inside\")\n",
    "fig.update_layout(\n",
    "    title_x=0.5,  # Center the title\n",
    ")\n",
    "fig.show()"
   ]
  },
  {
   "cell_type": "markdown",
   "metadata": {},
   "source": [
    "---"
   ]
  },
  {
   "cell_type": "markdown",
   "metadata": {},
   "source": [
    "## 3. Final Data Preparation"
   ]
  },
  {
   "cell_type": "markdown",
   "metadata": {},
   "source": [
    "##### First we create a dataframe with the selected qualitative and quantitative variables"
   ]
  },
  {
   "cell_type": "code",
   "execution_count": 147,
   "metadata": {},
   "outputs": [
    {
     "data": {
      "text/html": [
       "<div>\n",
       "<style scoped>\n",
       "    .dataframe tbody tr th:only-of-type {\n",
       "        vertical-align: middle;\n",
       "    }\n",
       "\n",
       "    .dataframe tbody tr th {\n",
       "        vertical-align: top;\n",
       "    }\n",
       "\n",
       "    .dataframe thead th {\n",
       "        text-align: right;\n",
       "    }\n",
       "</style>\n",
       "<table border=\"1\" class=\"dataframe\">\n",
       "  <thead>\n",
       "    <tr style=\"text-align: right;\">\n",
       "      <th></th>\n",
       "      <th>PE</th>\n",
       "      <th>peun</th>\n",
       "      <th>fap225</th>\n",
       "      <th>fap87</th>\n",
       "      <th>CSE</th>\n",
       "      <th>csei</th>\n",
       "      <th>ACTIVFIN</th>\n",
       "      <th>naf38</th>\n",
       "      <th>cser</th>\n",
       "      <th>peun10</th>\n",
       "      <th>...</th>\n",
       "      <th>SOIR</th>\n",
       "      <th>PUBLIC</th>\n",
       "      <th>SECINFEC</th>\n",
       "      <th>DEMPRO</th>\n",
       "      <th>DELAIS</th>\n",
       "      <th>INCIDENT</th>\n",
       "      <th>HH</th>\n",
       "      <th>KMANNU</th>\n",
       "      <th>REVMENS</th>\n",
       "      <th>target</th>\n",
       "    </tr>\n",
       "  </thead>\n",
       "  <tbody>\n",
       "    <tr>\n",
       "      <th>2</th>\n",
       "      <td>111F</td>\n",
       "      <td>6113</td>\n",
       "      <td>A0Z00</td>\n",
       "      <td>A0Z</td>\n",
       "      <td>11</td>\n",
       "      <td>10</td>\n",
       "      <td>01</td>\n",
       "      <td>AZ</td>\n",
       "      <td>1</td>\n",
       "      <td>6</td>\n",
       "      <td>...</td>\n",
       "      <td>2</td>\n",
       "      <td>1</td>\n",
       "      <td>1</td>\n",
       "      <td>2</td>\n",
       "      <td>2</td>\n",
       "      <td>3</td>\n",
       "      <td>66.0</td>\n",
       "      <td>3666.0</td>\n",
       "      <td>NaN</td>\n",
       "      <td>False</td>\n",
       "    </tr>\n",
       "    <tr>\n",
       "      <th>3</th>\n",
       "      <td>111F</td>\n",
       "      <td>6114</td>\n",
       "      <td>A0Z00</td>\n",
       "      <td>A0Z</td>\n",
       "      <td>11</td>\n",
       "      <td>10</td>\n",
       "      <td>NaN</td>\n",
       "      <td>00</td>\n",
       "      <td>1</td>\n",
       "      <td>6</td>\n",
       "      <td>...</td>\n",
       "      <td>3</td>\n",
       "      <td>1</td>\n",
       "      <td>1</td>\n",
       "      <td>2</td>\n",
       "      <td>3</td>\n",
       "      <td>1</td>\n",
       "      <td>40.0</td>\n",
       "      <td>NaN</td>\n",
       "      <td>NaN</td>\n",
       "      <td>True</td>\n",
       "    </tr>\n",
       "    <tr>\n",
       "      <th>5</th>\n",
       "      <td>111F</td>\n",
       "      <td>6114</td>\n",
       "      <td>A0Z00</td>\n",
       "      <td>A0Z</td>\n",
       "      <td>11</td>\n",
       "      <td>10</td>\n",
       "      <td>01</td>\n",
       "      <td>AZ</td>\n",
       "      <td>1</td>\n",
       "      <td>6</td>\n",
       "      <td>...</td>\n",
       "      <td>3</td>\n",
       "      <td>1</td>\n",
       "      <td>2</td>\n",
       "      <td>1</td>\n",
       "      <td>3</td>\n",
       "      <td>1</td>\n",
       "      <td>40.0</td>\n",
       "      <td>NaN</td>\n",
       "      <td>NaN</td>\n",
       "      <td>True</td>\n",
       "    </tr>\n",
       "    <tr>\n",
       "      <th>6</th>\n",
       "      <td>111A</td>\n",
       "      <td>6111</td>\n",
       "      <td>A0Z00</td>\n",
       "      <td>A0Z</td>\n",
       "      <td>11</td>\n",
       "      <td>10</td>\n",
       "      <td>01</td>\n",
       "      <td>AZ</td>\n",
       "      <td>1</td>\n",
       "      <td>6</td>\n",
       "      <td>...</td>\n",
       "      <td>3</td>\n",
       "      <td>2</td>\n",
       "      <td>1</td>\n",
       "      <td>2</td>\n",
       "      <td>1</td>\n",
       "      <td>1</td>\n",
       "      <td>40.0</td>\n",
       "      <td>1410.0</td>\n",
       "      <td>NaN</td>\n",
       "      <td>False</td>\n",
       "    </tr>\n",
       "    <tr>\n",
       "      <th>7</th>\n",
       "      <td>111A</td>\n",
       "      <td>6111</td>\n",
       "      <td>A0Z00</td>\n",
       "      <td>A0Z</td>\n",
       "      <td>11</td>\n",
       "      <td>10</td>\n",
       "      <td>01</td>\n",
       "      <td>AZ</td>\n",
       "      <td>1</td>\n",
       "      <td>6</td>\n",
       "      <td>...</td>\n",
       "      <td>3</td>\n",
       "      <td>2</td>\n",
       "      <td>2</td>\n",
       "      <td>2</td>\n",
       "      <td>2</td>\n",
       "      <td>1</td>\n",
       "      <td>70.0</td>\n",
       "      <td>NaN</td>\n",
       "      <td>NaN</td>\n",
       "      <td>True</td>\n",
       "    </tr>\n",
       "    <tr>\n",
       "      <th>...</th>\n",
       "      <td>...</td>\n",
       "      <td>...</td>\n",
       "      <td>...</td>\n",
       "      <td>...</td>\n",
       "      <td>...</td>\n",
       "      <td>...</td>\n",
       "      <td>...</td>\n",
       "      <td>...</td>\n",
       "      <td>...</td>\n",
       "      <td>...</td>\n",
       "      <td>...</td>\n",
       "      <td>...</td>\n",
       "      <td>...</td>\n",
       "      <td>...</td>\n",
       "      <td>...</td>\n",
       "      <td>...</td>\n",
       "      <td>...</td>\n",
       "      <td>...</td>\n",
       "      <td>...</td>\n",
       "      <td>...</td>\n",
       "      <td>...</td>\n",
       "    </tr>\n",
       "    <tr>\n",
       "      <th>33667</th>\n",
       "      <td>5300</td>\n",
       "      <td>9</td>\n",
       "      <td>ZZZZZ</td>\n",
       "      <td>ZZZ</td>\n",
       "      <td>53</td>\n",
       "      <td>51</td>\n",
       "      <td>84</td>\n",
       "      <td>OZ</td>\n",
       "      <td>5</td>\n",
       "      <td>9</td>\n",
       "      <td>...</td>\n",
       "      <td>1</td>\n",
       "      <td>1</td>\n",
       "      <td>2</td>\n",
       "      <td>1</td>\n",
       "      <td>3</td>\n",
       "      <td>1</td>\n",
       "      <td>36.0</td>\n",
       "      <td>NaN</td>\n",
       "      <td>1400.0</td>\n",
       "      <td>True</td>\n",
       "    </tr>\n",
       "    <tr>\n",
       "      <th>33668</th>\n",
       "      <td>4000</td>\n",
       "      <td>3115</td>\n",
       "      <td>ZZZZZ</td>\n",
       "      <td>ZZZ</td>\n",
       "      <td>40</td>\n",
       "      <td>40</td>\n",
       "      <td>35</td>\n",
       "      <td>DZ</td>\n",
       "      <td>4</td>\n",
       "      <td>3</td>\n",
       "      <td>...</td>\n",
       "      <td>3</td>\n",
       "      <td>2</td>\n",
       "      <td>2</td>\n",
       "      <td>2</td>\n",
       "      <td>1</td>\n",
       "      <td>1</td>\n",
       "      <td>35.0</td>\n",
       "      <td>30000.0</td>\n",
       "      <td>NaN</td>\n",
       "      <td>True</td>\n",
       "    </tr>\n",
       "    <tr>\n",
       "      <th>33669</th>\n",
       "      <td>4600</td>\n",
       "      <td>3</td>\n",
       "      <td>ZZZZZ</td>\n",
       "      <td>ZZZ</td>\n",
       "      <td>46</td>\n",
       "      <td>46</td>\n",
       "      <td>78</td>\n",
       "      <td>NZ</td>\n",
       "      <td>4</td>\n",
       "      <td>3</td>\n",
       "      <td>...</td>\n",
       "      <td>3</td>\n",
       "      <td>2</td>\n",
       "      <td>2</td>\n",
       "      <td>2</td>\n",
       "      <td>2</td>\n",
       "      <td>2</td>\n",
       "      <td>39.0</td>\n",
       "      <td>NaN</td>\n",
       "      <td>NaN</td>\n",
       "      <td>False</td>\n",
       "    </tr>\n",
       "    <tr>\n",
       "      <th>33671</th>\n",
       "      <td>2100</td>\n",
       "      <td>7549</td>\n",
       "      <td>ZZZZZ</td>\n",
       "      <td>ZZZ</td>\n",
       "      <td>21</td>\n",
       "      <td>21</td>\n",
       "      <td>43</td>\n",
       "      <td>FZ</td>\n",
       "      <td>2</td>\n",
       "      <td>7</td>\n",
       "      <td>...</td>\n",
       "      <td>3</td>\n",
       "      <td>1</td>\n",
       "      <td>1</td>\n",
       "      <td>2</td>\n",
       "      <td>1</td>\n",
       "      <td>1</td>\n",
       "      <td>38.0</td>\n",
       "      <td>11000.0</td>\n",
       "      <td>NaN</td>\n",
       "      <td>True</td>\n",
       "    </tr>\n",
       "    <tr>\n",
       "      <th>33672</th>\n",
       "      <td>0003</td>\n",
       "      <td>NNNN</td>\n",
       "      <td>ZZZZZ</td>\n",
       "      <td>ZZZ</td>\n",
       "      <td>00</td>\n",
       "      <td>00</td>\n",
       "      <td>41</td>\n",
       "      <td>FZ</td>\n",
       "      <td>0</td>\n",
       "      <td>N</td>\n",
       "      <td>...</td>\n",
       "      <td>3</td>\n",
       "      <td>2</td>\n",
       "      <td>2</td>\n",
       "      <td>2</td>\n",
       "      <td>2</td>\n",
       "      <td>1</td>\n",
       "      <td>8.0</td>\n",
       "      <td>NaN</td>\n",
       "      <td>NaN</td>\n",
       "      <td>False</td>\n",
       "    </tr>\n",
       "  </tbody>\n",
       "</table>\n",
       "<p>24024 rows × 54 columns</p>\n",
       "</div>"
      ],
      "text/plain": [
       "         PE  peun fap225 fap87 CSE csei ACTIVFIN naf38 cser peun10  ... SOIR  \\\n",
       "2      111F  6113  A0Z00   A0Z  11   10       01    AZ    1      6  ...    2   \n",
       "3      111F  6114  A0Z00   A0Z  11   10      NaN    00    1      6  ...    3   \n",
       "5      111F  6114  A0Z00   A0Z  11   10       01    AZ    1      6  ...    3   \n",
       "6      111A  6111  A0Z00   A0Z  11   10       01    AZ    1      6  ...    3   \n",
       "7      111A  6111  A0Z00   A0Z  11   10       01    AZ    1      6  ...    3   \n",
       "...     ...   ...    ...   ...  ..  ...      ...   ...  ...    ...  ...  ...   \n",
       "33667  5300     9  ZZZZZ   ZZZ  53   51       84    OZ    5      9  ...    1   \n",
       "33668  4000  3115  ZZZZZ   ZZZ  40   40       35    DZ    4      3  ...    3   \n",
       "33669  4600     3  ZZZZZ   ZZZ  46   46       78    NZ    4      3  ...    3   \n",
       "33671  2100  7549  ZZZZZ   ZZZ  21   21       43    FZ    2      7  ...    3   \n",
       "33672  0003  NNNN  ZZZZZ   ZZZ  00   00       41    FZ    0      N  ...    3   \n",
       "\n",
       "      PUBLIC SECINFEC DEMPRO DELAIS INCIDENT    HH   KMANNU REVMENS target  \n",
       "2          1        1      2      2        3  66.0   3666.0     NaN  False  \n",
       "3          1        1      2      3        1  40.0      NaN     NaN   True  \n",
       "5          1        2      1      3        1  40.0      NaN     NaN   True  \n",
       "6          2        1      2      1        1  40.0   1410.0     NaN  False  \n",
       "7          2        2      2      2        1  70.0      NaN     NaN   True  \n",
       "...      ...      ...    ...    ...      ...   ...      ...     ...    ...  \n",
       "33667      1        2      1      3        1  36.0      NaN  1400.0   True  \n",
       "33668      2        2      2      1        1  35.0  30000.0     NaN   True  \n",
       "33669      2        2      2      2        2  39.0      NaN     NaN  False  \n",
       "33671      1        1      2      1        1  38.0  11000.0     NaN   True  \n",
       "33672      2        2      2      2        1   8.0      NaN     NaN  False  \n",
       "\n",
       "[24024 rows x 54 columns]"
      ]
     },
     "execution_count": 147,
     "metadata": {},
     "output_type": "execute_result"
    }
   ],
   "source": [
    "df_filtered = df[\n",
    "    filtered_quali_corr[\"Column\"].to_list()\n",
    "    + quant_corr_filtered[\"Column\"].to_list()\n",
    "    + [\"target\"]\n",
    "]\n",
    "df_filtered"
   ]
  },
  {
   "cell_type": "code",
   "execution_count": 148,
   "metadata": {},
   "outputs": [
    {
     "data": {
      "text/plain": [
       "23766"
      ]
     },
     "execution_count": 148,
     "metadata": {},
     "output_type": "execute_result"
    }
   ],
   "source": [
    "df_filtered.isna().sum().sum()"
   ]
  },
  {
   "cell_type": "markdown",
   "metadata": {},
   "source": [
    "##### We fill the numerical NaNs with a median"
   ]
  },
  {
   "cell_type": "code",
   "execution_count": 149,
   "metadata": {},
   "outputs": [
    {
     "name": "stderr",
     "output_type": "stream",
     "text": [
      "/tmp/ipykernel_160722/1181171266.py:2: SettingWithCopyWarning:\n",
      "\n",
      "\n",
      "A value is trying to be set on a copy of a slice from a DataFrame.\n",
      "Try using .loc[row_indexer,col_indexer] = value instead\n",
      "\n",
      "See the caveats in the documentation: https://pandas.pydata.org/pandas-docs/stable/user_guide/indexing.html#returning-a-view-versus-a-copy\n",
      "\n"
     ]
    }
   ],
   "source": [
    "# Select the quantitative variables and fill the missing values with the median\n",
    "df_filtered[df_filtered.select_dtypes([\"int\", \"float\"]).columns] = ( \n",
    "    df_filtered.select_dtypes([\"int\", \"float\"]).fillna(\n",
    "        df_filtered.select_dtypes([\"int\", \"float\"]).median()\n",
    "    )\n",
    ")"
   ]
  },
  {
   "cell_type": "code",
   "execution_count": 150,
   "metadata": {},
   "outputs": [
    {
     "data": {
      "text/plain": [
       "3209"
      ]
     },
     "execution_count": 150,
     "metadata": {},
     "output_type": "execute_result"
    }
   ],
   "source": [
    "df_filtered.isna().sum().sum()"
   ]
  },
  {
   "cell_type": "markdown",
   "metadata": {},
   "source": [
    "##### We find a small number of missing values in the selected qualitative variables"
   ]
  },
  {
   "cell_type": "code",
   "execution_count": 151,
   "metadata": {},
   "outputs": [
    {
     "data": {
      "text/plain": [
       "A2I            1296\n",
       "A2E            1296\n",
       "TPP             187\n",
       "DEMPRO          133\n",
       "TINA            131\n",
       "ACTIVFIN        123\n",
       "peun10           13\n",
       "peun             13\n",
       "CJSITUA           4\n",
       "PE                3\n",
       "CSE               3\n",
       "cser              3\n",
       "SOIR              1\n",
       "NUIT              1\n",
       "SAMEDI            1\n",
       "PTMATIN           1\n",
       "NBNUIT_DRAP       0\n",
       "NBASTR_DRAP       0\n",
       "SSECH             0\n",
       "ASTREINTE         0\n",
       "SECINFEC          0\n",
       "SECACCID          0\n",
       "HYGSAL            0\n",
       "PUBLIC            0\n",
       "HYGCOUR           0\n",
       "DIPLOME           0\n",
       "DELAIS            0\n",
       "CJACTOCCUP        0\n",
       "DETRESSE          0\n",
       "MISSION           0\n",
       "HYGCHUMI          0\n",
       "TYPMEN15          0\n",
       "fap225            0\n",
       "fap87             0\n",
       "csei              0\n",
       "naf38             0\n",
       "naf17             0\n",
       "SECROUT           0\n",
       "naf4              0\n",
       "NBRKM_DRAP        0\n",
       "CONDUITE          0\n",
       "STATUT            0\n",
       "CWVIB             0\n",
       "TYPEXTFP          0\n",
       "SECFUPOU          0\n",
       "TELEPORT          0\n",
       "ENCADR            0\n",
       "RISFINA           0\n",
       "ELIGEXT           0\n",
       "INCIDENT          0\n",
       "dtype: int64"
      ]
     },
     "execution_count": 151,
     "metadata": {},
     "output_type": "execute_result"
    }
   ],
   "source": [
    "df_filtered.select_dtypes(include=[\"object\"]).isna().sum().sort_values(ascending=False)"
   ]
  },
  {
   "cell_type": "code",
   "execution_count": 152,
   "metadata": {},
   "outputs": [
    {
     "name": "stderr",
     "output_type": "stream",
     "text": [
      "/tmp/ipykernel_160722/571476937.py:1: SettingWithCopyWarning:\n",
      "\n",
      "\n",
      "A value is trying to be set on a copy of a slice from a DataFrame\n",
      "\n",
      "See the caveats in the documentation: https://pandas.pydata.org/pandas-docs/stable/user_guide/indexing.html#returning-a-view-versus-a-copy\n",
      "\n"
     ]
    }
   ],
   "source": [
    "df_filtered.dropna(inplace=True) # Drop the rows with missing values"
   ]
  },
  {
   "cell_type": "markdown",
   "metadata": {},
   "source": [
    "##### Transform the qualitative variables with a one hot encoding"
   ]
  },
  {
   "cell_type": "code",
   "execution_count": 153,
   "metadata": {},
   "outputs": [],
   "source": [
    "one_hot_df = pd.get_dummies(\n",
    "    df_filtered, prefix=df_filtered.select_dtypes(include=[\"object\"]).columns\n",
    ")"
   ]
  },
  {
   "cell_type": "code",
   "execution_count": 154,
   "metadata": {},
   "outputs": [
    {
     "data": {
      "text/html": [
       "<div>\n",
       "<style scoped>\n",
       "    .dataframe tbody tr th:only-of-type {\n",
       "        vertical-align: middle;\n",
       "    }\n",
       "\n",
       "    .dataframe tbody tr th {\n",
       "        vertical-align: top;\n",
       "    }\n",
       "\n",
       "    .dataframe thead th {\n",
       "        text-align: right;\n",
       "    }\n",
       "</style>\n",
       "<table border=\"1\" class=\"dataframe\">\n",
       "  <thead>\n",
       "    <tr style=\"text-align: right;\">\n",
       "      <th></th>\n",
       "      <th>HH</th>\n",
       "      <th>KMANNU</th>\n",
       "      <th>REVMENS</th>\n",
       "      <th>target</th>\n",
       "      <th>PE_0000</th>\n",
       "      <th>PE_0003</th>\n",
       "      <th>PE_111A</th>\n",
       "      <th>PE_111B</th>\n",
       "      <th>PE_111C</th>\n",
       "      <th>PE_111D</th>\n",
       "      <th>...</th>\n",
       "      <th>DELAIS_1</th>\n",
       "      <th>DELAIS_2</th>\n",
       "      <th>DELAIS_3</th>\n",
       "      <th>DELAIS_8</th>\n",
       "      <th>DELAIS_9</th>\n",
       "      <th>INCIDENT_1</th>\n",
       "      <th>INCIDENT_2</th>\n",
       "      <th>INCIDENT_3</th>\n",
       "      <th>INCIDENT_8</th>\n",
       "      <th>INCIDENT_9</th>\n",
       "    </tr>\n",
       "  </thead>\n",
       "  <tbody>\n",
       "    <tr>\n",
       "      <th>2</th>\n",
       "      <td>66.0</td>\n",
       "      <td>3666.0</td>\n",
       "      <td>1644.0</td>\n",
       "      <td>False</td>\n",
       "      <td>False</td>\n",
       "      <td>False</td>\n",
       "      <td>False</td>\n",
       "      <td>False</td>\n",
       "      <td>False</td>\n",
       "      <td>False</td>\n",
       "      <td>...</td>\n",
       "      <td>False</td>\n",
       "      <td>True</td>\n",
       "      <td>False</td>\n",
       "      <td>False</td>\n",
       "      <td>False</td>\n",
       "      <td>False</td>\n",
       "      <td>False</td>\n",
       "      <td>True</td>\n",
       "      <td>False</td>\n",
       "      <td>False</td>\n",
       "    </tr>\n",
       "    <tr>\n",
       "      <th>6</th>\n",
       "      <td>40.0</td>\n",
       "      <td>1410.0</td>\n",
       "      <td>1644.0</td>\n",
       "      <td>False</td>\n",
       "      <td>False</td>\n",
       "      <td>False</td>\n",
       "      <td>True</td>\n",
       "      <td>False</td>\n",
       "      <td>False</td>\n",
       "      <td>False</td>\n",
       "      <td>...</td>\n",
       "      <td>True</td>\n",
       "      <td>False</td>\n",
       "      <td>False</td>\n",
       "      <td>False</td>\n",
       "      <td>False</td>\n",
       "      <td>True</td>\n",
       "      <td>False</td>\n",
       "      <td>False</td>\n",
       "      <td>False</td>\n",
       "      <td>False</td>\n",
       "    </tr>\n",
       "    <tr>\n",
       "      <th>9</th>\n",
       "      <td>35.0</td>\n",
       "      <td>5500.0</td>\n",
       "      <td>1200.0</td>\n",
       "      <td>True</td>\n",
       "      <td>False</td>\n",
       "      <td>False</td>\n",
       "      <td>False</td>\n",
       "      <td>False</td>\n",
       "      <td>False</td>\n",
       "      <td>False</td>\n",
       "      <td>...</td>\n",
       "      <td>False</td>\n",
       "      <td>True</td>\n",
       "      <td>False</td>\n",
       "      <td>False</td>\n",
       "      <td>False</td>\n",
       "      <td>True</td>\n",
       "      <td>False</td>\n",
       "      <td>False</td>\n",
       "      <td>False</td>\n",
       "      <td>False</td>\n",
       "    </tr>\n",
       "    <tr>\n",
       "      <th>11</th>\n",
       "      <td>5.0</td>\n",
       "      <td>5500.0</td>\n",
       "      <td>1644.0</td>\n",
       "      <td>False</td>\n",
       "      <td>False</td>\n",
       "      <td>False</td>\n",
       "      <td>False</td>\n",
       "      <td>False</td>\n",
       "      <td>False</td>\n",
       "      <td>False</td>\n",
       "      <td>...</td>\n",
       "      <td>True</td>\n",
       "      <td>False</td>\n",
       "      <td>False</td>\n",
       "      <td>False</td>\n",
       "      <td>False</td>\n",
       "      <td>True</td>\n",
       "      <td>False</td>\n",
       "      <td>False</td>\n",
       "      <td>False</td>\n",
       "      <td>False</td>\n",
       "    </tr>\n",
       "    <tr>\n",
       "      <th>15</th>\n",
       "      <td>26.0</td>\n",
       "      <td>9400.0</td>\n",
       "      <td>1644.0</td>\n",
       "      <td>True</td>\n",
       "      <td>False</td>\n",
       "      <td>False</td>\n",
       "      <td>True</td>\n",
       "      <td>False</td>\n",
       "      <td>False</td>\n",
       "      <td>False</td>\n",
       "      <td>...</td>\n",
       "      <td>False</td>\n",
       "      <td>False</td>\n",
       "      <td>True</td>\n",
       "      <td>False</td>\n",
       "      <td>False</td>\n",
       "      <td>True</td>\n",
       "      <td>False</td>\n",
       "      <td>False</td>\n",
       "      <td>False</td>\n",
       "      <td>False</td>\n",
       "    </tr>\n",
       "    <tr>\n",
       "      <th>...</th>\n",
       "      <td>...</td>\n",
       "      <td>...</td>\n",
       "      <td>...</td>\n",
       "      <td>...</td>\n",
       "      <td>...</td>\n",
       "      <td>...</td>\n",
       "      <td>...</td>\n",
       "      <td>...</td>\n",
       "      <td>...</td>\n",
       "      <td>...</td>\n",
       "      <td>...</td>\n",
       "      <td>...</td>\n",
       "      <td>...</td>\n",
       "      <td>...</td>\n",
       "      <td>...</td>\n",
       "      <td>...</td>\n",
       "      <td>...</td>\n",
       "      <td>...</td>\n",
       "      <td>...</td>\n",
       "      <td>...</td>\n",
       "      <td>...</td>\n",
       "    </tr>\n",
       "    <tr>\n",
       "      <th>33667</th>\n",
       "      <td>36.0</td>\n",
       "      <td>5500.0</td>\n",
       "      <td>1400.0</td>\n",
       "      <td>True</td>\n",
       "      <td>False</td>\n",
       "      <td>False</td>\n",
       "      <td>False</td>\n",
       "      <td>False</td>\n",
       "      <td>False</td>\n",
       "      <td>False</td>\n",
       "      <td>...</td>\n",
       "      <td>False</td>\n",
       "      <td>False</td>\n",
       "      <td>True</td>\n",
       "      <td>False</td>\n",
       "      <td>False</td>\n",
       "      <td>True</td>\n",
       "      <td>False</td>\n",
       "      <td>False</td>\n",
       "      <td>False</td>\n",
       "      <td>False</td>\n",
       "    </tr>\n",
       "    <tr>\n",
       "      <th>33668</th>\n",
       "      <td>35.0</td>\n",
       "      <td>30000.0</td>\n",
       "      <td>1644.0</td>\n",
       "      <td>True</td>\n",
       "      <td>False</td>\n",
       "      <td>False</td>\n",
       "      <td>False</td>\n",
       "      <td>False</td>\n",
       "      <td>False</td>\n",
       "      <td>False</td>\n",
       "      <td>...</td>\n",
       "      <td>True</td>\n",
       "      <td>False</td>\n",
       "      <td>False</td>\n",
       "      <td>False</td>\n",
       "      <td>False</td>\n",
       "      <td>True</td>\n",
       "      <td>False</td>\n",
       "      <td>False</td>\n",
       "      <td>False</td>\n",
       "      <td>False</td>\n",
       "    </tr>\n",
       "    <tr>\n",
       "      <th>33669</th>\n",
       "      <td>39.0</td>\n",
       "      <td>5500.0</td>\n",
       "      <td>1644.0</td>\n",
       "      <td>False</td>\n",
       "      <td>False</td>\n",
       "      <td>False</td>\n",
       "      <td>False</td>\n",
       "      <td>False</td>\n",
       "      <td>False</td>\n",
       "      <td>False</td>\n",
       "      <td>...</td>\n",
       "      <td>False</td>\n",
       "      <td>True</td>\n",
       "      <td>False</td>\n",
       "      <td>False</td>\n",
       "      <td>False</td>\n",
       "      <td>False</td>\n",
       "      <td>True</td>\n",
       "      <td>False</td>\n",
       "      <td>False</td>\n",
       "      <td>False</td>\n",
       "    </tr>\n",
       "    <tr>\n",
       "      <th>33671</th>\n",
       "      <td>38.0</td>\n",
       "      <td>11000.0</td>\n",
       "      <td>1644.0</td>\n",
       "      <td>True</td>\n",
       "      <td>False</td>\n",
       "      <td>False</td>\n",
       "      <td>False</td>\n",
       "      <td>False</td>\n",
       "      <td>False</td>\n",
       "      <td>False</td>\n",
       "      <td>...</td>\n",
       "      <td>True</td>\n",
       "      <td>False</td>\n",
       "      <td>False</td>\n",
       "      <td>False</td>\n",
       "      <td>False</td>\n",
       "      <td>True</td>\n",
       "      <td>False</td>\n",
       "      <td>False</td>\n",
       "      <td>False</td>\n",
       "      <td>False</td>\n",
       "    </tr>\n",
       "    <tr>\n",
       "      <th>33672</th>\n",
       "      <td>8.0</td>\n",
       "      <td>5500.0</td>\n",
       "      <td>1644.0</td>\n",
       "      <td>False</td>\n",
       "      <td>False</td>\n",
       "      <td>True</td>\n",
       "      <td>False</td>\n",
       "      <td>False</td>\n",
       "      <td>False</td>\n",
       "      <td>False</td>\n",
       "      <td>...</td>\n",
       "      <td>False</td>\n",
       "      <td>True</td>\n",
       "      <td>False</td>\n",
       "      <td>False</td>\n",
       "      <td>False</td>\n",
       "      <td>True</td>\n",
       "      <td>False</td>\n",
       "      <td>False</td>\n",
       "      <td>False</td>\n",
       "      <td>False</td>\n",
       "    </tr>\n",
       "  </tbody>\n",
       "</table>\n",
       "<p>22306 rows × 1608 columns</p>\n",
       "</div>"
      ],
      "text/plain": [
       "         HH   KMANNU  REVMENS  target  PE_0000  PE_0003  PE_111A  PE_111B  \\\n",
       "2      66.0   3666.0   1644.0   False    False    False    False    False   \n",
       "6      40.0   1410.0   1644.0   False    False    False     True    False   \n",
       "9      35.0   5500.0   1200.0    True    False    False    False    False   \n",
       "11      5.0   5500.0   1644.0   False    False    False    False    False   \n",
       "15     26.0   9400.0   1644.0    True    False    False     True    False   \n",
       "...     ...      ...      ...     ...      ...      ...      ...      ...   \n",
       "33667  36.0   5500.0   1400.0    True    False    False    False    False   \n",
       "33668  35.0  30000.0   1644.0    True    False    False    False    False   \n",
       "33669  39.0   5500.0   1644.0   False    False    False    False    False   \n",
       "33671  38.0  11000.0   1644.0    True    False    False    False    False   \n",
       "33672   8.0   5500.0   1644.0   False    False     True    False    False   \n",
       "\n",
       "       PE_111C  PE_111D  ...  DELAIS_1  DELAIS_2  DELAIS_3  DELAIS_8  \\\n",
       "2        False    False  ...     False      True     False     False   \n",
       "6        False    False  ...      True     False     False     False   \n",
       "9        False    False  ...     False      True     False     False   \n",
       "11       False    False  ...      True     False     False     False   \n",
       "15       False    False  ...     False     False      True     False   \n",
       "...        ...      ...  ...       ...       ...       ...       ...   \n",
       "33667    False    False  ...     False     False      True     False   \n",
       "33668    False    False  ...      True     False     False     False   \n",
       "33669    False    False  ...     False      True     False     False   \n",
       "33671    False    False  ...      True     False     False     False   \n",
       "33672    False    False  ...     False      True     False     False   \n",
       "\n",
       "       DELAIS_9  INCIDENT_1  INCIDENT_2  INCIDENT_3  INCIDENT_8  INCIDENT_9  \n",
       "2         False       False       False        True       False       False  \n",
       "6         False        True       False       False       False       False  \n",
       "9         False        True       False       False       False       False  \n",
       "11        False        True       False       False       False       False  \n",
       "15        False        True       False       False       False       False  \n",
       "...         ...         ...         ...         ...         ...         ...  \n",
       "33667     False        True       False       False       False       False  \n",
       "33668     False        True       False       False       False       False  \n",
       "33669     False       False        True       False       False       False  \n",
       "33671     False        True       False       False       False       False  \n",
       "33672     False        True       False       False       False       False  \n",
       "\n",
       "[22306 rows x 1608 columns]"
      ]
     },
     "execution_count": 154,
     "metadata": {},
     "output_type": "execute_result"
    }
   ],
   "source": [
    "one_hot_df"
   ]
  },
  {
   "cell_type": "markdown",
   "metadata": {},
   "source": [
    "##### Select the quantitative variables and the previously selected qualitative value variables from the one hot encoded dataframe "
   ]
  },
  {
   "cell_type": "code",
   "execution_count": 155,
   "metadata": {},
   "outputs": [],
   "source": [
    "one_hot_df = one_hot_df[\n",
    "    filtered_oh_quali_corr[\"Column\"].to_list()\n",
    "    + quant_corr_filtered[\"Column\"].to_list()\n",
    "    + [\"target\"]\n",
    "]"
   ]
  },
  {
   "cell_type": "markdown",
   "metadata": {},
   "source": [
    "---"
   ]
  },
  {
   "cell_type": "markdown",
   "metadata": {},
   "source": [
    "## 4. Statistical modeling"
   ]
  },
  {
   "cell_type": "markdown",
   "metadata": {},
   "source": [
    "### A. Multicollinearity tests"
   ]
  },
  {
   "cell_type": "markdown",
   "metadata": {},
   "source": [
    "##### We analyze the selected variables for collinearity to eliminate highly correlated or associated variables that would badly influence our model. "
   ]
  },
  {
   "cell_type": "code",
   "execution_count": 156,
   "metadata": {},
   "outputs": [
    {
     "data": {
      "text/html": [
       "<div>\n",
       "<style scoped>\n",
       "    .dataframe tbody tr th:only-of-type {\n",
       "        vertical-align: middle;\n",
       "    }\n",
       "\n",
       "    .dataframe tbody tr th {\n",
       "        vertical-align: top;\n",
       "    }\n",
       "\n",
       "    .dataframe thead th {\n",
       "        text-align: right;\n",
       "    }\n",
       "</style>\n",
       "<table border=\"1\" class=\"dataframe\">\n",
       "  <thead>\n",
       "    <tr style=\"text-align: right;\">\n",
       "      <th></th>\n",
       "      <th>TPP_1</th>\n",
       "      <th>SECROUT_1</th>\n",
       "      <th>SECROUT_2</th>\n",
       "      <th>cser_5</th>\n",
       "      <th>naf4_EV</th>\n",
       "      <th>CONDUITE_2</th>\n",
       "      <th>NBRKM_DRAP_ 0</th>\n",
       "      <th>CONDUITE_1</th>\n",
       "      <th>naf17_OQ</th>\n",
       "      <th>CJSITUA_6</th>\n",
       "      <th>...</th>\n",
       "      <th>CWVIB_2</th>\n",
       "      <th>CWVIB_1</th>\n",
       "      <th>SECFUPOU_2</th>\n",
       "      <th>SECFUPOU_1</th>\n",
       "      <th>ACTIVFIN_86</th>\n",
       "      <th>naf38_QA</th>\n",
       "      <th>HH</th>\n",
       "      <th>KMANNU</th>\n",
       "      <th>REVMENS</th>\n",
       "      <th>target</th>\n",
       "    </tr>\n",
       "  </thead>\n",
       "  <tbody>\n",
       "    <tr>\n",
       "      <th>TPP_1</th>\n",
       "      <td>1.000000</td>\n",
       "      <td>0.125718</td>\n",
       "      <td>-0.125640</td>\n",
       "      <td>-0.167049</td>\n",
       "      <td>-0.143424</td>\n",
       "      <td>-0.127877</td>\n",
       "      <td>-0.128077</td>\n",
       "      <td>0.128077</td>\n",
       "      <td>-0.088461</td>\n",
       "      <td>0.071407</td>\n",
       "      <td>...</td>\n",
       "      <td>-0.122111</td>\n",
       "      <td>0.121923</td>\n",
       "      <td>-0.103316</td>\n",
       "      <td>0.103048</td>\n",
       "      <td>-0.056000</td>\n",
       "      <td>-0.056000</td>\n",
       "      <td>0.529593</td>\n",
       "      <td>0.100230</td>\n",
       "      <td>0.123532</td>\n",
       "      <td>0.308664</td>\n",
       "    </tr>\n",
       "    <tr>\n",
       "      <th>SECROUT_1</th>\n",
       "      <td>0.125718</td>\n",
       "      <td>1.000000</td>\n",
       "      <td>-0.999123</td>\n",
       "      <td>-0.144906</td>\n",
       "      <td>-0.138219</td>\n",
       "      <td>-0.661175</td>\n",
       "      <td>-0.661096</td>\n",
       "      <td>0.661096</td>\n",
       "      <td>-0.119002</td>\n",
       "      <td>0.062976</td>\n",
       "      <td>...</td>\n",
       "      <td>-0.316881</td>\n",
       "      <td>0.317121</td>\n",
       "      <td>-0.238399</td>\n",
       "      <td>0.238491</td>\n",
       "      <td>-0.136021</td>\n",
       "      <td>-0.136021</td>\n",
       "      <td>0.204578</td>\n",
       "      <td>0.303375</td>\n",
       "      <td>0.031349</td>\n",
       "      <td>0.283972</td>\n",
       "    </tr>\n",
       "    <tr>\n",
       "      <th>SECROUT_2</th>\n",
       "      <td>-0.125640</td>\n",
       "      <td>-0.999123</td>\n",
       "      <td>1.000000</td>\n",
       "      <td>0.144802</td>\n",
       "      <td>0.137748</td>\n",
       "      <td>0.661684</td>\n",
       "      <td>0.661605</td>\n",
       "      <td>-0.661605</td>\n",
       "      <td>0.118607</td>\n",
       "      <td>-0.062752</td>\n",
       "      <td>...</td>\n",
       "      <td>0.316669</td>\n",
       "      <td>-0.316661</td>\n",
       "      <td>0.238813</td>\n",
       "      <td>-0.238701</td>\n",
       "      <td>0.135862</td>\n",
       "      <td>0.135862</td>\n",
       "      <td>-0.204726</td>\n",
       "      <td>-0.303152</td>\n",
       "      <td>-0.031431</td>\n",
       "      <td>-0.283617</td>\n",
       "    </tr>\n",
       "    <tr>\n",
       "      <th>cser_5</th>\n",
       "      <td>-0.167049</td>\n",
       "      <td>-0.144906</td>\n",
       "      <td>0.144802</td>\n",
       "      <td>1.000000</td>\n",
       "      <td>0.256628</td>\n",
       "      <td>0.181942</td>\n",
       "      <td>0.181808</td>\n",
       "      <td>-0.181808</td>\n",
       "      <td>0.184649</td>\n",
       "      <td>-0.089359</td>\n",
       "      <td>...</td>\n",
       "      <td>0.114477</td>\n",
       "      <td>-0.114215</td>\n",
       "      <td>0.100931</td>\n",
       "      <td>-0.100576</td>\n",
       "      <td>0.085229</td>\n",
       "      <td>0.085229</td>\n",
       "      <td>-0.190228</td>\n",
       "      <td>-0.124125</td>\n",
       "      <td>-0.112451</td>\n",
       "      <td>-0.294126</td>\n",
       "    </tr>\n",
       "    <tr>\n",
       "      <th>naf4_EV</th>\n",
       "      <td>-0.143424</td>\n",
       "      <td>-0.138219</td>\n",
       "      <td>0.137748</td>\n",
       "      <td>0.256628</td>\n",
       "      <td>1.000000</td>\n",
       "      <td>0.103048</td>\n",
       "      <td>0.102672</td>\n",
       "      <td>-0.102672</td>\n",
       "      <td>0.470077</td>\n",
       "      <td>-0.108275</td>\n",
       "      <td>...</td>\n",
       "      <td>0.239039</td>\n",
       "      <td>-0.238803</td>\n",
       "      <td>0.313607</td>\n",
       "      <td>-0.313275</td>\n",
       "      <td>0.232267</td>\n",
       "      <td>0.232267</td>\n",
       "      <td>-0.142649</td>\n",
       "      <td>-0.079932</td>\n",
       "      <td>-0.004528</td>\n",
       "      <td>-0.276469</td>\n",
       "    </tr>\n",
       "    <tr>\n",
       "      <th>CONDUITE_2</th>\n",
       "      <td>-0.127877</td>\n",
       "      <td>-0.661175</td>\n",
       "      <td>0.661684</td>\n",
       "      <td>0.181942</td>\n",
       "      <td>0.103048</td>\n",
       "      <td>1.000000</td>\n",
       "      <td>0.999434</td>\n",
       "      <td>-0.999434</td>\n",
       "      <td>0.105614</td>\n",
       "      <td>-0.054224</td>\n",
       "      <td>...</td>\n",
       "      <td>0.227721</td>\n",
       "      <td>-0.227952</td>\n",
       "      <td>0.136080</td>\n",
       "      <td>-0.136181</td>\n",
       "      <td>0.142725</td>\n",
       "      <td>0.142725</td>\n",
       "      <td>-0.244954</td>\n",
       "      <td>-0.282261</td>\n",
       "      <td>-0.055904</td>\n",
       "      <td>-0.269212</td>\n",
       "    </tr>\n",
       "    <tr>\n",
       "      <th>NBRKM_DRAP_ 0</th>\n",
       "      <td>-0.128077</td>\n",
       "      <td>-0.661096</td>\n",
       "      <td>0.661605</td>\n",
       "      <td>0.181808</td>\n",
       "      <td>0.102672</td>\n",
       "      <td>0.999434</td>\n",
       "      <td>1.000000</td>\n",
       "      <td>-1.000000</td>\n",
       "      <td>0.105128</td>\n",
       "      <td>-0.053581</td>\n",
       "      <td>...</td>\n",
       "      <td>0.227756</td>\n",
       "      <td>-0.227986</td>\n",
       "      <td>0.135854</td>\n",
       "      <td>-0.136156</td>\n",
       "      <td>0.142496</td>\n",
       "      <td>0.142496</td>\n",
       "      <td>-0.245055</td>\n",
       "      <td>-0.282421</td>\n",
       "      <td>-0.055949</td>\n",
       "      <td>-0.268930</td>\n",
       "    </tr>\n",
       "    <tr>\n",
       "      <th>CONDUITE_1</th>\n",
       "      <td>0.128077</td>\n",
       "      <td>0.661096</td>\n",
       "      <td>-0.661605</td>\n",
       "      <td>-0.181808</td>\n",
       "      <td>-0.102672</td>\n",
       "      <td>-0.999434</td>\n",
       "      <td>-1.000000</td>\n",
       "      <td>1.000000</td>\n",
       "      <td>-0.105128</td>\n",
       "      <td>0.053581</td>\n",
       "      <td>...</td>\n",
       "      <td>-0.227756</td>\n",
       "      <td>0.227986</td>\n",
       "      <td>-0.135854</td>\n",
       "      <td>0.136156</td>\n",
       "      <td>-0.142496</td>\n",
       "      <td>-0.142496</td>\n",
       "      <td>0.245055</td>\n",
       "      <td>0.282421</td>\n",
       "      <td>0.055949</td>\n",
       "      <td>0.268930</td>\n",
       "    </tr>\n",
       "    <tr>\n",
       "      <th>naf17_OQ</th>\n",
       "      <td>-0.088461</td>\n",
       "      <td>-0.119002</td>\n",
       "      <td>0.118607</td>\n",
       "      <td>0.184649</td>\n",
       "      <td>0.470077</td>\n",
       "      <td>0.105614</td>\n",
       "      <td>0.105128</td>\n",
       "      <td>-0.105128</td>\n",
       "      <td>1.000000</td>\n",
       "      <td>-0.103762</td>\n",
       "      <td>...</td>\n",
       "      <td>0.154381</td>\n",
       "      <td>-0.154493</td>\n",
       "      <td>0.199522</td>\n",
       "      <td>-0.199632</td>\n",
       "      <td>0.494103</td>\n",
       "      <td>0.494103</td>\n",
       "      <td>-0.142054</td>\n",
       "      <td>-0.162580</td>\n",
       "      <td>0.027168</td>\n",
       "      <td>-0.250588</td>\n",
       "    </tr>\n",
       "    <tr>\n",
       "      <th>CJSITUA_6</th>\n",
       "      <td>0.071407</td>\n",
       "      <td>0.062976</td>\n",
       "      <td>-0.062752</td>\n",
       "      <td>-0.089359</td>\n",
       "      <td>-0.108275</td>\n",
       "      <td>-0.054224</td>\n",
       "      <td>-0.053581</td>\n",
       "      <td>0.053581</td>\n",
       "      <td>-0.103762</td>\n",
       "      <td>1.000000</td>\n",
       "      <td>...</td>\n",
       "      <td>-0.095907</td>\n",
       "      <td>0.095045</td>\n",
       "      <td>-0.093314</td>\n",
       "      <td>0.092646</td>\n",
       "      <td>-0.062189</td>\n",
       "      <td>-0.062189</td>\n",
       "      <td>0.069512</td>\n",
       "      <td>0.049407</td>\n",
       "      <td>0.033717</td>\n",
       "      <td>0.275295</td>\n",
       "    </tr>\n",
       "    <tr>\n",
       "      <th>TINA_3</th>\n",
       "      <td>0.196354</td>\n",
       "      <td>0.096271</td>\n",
       "      <td>-0.096213</td>\n",
       "      <td>-0.202731</td>\n",
       "      <td>-0.100333</td>\n",
       "      <td>-0.098416</td>\n",
       "      <td>-0.098375</td>\n",
       "      <td>0.098375</td>\n",
       "      <td>-0.081182</td>\n",
       "      <td>0.078146</td>\n",
       "      <td>...</td>\n",
       "      <td>-0.087804</td>\n",
       "      <td>0.087598</td>\n",
       "      <td>-0.085104</td>\n",
       "      <td>0.085069</td>\n",
       "      <td>-0.037632</td>\n",
       "      <td>-0.037632</td>\n",
       "      <td>0.147884</td>\n",
       "      <td>0.076544</td>\n",
       "      <td>0.070832</td>\n",
       "      <td>0.278533</td>\n",
       "    </tr>\n",
       "    <tr>\n",
       "      <th>NBRKM_DRAP_ 1</th>\n",
       "      <td>0.122732</td>\n",
       "      <td>0.621054</td>\n",
       "      <td>-0.621263</td>\n",
       "      <td>-0.177040</td>\n",
       "      <td>-0.093890</td>\n",
       "      <td>-0.920992</td>\n",
       "      <td>-0.921514</td>\n",
       "      <td>0.921514</td>\n",
       "      <td>-0.102699</td>\n",
       "      <td>0.048808</td>\n",
       "      <td>...</td>\n",
       "      <td>-0.198615</td>\n",
       "      <td>0.199048</td>\n",
       "      <td>-0.109620</td>\n",
       "      <td>0.110079</td>\n",
       "      <td>-0.131120</td>\n",
       "      <td>-0.131120</td>\n",
       "      <td>0.239188</td>\n",
       "      <td>0.306475</td>\n",
       "      <td>0.059176</td>\n",
       "      <td>0.257483</td>\n",
       "    </tr>\n",
       "    <tr>\n",
       "      <th>csei_61</th>\n",
       "      <td>0.117389</td>\n",
       "      <td>0.138483</td>\n",
       "      <td>-0.138437</td>\n",
       "      <td>-0.234381</td>\n",
       "      <td>-0.261679</td>\n",
       "      <td>-0.057957</td>\n",
       "      <td>-0.057876</td>\n",
       "      <td>0.057876</td>\n",
       "      <td>-0.208711</td>\n",
       "      <td>0.089793</td>\n",
       "      <td>...</td>\n",
       "      <td>-0.289264</td>\n",
       "      <td>0.289184</td>\n",
       "      <td>-0.281121</td>\n",
       "      <td>0.280792</td>\n",
       "      <td>-0.129141</td>\n",
       "      <td>-0.129141</td>\n",
       "      <td>0.001866</td>\n",
       "      <td>0.166733</td>\n",
       "      <td>-0.040603</td>\n",
       "      <td>0.246502</td>\n",
       "    </tr>\n",
       "    <tr>\n",
       "      <th>cser_6</th>\n",
       "      <td>0.094301</td>\n",
       "      <td>0.124864</td>\n",
       "      <td>-0.124709</td>\n",
       "      <td>-0.289450</td>\n",
       "      <td>-0.320405</td>\n",
       "      <td>-0.023545</td>\n",
       "      <td>-0.023299</td>\n",
       "      <td>0.023299</td>\n",
       "      <td>-0.261268</td>\n",
       "      <td>0.115547</td>\n",
       "      <td>...</td>\n",
       "      <td>-0.320137</td>\n",
       "      <td>0.319842</td>\n",
       "      <td>-0.348591</td>\n",
       "      <td>0.348417</td>\n",
       "      <td>-0.167460</td>\n",
       "      <td>-0.167460</td>\n",
       "      <td>-0.046364</td>\n",
       "      <td>0.121096</td>\n",
       "      <td>-0.067501</td>\n",
       "      <td>0.242515</td>\n",
       "    </tr>\n",
       "    <tr>\n",
       "      <th>CWVIB_2</th>\n",
       "      <td>-0.122111</td>\n",
       "      <td>-0.316881</td>\n",
       "      <td>0.316669</td>\n",
       "      <td>0.114477</td>\n",
       "      <td>0.239039</td>\n",
       "      <td>0.227721</td>\n",
       "      <td>0.227756</td>\n",
       "      <td>-0.227756</td>\n",
       "      <td>0.154381</td>\n",
       "      <td>-0.095907</td>\n",
       "      <td>...</td>\n",
       "      <td>1.000000</td>\n",
       "      <td>-0.999366</td>\n",
       "      <td>0.405977</td>\n",
       "      <td>-0.405828</td>\n",
       "      <td>0.079063</td>\n",
       "      <td>0.079063</td>\n",
       "      <td>-0.117392</td>\n",
       "      <td>-0.224299</td>\n",
       "      <td>0.029367</td>\n",
       "      <td>-0.246877</td>\n",
       "    </tr>\n",
       "    <tr>\n",
       "      <th>CWVIB_1</th>\n",
       "      <td>0.121923</td>\n",
       "      <td>0.317121</td>\n",
       "      <td>-0.316661</td>\n",
       "      <td>-0.114215</td>\n",
       "      <td>-0.238803</td>\n",
       "      <td>-0.227952</td>\n",
       "      <td>-0.227986</td>\n",
       "      <td>0.227986</td>\n",
       "      <td>-0.154493</td>\n",
       "      <td>0.095045</td>\n",
       "      <td>...</td>\n",
       "      <td>-0.999366</td>\n",
       "      <td>1.000000</td>\n",
       "      <td>-0.405937</td>\n",
       "      <td>0.406048</td>\n",
       "      <td>-0.079202</td>\n",
       "      <td>-0.079202</td>\n",
       "      <td>0.117302</td>\n",
       "      <td>0.224500</td>\n",
       "      <td>-0.029521</td>\n",
       "      <td>0.246870</td>\n",
       "    </tr>\n",
       "    <tr>\n",
       "      <th>SECFUPOU_2</th>\n",
       "      <td>-0.103316</td>\n",
       "      <td>-0.238399</td>\n",
       "      <td>0.238813</td>\n",
       "      <td>0.100931</td>\n",
       "      <td>0.313607</td>\n",
       "      <td>0.136080</td>\n",
       "      <td>0.135854</td>\n",
       "      <td>-0.135854</td>\n",
       "      <td>0.199522</td>\n",
       "      <td>-0.093314</td>\n",
       "      <td>...</td>\n",
       "      <td>0.405977</td>\n",
       "      <td>-0.405937</td>\n",
       "      <td>1.000000</td>\n",
       "      <td>-0.999358</td>\n",
       "      <td>0.148113</td>\n",
       "      <td>0.148113</td>\n",
       "      <td>-0.065502</td>\n",
       "      <td>-0.077693</td>\n",
       "      <td>0.048650</td>\n",
       "      <td>-0.234598</td>\n",
       "    </tr>\n",
       "    <tr>\n",
       "      <th>SECFUPOU_1</th>\n",
       "      <td>0.103048</td>\n",
       "      <td>0.238491</td>\n",
       "      <td>-0.238701</td>\n",
       "      <td>-0.100576</td>\n",
       "      <td>-0.313275</td>\n",
       "      <td>-0.136181</td>\n",
       "      <td>-0.136156</td>\n",
       "      <td>0.136156</td>\n",
       "      <td>-0.199632</td>\n",
       "      <td>0.092646</td>\n",
       "      <td>...</td>\n",
       "      <td>-0.405828</td>\n",
       "      <td>0.406048</td>\n",
       "      <td>-0.999358</td>\n",
       "      <td>1.000000</td>\n",
       "      <td>-0.148414</td>\n",
       "      <td>-0.148414</td>\n",
       "      <td>0.065291</td>\n",
       "      <td>0.077845</td>\n",
       "      <td>-0.048612</td>\n",
       "      <td>0.234522</td>\n",
       "    </tr>\n",
       "    <tr>\n",
       "      <th>ACTIVFIN_86</th>\n",
       "      <td>-0.056000</td>\n",
       "      <td>-0.136021</td>\n",
       "      <td>0.135862</td>\n",
       "      <td>0.085229</td>\n",
       "      <td>0.232267</td>\n",
       "      <td>0.142725</td>\n",
       "      <td>0.142496</td>\n",
       "      <td>-0.142496</td>\n",
       "      <td>0.494103</td>\n",
       "      <td>-0.062189</td>\n",
       "      <td>...</td>\n",
       "      <td>0.079063</td>\n",
       "      <td>-0.079202</td>\n",
       "      <td>0.148113</td>\n",
       "      <td>-0.148414</td>\n",
       "      <td>1.000000</td>\n",
       "      <td>1.000000</td>\n",
       "      <td>-0.050337</td>\n",
       "      <td>-0.068825</td>\n",
       "      <td>0.010289</td>\n",
       "      <td>-0.201527</td>\n",
       "    </tr>\n",
       "    <tr>\n",
       "      <th>naf38_QA</th>\n",
       "      <td>-0.056000</td>\n",
       "      <td>-0.136021</td>\n",
       "      <td>0.135862</td>\n",
       "      <td>0.085229</td>\n",
       "      <td>0.232267</td>\n",
       "      <td>0.142725</td>\n",
       "      <td>0.142496</td>\n",
       "      <td>-0.142496</td>\n",
       "      <td>0.494103</td>\n",
       "      <td>-0.062189</td>\n",
       "      <td>...</td>\n",
       "      <td>0.079063</td>\n",
       "      <td>-0.079202</td>\n",
       "      <td>0.148113</td>\n",
       "      <td>-0.148414</td>\n",
       "      <td>1.000000</td>\n",
       "      <td>1.000000</td>\n",
       "      <td>-0.050337</td>\n",
       "      <td>-0.068825</td>\n",
       "      <td>0.010289</td>\n",
       "      <td>-0.201527</td>\n",
       "    </tr>\n",
       "    <tr>\n",
       "      <th>HH</th>\n",
       "      <td>0.529593</td>\n",
       "      <td>0.204578</td>\n",
       "      <td>-0.204726</td>\n",
       "      <td>-0.190228</td>\n",
       "      <td>-0.142649</td>\n",
       "      <td>-0.244954</td>\n",
       "      <td>-0.245055</td>\n",
       "      <td>0.245055</td>\n",
       "      <td>-0.142054</td>\n",
       "      <td>0.069512</td>\n",
       "      <td>...</td>\n",
       "      <td>-0.117392</td>\n",
       "      <td>0.117302</td>\n",
       "      <td>-0.065502</td>\n",
       "      <td>0.065291</td>\n",
       "      <td>-0.050337</td>\n",
       "      <td>-0.050337</td>\n",
       "      <td>1.000000</td>\n",
       "      <td>0.214283</td>\n",
       "      <td>0.138920</td>\n",
       "      <td>0.268707</td>\n",
       "    </tr>\n",
       "    <tr>\n",
       "      <th>KMANNU</th>\n",
       "      <td>0.100230</td>\n",
       "      <td>0.303375</td>\n",
       "      <td>-0.303152</td>\n",
       "      <td>-0.124125</td>\n",
       "      <td>-0.079932</td>\n",
       "      <td>-0.282261</td>\n",
       "      <td>-0.282421</td>\n",
       "      <td>0.282421</td>\n",
       "      <td>-0.162580</td>\n",
       "      <td>0.049407</td>\n",
       "      <td>...</td>\n",
       "      <td>-0.224299</td>\n",
       "      <td>0.224500</td>\n",
       "      <td>-0.077693</td>\n",
       "      <td>0.077845</td>\n",
       "      <td>-0.068825</td>\n",
       "      <td>-0.068825</td>\n",
       "      <td>0.214283</td>\n",
       "      <td>1.000000</td>\n",
       "      <td>0.026421</td>\n",
       "      <td>0.209452</td>\n",
       "    </tr>\n",
       "    <tr>\n",
       "      <th>REVMENS</th>\n",
       "      <td>0.123532</td>\n",
       "      <td>0.031349</td>\n",
       "      <td>-0.031431</td>\n",
       "      <td>-0.112451</td>\n",
       "      <td>-0.004528</td>\n",
       "      <td>-0.055904</td>\n",
       "      <td>-0.055949</td>\n",
       "      <td>0.055949</td>\n",
       "      <td>0.027168</td>\n",
       "      <td>0.033717</td>\n",
       "      <td>...</td>\n",
       "      <td>0.029367</td>\n",
       "      <td>-0.029521</td>\n",
       "      <td>0.048650</td>\n",
       "      <td>-0.048612</td>\n",
       "      <td>0.010289</td>\n",
       "      <td>0.010289</td>\n",
       "      <td>0.138920</td>\n",
       "      <td>0.026421</td>\n",
       "      <td>1.000000</td>\n",
       "      <td>0.114774</td>\n",
       "    </tr>\n",
       "    <tr>\n",
       "      <th>target</th>\n",
       "      <td>0.308664</td>\n",
       "      <td>0.283972</td>\n",
       "      <td>-0.283617</td>\n",
       "      <td>-0.294126</td>\n",
       "      <td>-0.276469</td>\n",
       "      <td>-0.269212</td>\n",
       "      <td>-0.268930</td>\n",
       "      <td>0.268930</td>\n",
       "      <td>-0.250588</td>\n",
       "      <td>0.275295</td>\n",
       "      <td>...</td>\n",
       "      <td>-0.246877</td>\n",
       "      <td>0.246870</td>\n",
       "      <td>-0.234598</td>\n",
       "      <td>0.234522</td>\n",
       "      <td>-0.201527</td>\n",
       "      <td>-0.201527</td>\n",
       "      <td>0.268707</td>\n",
       "      <td>0.209452</td>\n",
       "      <td>0.114774</td>\n",
       "      <td>1.000000</td>\n",
       "    </tr>\n",
       "  </tbody>\n",
       "</table>\n",
       "<p>24 rows × 24 columns</p>\n",
       "</div>"
      ],
      "text/plain": [
       "                  TPP_1  SECROUT_1  SECROUT_2    cser_5   naf4_EV  CONDUITE_2  \\\n",
       "TPP_1          1.000000   0.125718  -0.125640 -0.167049 -0.143424   -0.127877   \n",
       "SECROUT_1      0.125718   1.000000  -0.999123 -0.144906 -0.138219   -0.661175   \n",
       "SECROUT_2     -0.125640  -0.999123   1.000000  0.144802  0.137748    0.661684   \n",
       "cser_5        -0.167049  -0.144906   0.144802  1.000000  0.256628    0.181942   \n",
       "naf4_EV       -0.143424  -0.138219   0.137748  0.256628  1.000000    0.103048   \n",
       "CONDUITE_2    -0.127877  -0.661175   0.661684  0.181942  0.103048    1.000000   \n",
       "NBRKM_DRAP_ 0 -0.128077  -0.661096   0.661605  0.181808  0.102672    0.999434   \n",
       "CONDUITE_1     0.128077   0.661096  -0.661605 -0.181808 -0.102672   -0.999434   \n",
       "naf17_OQ      -0.088461  -0.119002   0.118607  0.184649  0.470077    0.105614   \n",
       "CJSITUA_6      0.071407   0.062976  -0.062752 -0.089359 -0.108275   -0.054224   \n",
       "TINA_3         0.196354   0.096271  -0.096213 -0.202731 -0.100333   -0.098416   \n",
       "NBRKM_DRAP_ 1  0.122732   0.621054  -0.621263 -0.177040 -0.093890   -0.920992   \n",
       "csei_61        0.117389   0.138483  -0.138437 -0.234381 -0.261679   -0.057957   \n",
       "cser_6         0.094301   0.124864  -0.124709 -0.289450 -0.320405   -0.023545   \n",
       "CWVIB_2       -0.122111  -0.316881   0.316669  0.114477  0.239039    0.227721   \n",
       "CWVIB_1        0.121923   0.317121  -0.316661 -0.114215 -0.238803   -0.227952   \n",
       "SECFUPOU_2    -0.103316  -0.238399   0.238813  0.100931  0.313607    0.136080   \n",
       "SECFUPOU_1     0.103048   0.238491  -0.238701 -0.100576 -0.313275   -0.136181   \n",
       "ACTIVFIN_86   -0.056000  -0.136021   0.135862  0.085229  0.232267    0.142725   \n",
       "naf38_QA      -0.056000  -0.136021   0.135862  0.085229  0.232267    0.142725   \n",
       "HH             0.529593   0.204578  -0.204726 -0.190228 -0.142649   -0.244954   \n",
       "KMANNU         0.100230   0.303375  -0.303152 -0.124125 -0.079932   -0.282261   \n",
       "REVMENS        0.123532   0.031349  -0.031431 -0.112451 -0.004528   -0.055904   \n",
       "target         0.308664   0.283972  -0.283617 -0.294126 -0.276469   -0.269212   \n",
       "\n",
       "               NBRKM_DRAP_ 0  CONDUITE_1  naf17_OQ  CJSITUA_6  ...   CWVIB_2  \\\n",
       "TPP_1              -0.128077    0.128077 -0.088461   0.071407  ... -0.122111   \n",
       "SECROUT_1          -0.661096    0.661096 -0.119002   0.062976  ... -0.316881   \n",
       "SECROUT_2           0.661605   -0.661605  0.118607  -0.062752  ...  0.316669   \n",
       "cser_5              0.181808   -0.181808  0.184649  -0.089359  ...  0.114477   \n",
       "naf4_EV             0.102672   -0.102672  0.470077  -0.108275  ...  0.239039   \n",
       "CONDUITE_2          0.999434   -0.999434  0.105614  -0.054224  ...  0.227721   \n",
       "NBRKM_DRAP_ 0       1.000000   -1.000000  0.105128  -0.053581  ...  0.227756   \n",
       "CONDUITE_1         -1.000000    1.000000 -0.105128   0.053581  ... -0.227756   \n",
       "naf17_OQ            0.105128   -0.105128  1.000000  -0.103762  ...  0.154381   \n",
       "CJSITUA_6          -0.053581    0.053581 -0.103762   1.000000  ... -0.095907   \n",
       "TINA_3             -0.098375    0.098375 -0.081182   0.078146  ... -0.087804   \n",
       "NBRKM_DRAP_ 1      -0.921514    0.921514 -0.102699   0.048808  ... -0.198615   \n",
       "csei_61            -0.057876    0.057876 -0.208711   0.089793  ... -0.289264   \n",
       "cser_6             -0.023299    0.023299 -0.261268   0.115547  ... -0.320137   \n",
       "CWVIB_2             0.227756   -0.227756  0.154381  -0.095907  ...  1.000000   \n",
       "CWVIB_1            -0.227986    0.227986 -0.154493   0.095045  ... -0.999366   \n",
       "SECFUPOU_2          0.135854   -0.135854  0.199522  -0.093314  ...  0.405977   \n",
       "SECFUPOU_1         -0.136156    0.136156 -0.199632   0.092646  ... -0.405828   \n",
       "ACTIVFIN_86         0.142496   -0.142496  0.494103  -0.062189  ...  0.079063   \n",
       "naf38_QA            0.142496   -0.142496  0.494103  -0.062189  ...  0.079063   \n",
       "HH                 -0.245055    0.245055 -0.142054   0.069512  ... -0.117392   \n",
       "KMANNU             -0.282421    0.282421 -0.162580   0.049407  ... -0.224299   \n",
       "REVMENS            -0.055949    0.055949  0.027168   0.033717  ...  0.029367   \n",
       "target             -0.268930    0.268930 -0.250588   0.275295  ... -0.246877   \n",
       "\n",
       "                CWVIB_1  SECFUPOU_2  SECFUPOU_1  ACTIVFIN_86  naf38_QA  \\\n",
       "TPP_1          0.121923   -0.103316    0.103048    -0.056000 -0.056000   \n",
       "SECROUT_1      0.317121   -0.238399    0.238491    -0.136021 -0.136021   \n",
       "SECROUT_2     -0.316661    0.238813   -0.238701     0.135862  0.135862   \n",
       "cser_5        -0.114215    0.100931   -0.100576     0.085229  0.085229   \n",
       "naf4_EV       -0.238803    0.313607   -0.313275     0.232267  0.232267   \n",
       "CONDUITE_2    -0.227952    0.136080   -0.136181     0.142725  0.142725   \n",
       "NBRKM_DRAP_ 0 -0.227986    0.135854   -0.136156     0.142496  0.142496   \n",
       "CONDUITE_1     0.227986   -0.135854    0.136156    -0.142496 -0.142496   \n",
       "naf17_OQ      -0.154493    0.199522   -0.199632     0.494103  0.494103   \n",
       "CJSITUA_6      0.095045   -0.093314    0.092646    -0.062189 -0.062189   \n",
       "TINA_3         0.087598   -0.085104    0.085069    -0.037632 -0.037632   \n",
       "NBRKM_DRAP_ 1  0.199048   -0.109620    0.110079    -0.131120 -0.131120   \n",
       "csei_61        0.289184   -0.281121    0.280792    -0.129141 -0.129141   \n",
       "cser_6         0.319842   -0.348591    0.348417    -0.167460 -0.167460   \n",
       "CWVIB_2       -0.999366    0.405977   -0.405828     0.079063  0.079063   \n",
       "CWVIB_1        1.000000   -0.405937    0.406048    -0.079202 -0.079202   \n",
       "SECFUPOU_2    -0.405937    1.000000   -0.999358     0.148113  0.148113   \n",
       "SECFUPOU_1     0.406048   -0.999358    1.000000    -0.148414 -0.148414   \n",
       "ACTIVFIN_86   -0.079202    0.148113   -0.148414     1.000000  1.000000   \n",
       "naf38_QA      -0.079202    0.148113   -0.148414     1.000000  1.000000   \n",
       "HH             0.117302   -0.065502    0.065291    -0.050337 -0.050337   \n",
       "KMANNU         0.224500   -0.077693    0.077845    -0.068825 -0.068825   \n",
       "REVMENS       -0.029521    0.048650   -0.048612     0.010289  0.010289   \n",
       "target         0.246870   -0.234598    0.234522    -0.201527 -0.201527   \n",
       "\n",
       "                     HH    KMANNU   REVMENS    target  \n",
       "TPP_1          0.529593  0.100230  0.123532  0.308664  \n",
       "SECROUT_1      0.204578  0.303375  0.031349  0.283972  \n",
       "SECROUT_2     -0.204726 -0.303152 -0.031431 -0.283617  \n",
       "cser_5        -0.190228 -0.124125 -0.112451 -0.294126  \n",
       "naf4_EV       -0.142649 -0.079932 -0.004528 -0.276469  \n",
       "CONDUITE_2    -0.244954 -0.282261 -0.055904 -0.269212  \n",
       "NBRKM_DRAP_ 0 -0.245055 -0.282421 -0.055949 -0.268930  \n",
       "CONDUITE_1     0.245055  0.282421  0.055949  0.268930  \n",
       "naf17_OQ      -0.142054 -0.162580  0.027168 -0.250588  \n",
       "CJSITUA_6      0.069512  0.049407  0.033717  0.275295  \n",
       "TINA_3         0.147884  0.076544  0.070832  0.278533  \n",
       "NBRKM_DRAP_ 1  0.239188  0.306475  0.059176  0.257483  \n",
       "csei_61        0.001866  0.166733 -0.040603  0.246502  \n",
       "cser_6        -0.046364  0.121096 -0.067501  0.242515  \n",
       "CWVIB_2       -0.117392 -0.224299  0.029367 -0.246877  \n",
       "CWVIB_1        0.117302  0.224500 -0.029521  0.246870  \n",
       "SECFUPOU_2    -0.065502 -0.077693  0.048650 -0.234598  \n",
       "SECFUPOU_1     0.065291  0.077845 -0.048612  0.234522  \n",
       "ACTIVFIN_86   -0.050337 -0.068825  0.010289 -0.201527  \n",
       "naf38_QA      -0.050337 -0.068825  0.010289 -0.201527  \n",
       "HH             1.000000  0.214283  0.138920  0.268707  \n",
       "KMANNU         0.214283  1.000000  0.026421  0.209452  \n",
       "REVMENS        0.138920  0.026421  1.000000  0.114774  \n",
       "target         0.268707  0.209452  0.114774  1.000000  \n",
       "\n",
       "[24 rows x 24 columns]"
      ]
     },
     "execution_count": 156,
     "metadata": {},
     "output_type": "execute_result"
    }
   ],
   "source": [
    "# Calculate the correlation matrix\n",
    "corr_matrix = one_hot_df.corr()\n",
    "corr_matrix"
   ]
  },
  {
   "cell_type": "markdown",
   "metadata": {},
   "source": [
    "##### Due to the still high number of columns we need further processing to find collinear variables"
   ]
  },
  {
   "cell_type": "code",
   "execution_count": 157,
   "metadata": {},
   "outputs": [
    {
     "data": {
      "text/html": [
       "<div>\n",
       "<style scoped>\n",
       "    .dataframe tbody tr th:only-of-type {\n",
       "        vertical-align: middle;\n",
       "    }\n",
       "\n",
       "    .dataframe tbody tr th {\n",
       "        vertical-align: top;\n",
       "    }\n",
       "\n",
       "    .dataframe thead th {\n",
       "        text-align: right;\n",
       "    }\n",
       "</style>\n",
       "<table border=\"1\" class=\"dataframe\">\n",
       "  <thead>\n",
       "    <tr style=\"text-align: right;\">\n",
       "      <th></th>\n",
       "      <th>TPP_1</th>\n",
       "      <th>SECROUT_1</th>\n",
       "      <th>SECROUT_2</th>\n",
       "      <th>cser_5</th>\n",
       "      <th>naf4_EV</th>\n",
       "      <th>CONDUITE_2</th>\n",
       "      <th>NBRKM_DRAP_ 0</th>\n",
       "      <th>CONDUITE_1</th>\n",
       "      <th>naf17_OQ</th>\n",
       "      <th>CJSITUA_6</th>\n",
       "      <th>...</th>\n",
       "      <th>CWVIB_2</th>\n",
       "      <th>CWVIB_1</th>\n",
       "      <th>SECFUPOU_2</th>\n",
       "      <th>SECFUPOU_1</th>\n",
       "      <th>ACTIVFIN_86</th>\n",
       "      <th>naf38_QA</th>\n",
       "      <th>HH</th>\n",
       "      <th>KMANNU</th>\n",
       "      <th>REVMENS</th>\n",
       "      <th>target</th>\n",
       "    </tr>\n",
       "  </thead>\n",
       "  <tbody>\n",
       "    <tr>\n",
       "      <th>TPP_1</th>\n",
       "      <td>1.0</td>\n",
       "      <td>NaN</td>\n",
       "      <td>NaN</td>\n",
       "      <td>NaN</td>\n",
       "      <td>NaN</td>\n",
       "      <td>NaN</td>\n",
       "      <td>NaN</td>\n",
       "      <td>NaN</td>\n",
       "      <td>NaN</td>\n",
       "      <td>NaN</td>\n",
       "      <td>...</td>\n",
       "      <td>NaN</td>\n",
       "      <td>NaN</td>\n",
       "      <td>NaN</td>\n",
       "      <td>NaN</td>\n",
       "      <td>NaN</td>\n",
       "      <td>NaN</td>\n",
       "      <td>NaN</td>\n",
       "      <td>NaN</td>\n",
       "      <td>NaN</td>\n",
       "      <td>NaN</td>\n",
       "    </tr>\n",
       "    <tr>\n",
       "      <th>SECROUT_1</th>\n",
       "      <td>NaN</td>\n",
       "      <td>1.000000</td>\n",
       "      <td>-0.999123</td>\n",
       "      <td>NaN</td>\n",
       "      <td>NaN</td>\n",
       "      <td>NaN</td>\n",
       "      <td>NaN</td>\n",
       "      <td>NaN</td>\n",
       "      <td>NaN</td>\n",
       "      <td>NaN</td>\n",
       "      <td>...</td>\n",
       "      <td>NaN</td>\n",
       "      <td>NaN</td>\n",
       "      <td>NaN</td>\n",
       "      <td>NaN</td>\n",
       "      <td>NaN</td>\n",
       "      <td>NaN</td>\n",
       "      <td>NaN</td>\n",
       "      <td>NaN</td>\n",
       "      <td>NaN</td>\n",
       "      <td>NaN</td>\n",
       "    </tr>\n",
       "    <tr>\n",
       "      <th>SECROUT_2</th>\n",
       "      <td>NaN</td>\n",
       "      <td>-0.999123</td>\n",
       "      <td>1.000000</td>\n",
       "      <td>NaN</td>\n",
       "      <td>NaN</td>\n",
       "      <td>NaN</td>\n",
       "      <td>NaN</td>\n",
       "      <td>NaN</td>\n",
       "      <td>NaN</td>\n",
       "      <td>NaN</td>\n",
       "      <td>...</td>\n",
       "      <td>NaN</td>\n",
       "      <td>NaN</td>\n",
       "      <td>NaN</td>\n",
       "      <td>NaN</td>\n",
       "      <td>NaN</td>\n",
       "      <td>NaN</td>\n",
       "      <td>NaN</td>\n",
       "      <td>NaN</td>\n",
       "      <td>NaN</td>\n",
       "      <td>NaN</td>\n",
       "    </tr>\n",
       "    <tr>\n",
       "      <th>cser_5</th>\n",
       "      <td>NaN</td>\n",
       "      <td>NaN</td>\n",
       "      <td>NaN</td>\n",
       "      <td>1.0</td>\n",
       "      <td>NaN</td>\n",
       "      <td>NaN</td>\n",
       "      <td>NaN</td>\n",
       "      <td>NaN</td>\n",
       "      <td>NaN</td>\n",
       "      <td>NaN</td>\n",
       "      <td>...</td>\n",
       "      <td>NaN</td>\n",
       "      <td>NaN</td>\n",
       "      <td>NaN</td>\n",
       "      <td>NaN</td>\n",
       "      <td>NaN</td>\n",
       "      <td>NaN</td>\n",
       "      <td>NaN</td>\n",
       "      <td>NaN</td>\n",
       "      <td>NaN</td>\n",
       "      <td>NaN</td>\n",
       "    </tr>\n",
       "    <tr>\n",
       "      <th>naf4_EV</th>\n",
       "      <td>NaN</td>\n",
       "      <td>NaN</td>\n",
       "      <td>NaN</td>\n",
       "      <td>NaN</td>\n",
       "      <td>1.0</td>\n",
       "      <td>NaN</td>\n",
       "      <td>NaN</td>\n",
       "      <td>NaN</td>\n",
       "      <td>NaN</td>\n",
       "      <td>NaN</td>\n",
       "      <td>...</td>\n",
       "      <td>NaN</td>\n",
       "      <td>NaN</td>\n",
       "      <td>NaN</td>\n",
       "      <td>NaN</td>\n",
       "      <td>NaN</td>\n",
       "      <td>NaN</td>\n",
       "      <td>NaN</td>\n",
       "      <td>NaN</td>\n",
       "      <td>NaN</td>\n",
       "      <td>NaN</td>\n",
       "    </tr>\n",
       "    <tr>\n",
       "      <th>CONDUITE_2</th>\n",
       "      <td>NaN</td>\n",
       "      <td>NaN</td>\n",
       "      <td>NaN</td>\n",
       "      <td>NaN</td>\n",
       "      <td>NaN</td>\n",
       "      <td>1.000000</td>\n",
       "      <td>0.999434</td>\n",
       "      <td>-0.999434</td>\n",
       "      <td>NaN</td>\n",
       "      <td>NaN</td>\n",
       "      <td>...</td>\n",
       "      <td>NaN</td>\n",
       "      <td>NaN</td>\n",
       "      <td>NaN</td>\n",
       "      <td>NaN</td>\n",
       "      <td>NaN</td>\n",
       "      <td>NaN</td>\n",
       "      <td>NaN</td>\n",
       "      <td>NaN</td>\n",
       "      <td>NaN</td>\n",
       "      <td>NaN</td>\n",
       "    </tr>\n",
       "    <tr>\n",
       "      <th>NBRKM_DRAP_ 0</th>\n",
       "      <td>NaN</td>\n",
       "      <td>NaN</td>\n",
       "      <td>NaN</td>\n",
       "      <td>NaN</td>\n",
       "      <td>NaN</td>\n",
       "      <td>0.999434</td>\n",
       "      <td>1.000000</td>\n",
       "      <td>-1.000000</td>\n",
       "      <td>NaN</td>\n",
       "      <td>NaN</td>\n",
       "      <td>...</td>\n",
       "      <td>NaN</td>\n",
       "      <td>NaN</td>\n",
       "      <td>NaN</td>\n",
       "      <td>NaN</td>\n",
       "      <td>NaN</td>\n",
       "      <td>NaN</td>\n",
       "      <td>NaN</td>\n",
       "      <td>NaN</td>\n",
       "      <td>NaN</td>\n",
       "      <td>NaN</td>\n",
       "    </tr>\n",
       "    <tr>\n",
       "      <th>CONDUITE_1</th>\n",
       "      <td>NaN</td>\n",
       "      <td>NaN</td>\n",
       "      <td>NaN</td>\n",
       "      <td>NaN</td>\n",
       "      <td>NaN</td>\n",
       "      <td>-0.999434</td>\n",
       "      <td>-1.000000</td>\n",
       "      <td>1.000000</td>\n",
       "      <td>NaN</td>\n",
       "      <td>NaN</td>\n",
       "      <td>...</td>\n",
       "      <td>NaN</td>\n",
       "      <td>NaN</td>\n",
       "      <td>NaN</td>\n",
       "      <td>NaN</td>\n",
       "      <td>NaN</td>\n",
       "      <td>NaN</td>\n",
       "      <td>NaN</td>\n",
       "      <td>NaN</td>\n",
       "      <td>NaN</td>\n",
       "      <td>NaN</td>\n",
       "    </tr>\n",
       "    <tr>\n",
       "      <th>naf17_OQ</th>\n",
       "      <td>NaN</td>\n",
       "      <td>NaN</td>\n",
       "      <td>NaN</td>\n",
       "      <td>NaN</td>\n",
       "      <td>NaN</td>\n",
       "      <td>NaN</td>\n",
       "      <td>NaN</td>\n",
       "      <td>NaN</td>\n",
       "      <td>1.0</td>\n",
       "      <td>NaN</td>\n",
       "      <td>...</td>\n",
       "      <td>NaN</td>\n",
       "      <td>NaN</td>\n",
       "      <td>NaN</td>\n",
       "      <td>NaN</td>\n",
       "      <td>NaN</td>\n",
       "      <td>NaN</td>\n",
       "      <td>NaN</td>\n",
       "      <td>NaN</td>\n",
       "      <td>NaN</td>\n",
       "      <td>NaN</td>\n",
       "    </tr>\n",
       "    <tr>\n",
       "      <th>CJSITUA_6</th>\n",
       "      <td>NaN</td>\n",
       "      <td>NaN</td>\n",
       "      <td>NaN</td>\n",
       "      <td>NaN</td>\n",
       "      <td>NaN</td>\n",
       "      <td>NaN</td>\n",
       "      <td>NaN</td>\n",
       "      <td>NaN</td>\n",
       "      <td>NaN</td>\n",
       "      <td>1.0</td>\n",
       "      <td>...</td>\n",
       "      <td>NaN</td>\n",
       "      <td>NaN</td>\n",
       "      <td>NaN</td>\n",
       "      <td>NaN</td>\n",
       "      <td>NaN</td>\n",
       "      <td>NaN</td>\n",
       "      <td>NaN</td>\n",
       "      <td>NaN</td>\n",
       "      <td>NaN</td>\n",
       "      <td>NaN</td>\n",
       "    </tr>\n",
       "    <tr>\n",
       "      <th>TINA_3</th>\n",
       "      <td>NaN</td>\n",
       "      <td>NaN</td>\n",
       "      <td>NaN</td>\n",
       "      <td>NaN</td>\n",
       "      <td>NaN</td>\n",
       "      <td>NaN</td>\n",
       "      <td>NaN</td>\n",
       "      <td>NaN</td>\n",
       "      <td>NaN</td>\n",
       "      <td>NaN</td>\n",
       "      <td>...</td>\n",
       "      <td>NaN</td>\n",
       "      <td>NaN</td>\n",
       "      <td>NaN</td>\n",
       "      <td>NaN</td>\n",
       "      <td>NaN</td>\n",
       "      <td>NaN</td>\n",
       "      <td>NaN</td>\n",
       "      <td>NaN</td>\n",
       "      <td>NaN</td>\n",
       "      <td>NaN</td>\n",
       "    </tr>\n",
       "    <tr>\n",
       "      <th>NBRKM_DRAP_ 1</th>\n",
       "      <td>NaN</td>\n",
       "      <td>NaN</td>\n",
       "      <td>NaN</td>\n",
       "      <td>NaN</td>\n",
       "      <td>NaN</td>\n",
       "      <td>-0.920992</td>\n",
       "      <td>-0.921514</td>\n",
       "      <td>0.921514</td>\n",
       "      <td>NaN</td>\n",
       "      <td>NaN</td>\n",
       "      <td>...</td>\n",
       "      <td>NaN</td>\n",
       "      <td>NaN</td>\n",
       "      <td>NaN</td>\n",
       "      <td>NaN</td>\n",
       "      <td>NaN</td>\n",
       "      <td>NaN</td>\n",
       "      <td>NaN</td>\n",
       "      <td>NaN</td>\n",
       "      <td>NaN</td>\n",
       "      <td>NaN</td>\n",
       "    </tr>\n",
       "    <tr>\n",
       "      <th>csei_61</th>\n",
       "      <td>NaN</td>\n",
       "      <td>NaN</td>\n",
       "      <td>NaN</td>\n",
       "      <td>NaN</td>\n",
       "      <td>NaN</td>\n",
       "      <td>NaN</td>\n",
       "      <td>NaN</td>\n",
       "      <td>NaN</td>\n",
       "      <td>NaN</td>\n",
       "      <td>NaN</td>\n",
       "      <td>...</td>\n",
       "      <td>NaN</td>\n",
       "      <td>NaN</td>\n",
       "      <td>NaN</td>\n",
       "      <td>NaN</td>\n",
       "      <td>NaN</td>\n",
       "      <td>NaN</td>\n",
       "      <td>NaN</td>\n",
       "      <td>NaN</td>\n",
       "      <td>NaN</td>\n",
       "      <td>NaN</td>\n",
       "    </tr>\n",
       "    <tr>\n",
       "      <th>cser_6</th>\n",
       "      <td>NaN</td>\n",
       "      <td>NaN</td>\n",
       "      <td>NaN</td>\n",
       "      <td>NaN</td>\n",
       "      <td>NaN</td>\n",
       "      <td>NaN</td>\n",
       "      <td>NaN</td>\n",
       "      <td>NaN</td>\n",
       "      <td>NaN</td>\n",
       "      <td>NaN</td>\n",
       "      <td>...</td>\n",
       "      <td>NaN</td>\n",
       "      <td>NaN</td>\n",
       "      <td>NaN</td>\n",
       "      <td>NaN</td>\n",
       "      <td>NaN</td>\n",
       "      <td>NaN</td>\n",
       "      <td>NaN</td>\n",
       "      <td>NaN</td>\n",
       "      <td>NaN</td>\n",
       "      <td>NaN</td>\n",
       "    </tr>\n",
       "    <tr>\n",
       "      <th>CWVIB_2</th>\n",
       "      <td>NaN</td>\n",
       "      <td>NaN</td>\n",
       "      <td>NaN</td>\n",
       "      <td>NaN</td>\n",
       "      <td>NaN</td>\n",
       "      <td>NaN</td>\n",
       "      <td>NaN</td>\n",
       "      <td>NaN</td>\n",
       "      <td>NaN</td>\n",
       "      <td>NaN</td>\n",
       "      <td>...</td>\n",
       "      <td>1.000000</td>\n",
       "      <td>-0.999366</td>\n",
       "      <td>NaN</td>\n",
       "      <td>NaN</td>\n",
       "      <td>NaN</td>\n",
       "      <td>NaN</td>\n",
       "      <td>NaN</td>\n",
       "      <td>NaN</td>\n",
       "      <td>NaN</td>\n",
       "      <td>NaN</td>\n",
       "    </tr>\n",
       "    <tr>\n",
       "      <th>CWVIB_1</th>\n",
       "      <td>NaN</td>\n",
       "      <td>NaN</td>\n",
       "      <td>NaN</td>\n",
       "      <td>NaN</td>\n",
       "      <td>NaN</td>\n",
       "      <td>NaN</td>\n",
       "      <td>NaN</td>\n",
       "      <td>NaN</td>\n",
       "      <td>NaN</td>\n",
       "      <td>NaN</td>\n",
       "      <td>...</td>\n",
       "      <td>-0.999366</td>\n",
       "      <td>1.000000</td>\n",
       "      <td>NaN</td>\n",
       "      <td>NaN</td>\n",
       "      <td>NaN</td>\n",
       "      <td>NaN</td>\n",
       "      <td>NaN</td>\n",
       "      <td>NaN</td>\n",
       "      <td>NaN</td>\n",
       "      <td>NaN</td>\n",
       "    </tr>\n",
       "    <tr>\n",
       "      <th>SECFUPOU_2</th>\n",
       "      <td>NaN</td>\n",
       "      <td>NaN</td>\n",
       "      <td>NaN</td>\n",
       "      <td>NaN</td>\n",
       "      <td>NaN</td>\n",
       "      <td>NaN</td>\n",
       "      <td>NaN</td>\n",
       "      <td>NaN</td>\n",
       "      <td>NaN</td>\n",
       "      <td>NaN</td>\n",
       "      <td>...</td>\n",
       "      <td>NaN</td>\n",
       "      <td>NaN</td>\n",
       "      <td>1.000000</td>\n",
       "      <td>-0.999358</td>\n",
       "      <td>NaN</td>\n",
       "      <td>NaN</td>\n",
       "      <td>NaN</td>\n",
       "      <td>NaN</td>\n",
       "      <td>NaN</td>\n",
       "      <td>NaN</td>\n",
       "    </tr>\n",
       "    <tr>\n",
       "      <th>SECFUPOU_1</th>\n",
       "      <td>NaN</td>\n",
       "      <td>NaN</td>\n",
       "      <td>NaN</td>\n",
       "      <td>NaN</td>\n",
       "      <td>NaN</td>\n",
       "      <td>NaN</td>\n",
       "      <td>NaN</td>\n",
       "      <td>NaN</td>\n",
       "      <td>NaN</td>\n",
       "      <td>NaN</td>\n",
       "      <td>...</td>\n",
       "      <td>NaN</td>\n",
       "      <td>NaN</td>\n",
       "      <td>-0.999358</td>\n",
       "      <td>1.000000</td>\n",
       "      <td>NaN</td>\n",
       "      <td>NaN</td>\n",
       "      <td>NaN</td>\n",
       "      <td>NaN</td>\n",
       "      <td>NaN</td>\n",
       "      <td>NaN</td>\n",
       "    </tr>\n",
       "    <tr>\n",
       "      <th>ACTIVFIN_86</th>\n",
       "      <td>NaN</td>\n",
       "      <td>NaN</td>\n",
       "      <td>NaN</td>\n",
       "      <td>NaN</td>\n",
       "      <td>NaN</td>\n",
       "      <td>NaN</td>\n",
       "      <td>NaN</td>\n",
       "      <td>NaN</td>\n",
       "      <td>NaN</td>\n",
       "      <td>NaN</td>\n",
       "      <td>...</td>\n",
       "      <td>NaN</td>\n",
       "      <td>NaN</td>\n",
       "      <td>NaN</td>\n",
       "      <td>NaN</td>\n",
       "      <td>1.0</td>\n",
       "      <td>1.0</td>\n",
       "      <td>NaN</td>\n",
       "      <td>NaN</td>\n",
       "      <td>NaN</td>\n",
       "      <td>NaN</td>\n",
       "    </tr>\n",
       "    <tr>\n",
       "      <th>naf38_QA</th>\n",
       "      <td>NaN</td>\n",
       "      <td>NaN</td>\n",
       "      <td>NaN</td>\n",
       "      <td>NaN</td>\n",
       "      <td>NaN</td>\n",
       "      <td>NaN</td>\n",
       "      <td>NaN</td>\n",
       "      <td>NaN</td>\n",
       "      <td>NaN</td>\n",
       "      <td>NaN</td>\n",
       "      <td>...</td>\n",
       "      <td>NaN</td>\n",
       "      <td>NaN</td>\n",
       "      <td>NaN</td>\n",
       "      <td>NaN</td>\n",
       "      <td>1.0</td>\n",
       "      <td>1.0</td>\n",
       "      <td>NaN</td>\n",
       "      <td>NaN</td>\n",
       "      <td>NaN</td>\n",
       "      <td>NaN</td>\n",
       "    </tr>\n",
       "    <tr>\n",
       "      <th>HH</th>\n",
       "      <td>NaN</td>\n",
       "      <td>NaN</td>\n",
       "      <td>NaN</td>\n",
       "      <td>NaN</td>\n",
       "      <td>NaN</td>\n",
       "      <td>NaN</td>\n",
       "      <td>NaN</td>\n",
       "      <td>NaN</td>\n",
       "      <td>NaN</td>\n",
       "      <td>NaN</td>\n",
       "      <td>...</td>\n",
       "      <td>NaN</td>\n",
       "      <td>NaN</td>\n",
       "      <td>NaN</td>\n",
       "      <td>NaN</td>\n",
       "      <td>NaN</td>\n",
       "      <td>NaN</td>\n",
       "      <td>1.0</td>\n",
       "      <td>NaN</td>\n",
       "      <td>NaN</td>\n",
       "      <td>NaN</td>\n",
       "    </tr>\n",
       "    <tr>\n",
       "      <th>KMANNU</th>\n",
       "      <td>NaN</td>\n",
       "      <td>NaN</td>\n",
       "      <td>NaN</td>\n",
       "      <td>NaN</td>\n",
       "      <td>NaN</td>\n",
       "      <td>NaN</td>\n",
       "      <td>NaN</td>\n",
       "      <td>NaN</td>\n",
       "      <td>NaN</td>\n",
       "      <td>NaN</td>\n",
       "      <td>...</td>\n",
       "      <td>NaN</td>\n",
       "      <td>NaN</td>\n",
       "      <td>NaN</td>\n",
       "      <td>NaN</td>\n",
       "      <td>NaN</td>\n",
       "      <td>NaN</td>\n",
       "      <td>NaN</td>\n",
       "      <td>1.0</td>\n",
       "      <td>NaN</td>\n",
       "      <td>NaN</td>\n",
       "    </tr>\n",
       "    <tr>\n",
       "      <th>REVMENS</th>\n",
       "      <td>NaN</td>\n",
       "      <td>NaN</td>\n",
       "      <td>NaN</td>\n",
       "      <td>NaN</td>\n",
       "      <td>NaN</td>\n",
       "      <td>NaN</td>\n",
       "      <td>NaN</td>\n",
       "      <td>NaN</td>\n",
       "      <td>NaN</td>\n",
       "      <td>NaN</td>\n",
       "      <td>...</td>\n",
       "      <td>NaN</td>\n",
       "      <td>NaN</td>\n",
       "      <td>NaN</td>\n",
       "      <td>NaN</td>\n",
       "      <td>NaN</td>\n",
       "      <td>NaN</td>\n",
       "      <td>NaN</td>\n",
       "      <td>NaN</td>\n",
       "      <td>1.0</td>\n",
       "      <td>NaN</td>\n",
       "    </tr>\n",
       "    <tr>\n",
       "      <th>target</th>\n",
       "      <td>NaN</td>\n",
       "      <td>NaN</td>\n",
       "      <td>NaN</td>\n",
       "      <td>NaN</td>\n",
       "      <td>NaN</td>\n",
       "      <td>NaN</td>\n",
       "      <td>NaN</td>\n",
       "      <td>NaN</td>\n",
       "      <td>NaN</td>\n",
       "      <td>NaN</td>\n",
       "      <td>...</td>\n",
       "      <td>NaN</td>\n",
       "      <td>NaN</td>\n",
       "      <td>NaN</td>\n",
       "      <td>NaN</td>\n",
       "      <td>NaN</td>\n",
       "      <td>NaN</td>\n",
       "      <td>NaN</td>\n",
       "      <td>NaN</td>\n",
       "      <td>NaN</td>\n",
       "      <td>1.0</td>\n",
       "    </tr>\n",
       "  </tbody>\n",
       "</table>\n",
       "<p>24 rows × 24 columns</p>\n",
       "</div>"
      ],
      "text/plain": [
       "               TPP_1  SECROUT_1  SECROUT_2  cser_5  naf4_EV  CONDUITE_2  \\\n",
       "TPP_1            1.0        NaN        NaN     NaN      NaN         NaN   \n",
       "SECROUT_1        NaN   1.000000  -0.999123     NaN      NaN         NaN   \n",
       "SECROUT_2        NaN  -0.999123   1.000000     NaN      NaN         NaN   \n",
       "cser_5           NaN        NaN        NaN     1.0      NaN         NaN   \n",
       "naf4_EV          NaN        NaN        NaN     NaN      1.0         NaN   \n",
       "CONDUITE_2       NaN        NaN        NaN     NaN      NaN    1.000000   \n",
       "NBRKM_DRAP_ 0    NaN        NaN        NaN     NaN      NaN    0.999434   \n",
       "CONDUITE_1       NaN        NaN        NaN     NaN      NaN   -0.999434   \n",
       "naf17_OQ         NaN        NaN        NaN     NaN      NaN         NaN   \n",
       "CJSITUA_6        NaN        NaN        NaN     NaN      NaN         NaN   \n",
       "TINA_3           NaN        NaN        NaN     NaN      NaN         NaN   \n",
       "NBRKM_DRAP_ 1    NaN        NaN        NaN     NaN      NaN   -0.920992   \n",
       "csei_61          NaN        NaN        NaN     NaN      NaN         NaN   \n",
       "cser_6           NaN        NaN        NaN     NaN      NaN         NaN   \n",
       "CWVIB_2          NaN        NaN        NaN     NaN      NaN         NaN   \n",
       "CWVIB_1          NaN        NaN        NaN     NaN      NaN         NaN   \n",
       "SECFUPOU_2       NaN        NaN        NaN     NaN      NaN         NaN   \n",
       "SECFUPOU_1       NaN        NaN        NaN     NaN      NaN         NaN   \n",
       "ACTIVFIN_86      NaN        NaN        NaN     NaN      NaN         NaN   \n",
       "naf38_QA         NaN        NaN        NaN     NaN      NaN         NaN   \n",
       "HH               NaN        NaN        NaN     NaN      NaN         NaN   \n",
       "KMANNU           NaN        NaN        NaN     NaN      NaN         NaN   \n",
       "REVMENS          NaN        NaN        NaN     NaN      NaN         NaN   \n",
       "target           NaN        NaN        NaN     NaN      NaN         NaN   \n",
       "\n",
       "               NBRKM_DRAP_ 0  CONDUITE_1  naf17_OQ  CJSITUA_6  ...   CWVIB_2  \\\n",
       "TPP_1                    NaN         NaN       NaN        NaN  ...       NaN   \n",
       "SECROUT_1                NaN         NaN       NaN        NaN  ...       NaN   \n",
       "SECROUT_2                NaN         NaN       NaN        NaN  ...       NaN   \n",
       "cser_5                   NaN         NaN       NaN        NaN  ...       NaN   \n",
       "naf4_EV                  NaN         NaN       NaN        NaN  ...       NaN   \n",
       "CONDUITE_2          0.999434   -0.999434       NaN        NaN  ...       NaN   \n",
       "NBRKM_DRAP_ 0       1.000000   -1.000000       NaN        NaN  ...       NaN   \n",
       "CONDUITE_1         -1.000000    1.000000       NaN        NaN  ...       NaN   \n",
       "naf17_OQ                 NaN         NaN       1.0        NaN  ...       NaN   \n",
       "CJSITUA_6                NaN         NaN       NaN        1.0  ...       NaN   \n",
       "TINA_3                   NaN         NaN       NaN        NaN  ...       NaN   \n",
       "NBRKM_DRAP_ 1      -0.921514    0.921514       NaN        NaN  ...       NaN   \n",
       "csei_61                  NaN         NaN       NaN        NaN  ...       NaN   \n",
       "cser_6                   NaN         NaN       NaN        NaN  ...       NaN   \n",
       "CWVIB_2                  NaN         NaN       NaN        NaN  ...  1.000000   \n",
       "CWVIB_1                  NaN         NaN       NaN        NaN  ... -0.999366   \n",
       "SECFUPOU_2               NaN         NaN       NaN        NaN  ...       NaN   \n",
       "SECFUPOU_1               NaN         NaN       NaN        NaN  ...       NaN   \n",
       "ACTIVFIN_86              NaN         NaN       NaN        NaN  ...       NaN   \n",
       "naf38_QA                 NaN         NaN       NaN        NaN  ...       NaN   \n",
       "HH                       NaN         NaN       NaN        NaN  ...       NaN   \n",
       "KMANNU                   NaN         NaN       NaN        NaN  ...       NaN   \n",
       "REVMENS                  NaN         NaN       NaN        NaN  ...       NaN   \n",
       "target                   NaN         NaN       NaN        NaN  ...       NaN   \n",
       "\n",
       "                CWVIB_1  SECFUPOU_2  SECFUPOU_1  ACTIVFIN_86  naf38_QA   HH  \\\n",
       "TPP_1               NaN         NaN         NaN          NaN       NaN  NaN   \n",
       "SECROUT_1           NaN         NaN         NaN          NaN       NaN  NaN   \n",
       "SECROUT_2           NaN         NaN         NaN          NaN       NaN  NaN   \n",
       "cser_5              NaN         NaN         NaN          NaN       NaN  NaN   \n",
       "naf4_EV             NaN         NaN         NaN          NaN       NaN  NaN   \n",
       "CONDUITE_2          NaN         NaN         NaN          NaN       NaN  NaN   \n",
       "NBRKM_DRAP_ 0       NaN         NaN         NaN          NaN       NaN  NaN   \n",
       "CONDUITE_1          NaN         NaN         NaN          NaN       NaN  NaN   \n",
       "naf17_OQ            NaN         NaN         NaN          NaN       NaN  NaN   \n",
       "CJSITUA_6           NaN         NaN         NaN          NaN       NaN  NaN   \n",
       "TINA_3              NaN         NaN         NaN          NaN       NaN  NaN   \n",
       "NBRKM_DRAP_ 1       NaN         NaN         NaN          NaN       NaN  NaN   \n",
       "csei_61             NaN         NaN         NaN          NaN       NaN  NaN   \n",
       "cser_6              NaN         NaN         NaN          NaN       NaN  NaN   \n",
       "CWVIB_2       -0.999366         NaN         NaN          NaN       NaN  NaN   \n",
       "CWVIB_1        1.000000         NaN         NaN          NaN       NaN  NaN   \n",
       "SECFUPOU_2          NaN    1.000000   -0.999358          NaN       NaN  NaN   \n",
       "SECFUPOU_1          NaN   -0.999358    1.000000          NaN       NaN  NaN   \n",
       "ACTIVFIN_86         NaN         NaN         NaN          1.0       1.0  NaN   \n",
       "naf38_QA            NaN         NaN         NaN          1.0       1.0  NaN   \n",
       "HH                  NaN         NaN         NaN          NaN       NaN  1.0   \n",
       "KMANNU              NaN         NaN         NaN          NaN       NaN  NaN   \n",
       "REVMENS             NaN         NaN         NaN          NaN       NaN  NaN   \n",
       "target              NaN         NaN         NaN          NaN       NaN  NaN   \n",
       "\n",
       "               KMANNU  REVMENS  target  \n",
       "TPP_1             NaN      NaN     NaN  \n",
       "SECROUT_1         NaN      NaN     NaN  \n",
       "SECROUT_2         NaN      NaN     NaN  \n",
       "cser_5            NaN      NaN     NaN  \n",
       "naf4_EV           NaN      NaN     NaN  \n",
       "CONDUITE_2        NaN      NaN     NaN  \n",
       "NBRKM_DRAP_ 0     NaN      NaN     NaN  \n",
       "CONDUITE_1        NaN      NaN     NaN  \n",
       "naf17_OQ          NaN      NaN     NaN  \n",
       "CJSITUA_6         NaN      NaN     NaN  \n",
       "TINA_3            NaN      NaN     NaN  \n",
       "NBRKM_DRAP_ 1     NaN      NaN     NaN  \n",
       "csei_61           NaN      NaN     NaN  \n",
       "cser_6            NaN      NaN     NaN  \n",
       "CWVIB_2           NaN      NaN     NaN  \n",
       "CWVIB_1           NaN      NaN     NaN  \n",
       "SECFUPOU_2        NaN      NaN     NaN  \n",
       "SECFUPOU_1        NaN      NaN     NaN  \n",
       "ACTIVFIN_86       NaN      NaN     NaN  \n",
       "naf38_QA          NaN      NaN     NaN  \n",
       "HH                NaN      NaN     NaN  \n",
       "KMANNU            1.0      NaN     NaN  \n",
       "REVMENS           NaN      1.0     NaN  \n",
       "target            NaN      NaN     1.0  \n",
       "\n",
       "[24 rows x 24 columns]"
      ]
     },
     "execution_count": 157,
     "metadata": {},
     "output_type": "execute_result"
    }
   ],
   "source": [
    "# Filter the correlation matrix to keep only the values above 0.8\n",
    "filtered_corr_matrix = corr_matrix[abs(corr_matrix) >= 0.8]\n",
    "filtered_corr_matrix"
   ]
  },
  {
   "cell_type": "code",
   "execution_count": 158,
   "metadata": {},
   "outputs": [
    {
     "data": {
      "text/html": [
       "<div>\n",
       "<style scoped>\n",
       "    .dataframe tbody tr th:only-of-type {\n",
       "        vertical-align: middle;\n",
       "    }\n",
       "\n",
       "    .dataframe tbody tr th {\n",
       "        vertical-align: top;\n",
       "    }\n",
       "\n",
       "    .dataframe thead th {\n",
       "        text-align: right;\n",
       "    }\n",
       "</style>\n",
       "<table border=\"1\" class=\"dataframe\">\n",
       "  <thead>\n",
       "    <tr style=\"text-align: right;\">\n",
       "      <th></th>\n",
       "      <th>TPP_1</th>\n",
       "      <th>SECROUT_1</th>\n",
       "      <th>SECROUT_2</th>\n",
       "      <th>cser_5</th>\n",
       "      <th>naf4_EV</th>\n",
       "      <th>CONDUITE_2</th>\n",
       "      <th>NBRKM_DRAP_ 0</th>\n",
       "      <th>CONDUITE_1</th>\n",
       "      <th>naf17_OQ</th>\n",
       "      <th>CJSITUA_6</th>\n",
       "      <th>...</th>\n",
       "      <th>CWVIB_2</th>\n",
       "      <th>CWVIB_1</th>\n",
       "      <th>SECFUPOU_2</th>\n",
       "      <th>SECFUPOU_1</th>\n",
       "      <th>ACTIVFIN_86</th>\n",
       "      <th>naf38_QA</th>\n",
       "      <th>HH</th>\n",
       "      <th>KMANNU</th>\n",
       "      <th>REVMENS</th>\n",
       "      <th>target</th>\n",
       "    </tr>\n",
       "  </thead>\n",
       "  <tbody>\n",
       "    <tr>\n",
       "      <th>TPP_1</th>\n",
       "      <td>NaN</td>\n",
       "      <td>NaN</td>\n",
       "      <td>NaN</td>\n",
       "      <td>NaN</td>\n",
       "      <td>NaN</td>\n",
       "      <td>NaN</td>\n",
       "      <td>NaN</td>\n",
       "      <td>NaN</td>\n",
       "      <td>NaN</td>\n",
       "      <td>NaN</td>\n",
       "      <td>...</td>\n",
       "      <td>NaN</td>\n",
       "      <td>NaN</td>\n",
       "      <td>NaN</td>\n",
       "      <td>NaN</td>\n",
       "      <td>NaN</td>\n",
       "      <td>NaN</td>\n",
       "      <td>NaN</td>\n",
       "      <td>NaN</td>\n",
       "      <td>NaN</td>\n",
       "      <td>NaN</td>\n",
       "    </tr>\n",
       "    <tr>\n",
       "      <th>SECROUT_1</th>\n",
       "      <td>NaN</td>\n",
       "      <td>NaN</td>\n",
       "      <td>-0.999123</td>\n",
       "      <td>NaN</td>\n",
       "      <td>NaN</td>\n",
       "      <td>NaN</td>\n",
       "      <td>NaN</td>\n",
       "      <td>NaN</td>\n",
       "      <td>NaN</td>\n",
       "      <td>NaN</td>\n",
       "      <td>...</td>\n",
       "      <td>NaN</td>\n",
       "      <td>NaN</td>\n",
       "      <td>NaN</td>\n",
       "      <td>NaN</td>\n",
       "      <td>NaN</td>\n",
       "      <td>NaN</td>\n",
       "      <td>NaN</td>\n",
       "      <td>NaN</td>\n",
       "      <td>NaN</td>\n",
       "      <td>NaN</td>\n",
       "    </tr>\n",
       "    <tr>\n",
       "      <th>SECROUT_2</th>\n",
       "      <td>NaN</td>\n",
       "      <td>-0.999123</td>\n",
       "      <td>NaN</td>\n",
       "      <td>NaN</td>\n",
       "      <td>NaN</td>\n",
       "      <td>NaN</td>\n",
       "      <td>NaN</td>\n",
       "      <td>NaN</td>\n",
       "      <td>NaN</td>\n",
       "      <td>NaN</td>\n",
       "      <td>...</td>\n",
       "      <td>NaN</td>\n",
       "      <td>NaN</td>\n",
       "      <td>NaN</td>\n",
       "      <td>NaN</td>\n",
       "      <td>NaN</td>\n",
       "      <td>NaN</td>\n",
       "      <td>NaN</td>\n",
       "      <td>NaN</td>\n",
       "      <td>NaN</td>\n",
       "      <td>NaN</td>\n",
       "    </tr>\n",
       "    <tr>\n",
       "      <th>cser_5</th>\n",
       "      <td>NaN</td>\n",
       "      <td>NaN</td>\n",
       "      <td>NaN</td>\n",
       "      <td>NaN</td>\n",
       "      <td>NaN</td>\n",
       "      <td>NaN</td>\n",
       "      <td>NaN</td>\n",
       "      <td>NaN</td>\n",
       "      <td>NaN</td>\n",
       "      <td>NaN</td>\n",
       "      <td>...</td>\n",
       "      <td>NaN</td>\n",
       "      <td>NaN</td>\n",
       "      <td>NaN</td>\n",
       "      <td>NaN</td>\n",
       "      <td>NaN</td>\n",
       "      <td>NaN</td>\n",
       "      <td>NaN</td>\n",
       "      <td>NaN</td>\n",
       "      <td>NaN</td>\n",
       "      <td>NaN</td>\n",
       "    </tr>\n",
       "    <tr>\n",
       "      <th>naf4_EV</th>\n",
       "      <td>NaN</td>\n",
       "      <td>NaN</td>\n",
       "      <td>NaN</td>\n",
       "      <td>NaN</td>\n",
       "      <td>NaN</td>\n",
       "      <td>NaN</td>\n",
       "      <td>NaN</td>\n",
       "      <td>NaN</td>\n",
       "      <td>NaN</td>\n",
       "      <td>NaN</td>\n",
       "      <td>...</td>\n",
       "      <td>NaN</td>\n",
       "      <td>NaN</td>\n",
       "      <td>NaN</td>\n",
       "      <td>NaN</td>\n",
       "      <td>NaN</td>\n",
       "      <td>NaN</td>\n",
       "      <td>NaN</td>\n",
       "      <td>NaN</td>\n",
       "      <td>NaN</td>\n",
       "      <td>NaN</td>\n",
       "    </tr>\n",
       "    <tr>\n",
       "      <th>CONDUITE_2</th>\n",
       "      <td>NaN</td>\n",
       "      <td>NaN</td>\n",
       "      <td>NaN</td>\n",
       "      <td>NaN</td>\n",
       "      <td>NaN</td>\n",
       "      <td>NaN</td>\n",
       "      <td>0.999434</td>\n",
       "      <td>-0.999434</td>\n",
       "      <td>NaN</td>\n",
       "      <td>NaN</td>\n",
       "      <td>...</td>\n",
       "      <td>NaN</td>\n",
       "      <td>NaN</td>\n",
       "      <td>NaN</td>\n",
       "      <td>NaN</td>\n",
       "      <td>NaN</td>\n",
       "      <td>NaN</td>\n",
       "      <td>NaN</td>\n",
       "      <td>NaN</td>\n",
       "      <td>NaN</td>\n",
       "      <td>NaN</td>\n",
       "    </tr>\n",
       "    <tr>\n",
       "      <th>NBRKM_DRAP_ 0</th>\n",
       "      <td>NaN</td>\n",
       "      <td>NaN</td>\n",
       "      <td>NaN</td>\n",
       "      <td>NaN</td>\n",
       "      <td>NaN</td>\n",
       "      <td>0.999434</td>\n",
       "      <td>NaN</td>\n",
       "      <td>-1.000000</td>\n",
       "      <td>NaN</td>\n",
       "      <td>NaN</td>\n",
       "      <td>...</td>\n",
       "      <td>NaN</td>\n",
       "      <td>NaN</td>\n",
       "      <td>NaN</td>\n",
       "      <td>NaN</td>\n",
       "      <td>NaN</td>\n",
       "      <td>NaN</td>\n",
       "      <td>NaN</td>\n",
       "      <td>NaN</td>\n",
       "      <td>NaN</td>\n",
       "      <td>NaN</td>\n",
       "    </tr>\n",
       "    <tr>\n",
       "      <th>CONDUITE_1</th>\n",
       "      <td>NaN</td>\n",
       "      <td>NaN</td>\n",
       "      <td>NaN</td>\n",
       "      <td>NaN</td>\n",
       "      <td>NaN</td>\n",
       "      <td>-0.999434</td>\n",
       "      <td>-1.000000</td>\n",
       "      <td>NaN</td>\n",
       "      <td>NaN</td>\n",
       "      <td>NaN</td>\n",
       "      <td>...</td>\n",
       "      <td>NaN</td>\n",
       "      <td>NaN</td>\n",
       "      <td>NaN</td>\n",
       "      <td>NaN</td>\n",
       "      <td>NaN</td>\n",
       "      <td>NaN</td>\n",
       "      <td>NaN</td>\n",
       "      <td>NaN</td>\n",
       "      <td>NaN</td>\n",
       "      <td>NaN</td>\n",
       "    </tr>\n",
       "    <tr>\n",
       "      <th>naf17_OQ</th>\n",
       "      <td>NaN</td>\n",
       "      <td>NaN</td>\n",
       "      <td>NaN</td>\n",
       "      <td>NaN</td>\n",
       "      <td>NaN</td>\n",
       "      <td>NaN</td>\n",
       "      <td>NaN</td>\n",
       "      <td>NaN</td>\n",
       "      <td>NaN</td>\n",
       "      <td>NaN</td>\n",
       "      <td>...</td>\n",
       "      <td>NaN</td>\n",
       "      <td>NaN</td>\n",
       "      <td>NaN</td>\n",
       "      <td>NaN</td>\n",
       "      <td>NaN</td>\n",
       "      <td>NaN</td>\n",
       "      <td>NaN</td>\n",
       "      <td>NaN</td>\n",
       "      <td>NaN</td>\n",
       "      <td>NaN</td>\n",
       "    </tr>\n",
       "    <tr>\n",
       "      <th>CJSITUA_6</th>\n",
       "      <td>NaN</td>\n",
       "      <td>NaN</td>\n",
       "      <td>NaN</td>\n",
       "      <td>NaN</td>\n",
       "      <td>NaN</td>\n",
       "      <td>NaN</td>\n",
       "      <td>NaN</td>\n",
       "      <td>NaN</td>\n",
       "      <td>NaN</td>\n",
       "      <td>NaN</td>\n",
       "      <td>...</td>\n",
       "      <td>NaN</td>\n",
       "      <td>NaN</td>\n",
       "      <td>NaN</td>\n",
       "      <td>NaN</td>\n",
       "      <td>NaN</td>\n",
       "      <td>NaN</td>\n",
       "      <td>NaN</td>\n",
       "      <td>NaN</td>\n",
       "      <td>NaN</td>\n",
       "      <td>NaN</td>\n",
       "    </tr>\n",
       "    <tr>\n",
       "      <th>TINA_3</th>\n",
       "      <td>NaN</td>\n",
       "      <td>NaN</td>\n",
       "      <td>NaN</td>\n",
       "      <td>NaN</td>\n",
       "      <td>NaN</td>\n",
       "      <td>NaN</td>\n",
       "      <td>NaN</td>\n",
       "      <td>NaN</td>\n",
       "      <td>NaN</td>\n",
       "      <td>NaN</td>\n",
       "      <td>...</td>\n",
       "      <td>NaN</td>\n",
       "      <td>NaN</td>\n",
       "      <td>NaN</td>\n",
       "      <td>NaN</td>\n",
       "      <td>NaN</td>\n",
       "      <td>NaN</td>\n",
       "      <td>NaN</td>\n",
       "      <td>NaN</td>\n",
       "      <td>NaN</td>\n",
       "      <td>NaN</td>\n",
       "    </tr>\n",
       "    <tr>\n",
       "      <th>NBRKM_DRAP_ 1</th>\n",
       "      <td>NaN</td>\n",
       "      <td>NaN</td>\n",
       "      <td>NaN</td>\n",
       "      <td>NaN</td>\n",
       "      <td>NaN</td>\n",
       "      <td>-0.920992</td>\n",
       "      <td>-0.921514</td>\n",
       "      <td>0.921514</td>\n",
       "      <td>NaN</td>\n",
       "      <td>NaN</td>\n",
       "      <td>...</td>\n",
       "      <td>NaN</td>\n",
       "      <td>NaN</td>\n",
       "      <td>NaN</td>\n",
       "      <td>NaN</td>\n",
       "      <td>NaN</td>\n",
       "      <td>NaN</td>\n",
       "      <td>NaN</td>\n",
       "      <td>NaN</td>\n",
       "      <td>NaN</td>\n",
       "      <td>NaN</td>\n",
       "    </tr>\n",
       "    <tr>\n",
       "      <th>csei_61</th>\n",
       "      <td>NaN</td>\n",
       "      <td>NaN</td>\n",
       "      <td>NaN</td>\n",
       "      <td>NaN</td>\n",
       "      <td>NaN</td>\n",
       "      <td>NaN</td>\n",
       "      <td>NaN</td>\n",
       "      <td>NaN</td>\n",
       "      <td>NaN</td>\n",
       "      <td>NaN</td>\n",
       "      <td>...</td>\n",
       "      <td>NaN</td>\n",
       "      <td>NaN</td>\n",
       "      <td>NaN</td>\n",
       "      <td>NaN</td>\n",
       "      <td>NaN</td>\n",
       "      <td>NaN</td>\n",
       "      <td>NaN</td>\n",
       "      <td>NaN</td>\n",
       "      <td>NaN</td>\n",
       "      <td>NaN</td>\n",
       "    </tr>\n",
       "    <tr>\n",
       "      <th>cser_6</th>\n",
       "      <td>NaN</td>\n",
       "      <td>NaN</td>\n",
       "      <td>NaN</td>\n",
       "      <td>NaN</td>\n",
       "      <td>NaN</td>\n",
       "      <td>NaN</td>\n",
       "      <td>NaN</td>\n",
       "      <td>NaN</td>\n",
       "      <td>NaN</td>\n",
       "      <td>NaN</td>\n",
       "      <td>...</td>\n",
       "      <td>NaN</td>\n",
       "      <td>NaN</td>\n",
       "      <td>NaN</td>\n",
       "      <td>NaN</td>\n",
       "      <td>NaN</td>\n",
       "      <td>NaN</td>\n",
       "      <td>NaN</td>\n",
       "      <td>NaN</td>\n",
       "      <td>NaN</td>\n",
       "      <td>NaN</td>\n",
       "    </tr>\n",
       "    <tr>\n",
       "      <th>CWVIB_2</th>\n",
       "      <td>NaN</td>\n",
       "      <td>NaN</td>\n",
       "      <td>NaN</td>\n",
       "      <td>NaN</td>\n",
       "      <td>NaN</td>\n",
       "      <td>NaN</td>\n",
       "      <td>NaN</td>\n",
       "      <td>NaN</td>\n",
       "      <td>NaN</td>\n",
       "      <td>NaN</td>\n",
       "      <td>...</td>\n",
       "      <td>NaN</td>\n",
       "      <td>-0.999366</td>\n",
       "      <td>NaN</td>\n",
       "      <td>NaN</td>\n",
       "      <td>NaN</td>\n",
       "      <td>NaN</td>\n",
       "      <td>NaN</td>\n",
       "      <td>NaN</td>\n",
       "      <td>NaN</td>\n",
       "      <td>NaN</td>\n",
       "    </tr>\n",
       "    <tr>\n",
       "      <th>CWVIB_1</th>\n",
       "      <td>NaN</td>\n",
       "      <td>NaN</td>\n",
       "      <td>NaN</td>\n",
       "      <td>NaN</td>\n",
       "      <td>NaN</td>\n",
       "      <td>NaN</td>\n",
       "      <td>NaN</td>\n",
       "      <td>NaN</td>\n",
       "      <td>NaN</td>\n",
       "      <td>NaN</td>\n",
       "      <td>...</td>\n",
       "      <td>-0.999366</td>\n",
       "      <td>NaN</td>\n",
       "      <td>NaN</td>\n",
       "      <td>NaN</td>\n",
       "      <td>NaN</td>\n",
       "      <td>NaN</td>\n",
       "      <td>NaN</td>\n",
       "      <td>NaN</td>\n",
       "      <td>NaN</td>\n",
       "      <td>NaN</td>\n",
       "    </tr>\n",
       "    <tr>\n",
       "      <th>SECFUPOU_2</th>\n",
       "      <td>NaN</td>\n",
       "      <td>NaN</td>\n",
       "      <td>NaN</td>\n",
       "      <td>NaN</td>\n",
       "      <td>NaN</td>\n",
       "      <td>NaN</td>\n",
       "      <td>NaN</td>\n",
       "      <td>NaN</td>\n",
       "      <td>NaN</td>\n",
       "      <td>NaN</td>\n",
       "      <td>...</td>\n",
       "      <td>NaN</td>\n",
       "      <td>NaN</td>\n",
       "      <td>NaN</td>\n",
       "      <td>-0.999358</td>\n",
       "      <td>NaN</td>\n",
       "      <td>NaN</td>\n",
       "      <td>NaN</td>\n",
       "      <td>NaN</td>\n",
       "      <td>NaN</td>\n",
       "      <td>NaN</td>\n",
       "    </tr>\n",
       "    <tr>\n",
       "      <th>SECFUPOU_1</th>\n",
       "      <td>NaN</td>\n",
       "      <td>NaN</td>\n",
       "      <td>NaN</td>\n",
       "      <td>NaN</td>\n",
       "      <td>NaN</td>\n",
       "      <td>NaN</td>\n",
       "      <td>NaN</td>\n",
       "      <td>NaN</td>\n",
       "      <td>NaN</td>\n",
       "      <td>NaN</td>\n",
       "      <td>...</td>\n",
       "      <td>NaN</td>\n",
       "      <td>NaN</td>\n",
       "      <td>-0.999358</td>\n",
       "      <td>NaN</td>\n",
       "      <td>NaN</td>\n",
       "      <td>NaN</td>\n",
       "      <td>NaN</td>\n",
       "      <td>NaN</td>\n",
       "      <td>NaN</td>\n",
       "      <td>NaN</td>\n",
       "    </tr>\n",
       "    <tr>\n",
       "      <th>ACTIVFIN_86</th>\n",
       "      <td>NaN</td>\n",
       "      <td>NaN</td>\n",
       "      <td>NaN</td>\n",
       "      <td>NaN</td>\n",
       "      <td>NaN</td>\n",
       "      <td>NaN</td>\n",
       "      <td>NaN</td>\n",
       "      <td>NaN</td>\n",
       "      <td>NaN</td>\n",
       "      <td>NaN</td>\n",
       "      <td>...</td>\n",
       "      <td>NaN</td>\n",
       "      <td>NaN</td>\n",
       "      <td>NaN</td>\n",
       "      <td>NaN</td>\n",
       "      <td>NaN</td>\n",
       "      <td>1.0</td>\n",
       "      <td>NaN</td>\n",
       "      <td>NaN</td>\n",
       "      <td>NaN</td>\n",
       "      <td>NaN</td>\n",
       "    </tr>\n",
       "    <tr>\n",
       "      <th>naf38_QA</th>\n",
       "      <td>NaN</td>\n",
       "      <td>NaN</td>\n",
       "      <td>NaN</td>\n",
       "      <td>NaN</td>\n",
       "      <td>NaN</td>\n",
       "      <td>NaN</td>\n",
       "      <td>NaN</td>\n",
       "      <td>NaN</td>\n",
       "      <td>NaN</td>\n",
       "      <td>NaN</td>\n",
       "      <td>...</td>\n",
       "      <td>NaN</td>\n",
       "      <td>NaN</td>\n",
       "      <td>NaN</td>\n",
       "      <td>NaN</td>\n",
       "      <td>1.0</td>\n",
       "      <td>NaN</td>\n",
       "      <td>NaN</td>\n",
       "      <td>NaN</td>\n",
       "      <td>NaN</td>\n",
       "      <td>NaN</td>\n",
       "    </tr>\n",
       "    <tr>\n",
       "      <th>HH</th>\n",
       "      <td>NaN</td>\n",
       "      <td>NaN</td>\n",
       "      <td>NaN</td>\n",
       "      <td>NaN</td>\n",
       "      <td>NaN</td>\n",
       "      <td>NaN</td>\n",
       "      <td>NaN</td>\n",
       "      <td>NaN</td>\n",
       "      <td>NaN</td>\n",
       "      <td>NaN</td>\n",
       "      <td>...</td>\n",
       "      <td>NaN</td>\n",
       "      <td>NaN</td>\n",
       "      <td>NaN</td>\n",
       "      <td>NaN</td>\n",
       "      <td>NaN</td>\n",
       "      <td>NaN</td>\n",
       "      <td>NaN</td>\n",
       "      <td>NaN</td>\n",
       "      <td>NaN</td>\n",
       "      <td>NaN</td>\n",
       "    </tr>\n",
       "    <tr>\n",
       "      <th>KMANNU</th>\n",
       "      <td>NaN</td>\n",
       "      <td>NaN</td>\n",
       "      <td>NaN</td>\n",
       "      <td>NaN</td>\n",
       "      <td>NaN</td>\n",
       "      <td>NaN</td>\n",
       "      <td>NaN</td>\n",
       "      <td>NaN</td>\n",
       "      <td>NaN</td>\n",
       "      <td>NaN</td>\n",
       "      <td>...</td>\n",
       "      <td>NaN</td>\n",
       "      <td>NaN</td>\n",
       "      <td>NaN</td>\n",
       "      <td>NaN</td>\n",
       "      <td>NaN</td>\n",
       "      <td>NaN</td>\n",
       "      <td>NaN</td>\n",
       "      <td>NaN</td>\n",
       "      <td>NaN</td>\n",
       "      <td>NaN</td>\n",
       "    </tr>\n",
       "    <tr>\n",
       "      <th>REVMENS</th>\n",
       "      <td>NaN</td>\n",
       "      <td>NaN</td>\n",
       "      <td>NaN</td>\n",
       "      <td>NaN</td>\n",
       "      <td>NaN</td>\n",
       "      <td>NaN</td>\n",
       "      <td>NaN</td>\n",
       "      <td>NaN</td>\n",
       "      <td>NaN</td>\n",
       "      <td>NaN</td>\n",
       "      <td>...</td>\n",
       "      <td>NaN</td>\n",
       "      <td>NaN</td>\n",
       "      <td>NaN</td>\n",
       "      <td>NaN</td>\n",
       "      <td>NaN</td>\n",
       "      <td>NaN</td>\n",
       "      <td>NaN</td>\n",
       "      <td>NaN</td>\n",
       "      <td>NaN</td>\n",
       "      <td>NaN</td>\n",
       "    </tr>\n",
       "    <tr>\n",
       "      <th>target</th>\n",
       "      <td>NaN</td>\n",
       "      <td>NaN</td>\n",
       "      <td>NaN</td>\n",
       "      <td>NaN</td>\n",
       "      <td>NaN</td>\n",
       "      <td>NaN</td>\n",
       "      <td>NaN</td>\n",
       "      <td>NaN</td>\n",
       "      <td>NaN</td>\n",
       "      <td>NaN</td>\n",
       "      <td>...</td>\n",
       "      <td>NaN</td>\n",
       "      <td>NaN</td>\n",
       "      <td>NaN</td>\n",
       "      <td>NaN</td>\n",
       "      <td>NaN</td>\n",
       "      <td>NaN</td>\n",
       "      <td>NaN</td>\n",
       "      <td>NaN</td>\n",
       "      <td>NaN</td>\n",
       "      <td>NaN</td>\n",
       "    </tr>\n",
       "  </tbody>\n",
       "</table>\n",
       "<p>24 rows × 24 columns</p>\n",
       "</div>"
      ],
      "text/plain": [
       "               TPP_1  SECROUT_1  SECROUT_2  cser_5  naf4_EV  CONDUITE_2  \\\n",
       "TPP_1            NaN        NaN        NaN     NaN      NaN         NaN   \n",
       "SECROUT_1        NaN        NaN  -0.999123     NaN      NaN         NaN   \n",
       "SECROUT_2        NaN  -0.999123        NaN     NaN      NaN         NaN   \n",
       "cser_5           NaN        NaN        NaN     NaN      NaN         NaN   \n",
       "naf4_EV          NaN        NaN        NaN     NaN      NaN         NaN   \n",
       "CONDUITE_2       NaN        NaN        NaN     NaN      NaN         NaN   \n",
       "NBRKM_DRAP_ 0    NaN        NaN        NaN     NaN      NaN    0.999434   \n",
       "CONDUITE_1       NaN        NaN        NaN     NaN      NaN   -0.999434   \n",
       "naf17_OQ         NaN        NaN        NaN     NaN      NaN         NaN   \n",
       "CJSITUA_6        NaN        NaN        NaN     NaN      NaN         NaN   \n",
       "TINA_3           NaN        NaN        NaN     NaN      NaN         NaN   \n",
       "NBRKM_DRAP_ 1    NaN        NaN        NaN     NaN      NaN   -0.920992   \n",
       "csei_61          NaN        NaN        NaN     NaN      NaN         NaN   \n",
       "cser_6           NaN        NaN        NaN     NaN      NaN         NaN   \n",
       "CWVIB_2          NaN        NaN        NaN     NaN      NaN         NaN   \n",
       "CWVIB_1          NaN        NaN        NaN     NaN      NaN         NaN   \n",
       "SECFUPOU_2       NaN        NaN        NaN     NaN      NaN         NaN   \n",
       "SECFUPOU_1       NaN        NaN        NaN     NaN      NaN         NaN   \n",
       "ACTIVFIN_86      NaN        NaN        NaN     NaN      NaN         NaN   \n",
       "naf38_QA         NaN        NaN        NaN     NaN      NaN         NaN   \n",
       "HH               NaN        NaN        NaN     NaN      NaN         NaN   \n",
       "KMANNU           NaN        NaN        NaN     NaN      NaN         NaN   \n",
       "REVMENS          NaN        NaN        NaN     NaN      NaN         NaN   \n",
       "target           NaN        NaN        NaN     NaN      NaN         NaN   \n",
       "\n",
       "               NBRKM_DRAP_ 0  CONDUITE_1  naf17_OQ  CJSITUA_6  ...   CWVIB_2  \\\n",
       "TPP_1                    NaN         NaN       NaN        NaN  ...       NaN   \n",
       "SECROUT_1                NaN         NaN       NaN        NaN  ...       NaN   \n",
       "SECROUT_2                NaN         NaN       NaN        NaN  ...       NaN   \n",
       "cser_5                   NaN         NaN       NaN        NaN  ...       NaN   \n",
       "naf4_EV                  NaN         NaN       NaN        NaN  ...       NaN   \n",
       "CONDUITE_2          0.999434   -0.999434       NaN        NaN  ...       NaN   \n",
       "NBRKM_DRAP_ 0            NaN   -1.000000       NaN        NaN  ...       NaN   \n",
       "CONDUITE_1         -1.000000         NaN       NaN        NaN  ...       NaN   \n",
       "naf17_OQ                 NaN         NaN       NaN        NaN  ...       NaN   \n",
       "CJSITUA_6                NaN         NaN       NaN        NaN  ...       NaN   \n",
       "TINA_3                   NaN         NaN       NaN        NaN  ...       NaN   \n",
       "NBRKM_DRAP_ 1      -0.921514    0.921514       NaN        NaN  ...       NaN   \n",
       "csei_61                  NaN         NaN       NaN        NaN  ...       NaN   \n",
       "cser_6                   NaN         NaN       NaN        NaN  ...       NaN   \n",
       "CWVIB_2                  NaN         NaN       NaN        NaN  ...       NaN   \n",
       "CWVIB_1                  NaN         NaN       NaN        NaN  ... -0.999366   \n",
       "SECFUPOU_2               NaN         NaN       NaN        NaN  ...       NaN   \n",
       "SECFUPOU_1               NaN         NaN       NaN        NaN  ...       NaN   \n",
       "ACTIVFIN_86              NaN         NaN       NaN        NaN  ...       NaN   \n",
       "naf38_QA                 NaN         NaN       NaN        NaN  ...       NaN   \n",
       "HH                       NaN         NaN       NaN        NaN  ...       NaN   \n",
       "KMANNU                   NaN         NaN       NaN        NaN  ...       NaN   \n",
       "REVMENS                  NaN         NaN       NaN        NaN  ...       NaN   \n",
       "target                   NaN         NaN       NaN        NaN  ...       NaN   \n",
       "\n",
       "                CWVIB_1  SECFUPOU_2  SECFUPOU_1  ACTIVFIN_86  naf38_QA  HH  \\\n",
       "TPP_1               NaN         NaN         NaN          NaN       NaN NaN   \n",
       "SECROUT_1           NaN         NaN         NaN          NaN       NaN NaN   \n",
       "SECROUT_2           NaN         NaN         NaN          NaN       NaN NaN   \n",
       "cser_5              NaN         NaN         NaN          NaN       NaN NaN   \n",
       "naf4_EV             NaN         NaN         NaN          NaN       NaN NaN   \n",
       "CONDUITE_2          NaN         NaN         NaN          NaN       NaN NaN   \n",
       "NBRKM_DRAP_ 0       NaN         NaN         NaN          NaN       NaN NaN   \n",
       "CONDUITE_1          NaN         NaN         NaN          NaN       NaN NaN   \n",
       "naf17_OQ            NaN         NaN         NaN          NaN       NaN NaN   \n",
       "CJSITUA_6           NaN         NaN         NaN          NaN       NaN NaN   \n",
       "TINA_3              NaN         NaN         NaN          NaN       NaN NaN   \n",
       "NBRKM_DRAP_ 1       NaN         NaN         NaN          NaN       NaN NaN   \n",
       "csei_61             NaN         NaN         NaN          NaN       NaN NaN   \n",
       "cser_6              NaN         NaN         NaN          NaN       NaN NaN   \n",
       "CWVIB_2       -0.999366         NaN         NaN          NaN       NaN NaN   \n",
       "CWVIB_1             NaN         NaN         NaN          NaN       NaN NaN   \n",
       "SECFUPOU_2          NaN         NaN   -0.999358          NaN       NaN NaN   \n",
       "SECFUPOU_1          NaN   -0.999358         NaN          NaN       NaN NaN   \n",
       "ACTIVFIN_86         NaN         NaN         NaN          NaN       1.0 NaN   \n",
       "naf38_QA            NaN         NaN         NaN          1.0       NaN NaN   \n",
       "HH                  NaN         NaN         NaN          NaN       NaN NaN   \n",
       "KMANNU              NaN         NaN         NaN          NaN       NaN NaN   \n",
       "REVMENS             NaN         NaN         NaN          NaN       NaN NaN   \n",
       "target              NaN         NaN         NaN          NaN       NaN NaN   \n",
       "\n",
       "               KMANNU  REVMENS  target  \n",
       "TPP_1             NaN      NaN     NaN  \n",
       "SECROUT_1         NaN      NaN     NaN  \n",
       "SECROUT_2         NaN      NaN     NaN  \n",
       "cser_5            NaN      NaN     NaN  \n",
       "naf4_EV           NaN      NaN     NaN  \n",
       "CONDUITE_2        NaN      NaN     NaN  \n",
       "NBRKM_DRAP_ 0     NaN      NaN     NaN  \n",
       "CONDUITE_1        NaN      NaN     NaN  \n",
       "naf17_OQ          NaN      NaN     NaN  \n",
       "CJSITUA_6         NaN      NaN     NaN  \n",
       "TINA_3            NaN      NaN     NaN  \n",
       "NBRKM_DRAP_ 1     NaN      NaN     NaN  \n",
       "csei_61           NaN      NaN     NaN  \n",
       "cser_6            NaN      NaN     NaN  \n",
       "CWVIB_2           NaN      NaN     NaN  \n",
       "CWVIB_1           NaN      NaN     NaN  \n",
       "SECFUPOU_2        NaN      NaN     NaN  \n",
       "SECFUPOU_1        NaN      NaN     NaN  \n",
       "ACTIVFIN_86       NaN      NaN     NaN  \n",
       "naf38_QA          NaN      NaN     NaN  \n",
       "HH                NaN      NaN     NaN  \n",
       "KMANNU            NaN      NaN     NaN  \n",
       "REVMENS           NaN      NaN     NaN  \n",
       "target            NaN      NaN     NaN  \n",
       "\n",
       "[24 rows x 24 columns]"
      ]
     },
     "execution_count": 158,
     "metadata": {},
     "output_type": "execute_result"
    }
   ],
   "source": [
    "# Set the diagonal values to NaN to avoid visualzing the variables correlation with itself\n",
    "np.fill_diagonal(filtered_corr_matrix.values, np.nan)\n",
    "filtered_corr_matrix"
   ]
  },
  {
   "cell_type": "code",
   "execution_count": 159,
   "metadata": {},
   "outputs": [],
   "source": [
    "# Drop rows and columns with all NaN values to avoid visualizing them\n",
    "filtered_corr_matrix.dropna(thresh=1, inplace=True)\n",
    "filtered_corr_matrix.dropna(thresh=1, axis=1, inplace=True)"
   ]
  },
  {
   "cell_type": "code",
   "execution_count": 160,
   "metadata": {},
   "outputs": [
    {
     "data": {
      "text/html": [
       "<div>\n",
       "<style scoped>\n",
       "    .dataframe tbody tr th:only-of-type {\n",
       "        vertical-align: middle;\n",
       "    }\n",
       "\n",
       "    .dataframe tbody tr th {\n",
       "        vertical-align: top;\n",
       "    }\n",
       "\n",
       "    .dataframe thead th {\n",
       "        text-align: right;\n",
       "    }\n",
       "</style>\n",
       "<table border=\"1\" class=\"dataframe\">\n",
       "  <thead>\n",
       "    <tr style=\"text-align: right;\">\n",
       "      <th></th>\n",
       "      <th>SECROUT_1</th>\n",
       "      <th>SECROUT_2</th>\n",
       "      <th>CONDUITE_2</th>\n",
       "      <th>NBRKM_DRAP_ 0</th>\n",
       "      <th>CONDUITE_1</th>\n",
       "      <th>NBRKM_DRAP_ 1</th>\n",
       "      <th>csei_61</th>\n",
       "      <th>cser_6</th>\n",
       "      <th>CWVIB_2</th>\n",
       "      <th>CWVIB_1</th>\n",
       "      <th>SECFUPOU_2</th>\n",
       "      <th>SECFUPOU_1</th>\n",
       "      <th>ACTIVFIN_86</th>\n",
       "      <th>naf38_QA</th>\n",
       "    </tr>\n",
       "  </thead>\n",
       "  <tbody>\n",
       "    <tr>\n",
       "      <th>SECROUT_1</th>\n",
       "      <td>NaN</td>\n",
       "      <td>-0.999123</td>\n",
       "      <td>NaN</td>\n",
       "      <td>NaN</td>\n",
       "      <td>NaN</td>\n",
       "      <td>NaN</td>\n",
       "      <td>NaN</td>\n",
       "      <td>NaN</td>\n",
       "      <td>NaN</td>\n",
       "      <td>NaN</td>\n",
       "      <td>NaN</td>\n",
       "      <td>NaN</td>\n",
       "      <td>NaN</td>\n",
       "      <td>NaN</td>\n",
       "    </tr>\n",
       "    <tr>\n",
       "      <th>SECROUT_2</th>\n",
       "      <td>-0.999123</td>\n",
       "      <td>NaN</td>\n",
       "      <td>NaN</td>\n",
       "      <td>NaN</td>\n",
       "      <td>NaN</td>\n",
       "      <td>NaN</td>\n",
       "      <td>NaN</td>\n",
       "      <td>NaN</td>\n",
       "      <td>NaN</td>\n",
       "      <td>NaN</td>\n",
       "      <td>NaN</td>\n",
       "      <td>NaN</td>\n",
       "      <td>NaN</td>\n",
       "      <td>NaN</td>\n",
       "    </tr>\n",
       "    <tr>\n",
       "      <th>CONDUITE_2</th>\n",
       "      <td>NaN</td>\n",
       "      <td>NaN</td>\n",
       "      <td>NaN</td>\n",
       "      <td>0.999434</td>\n",
       "      <td>-0.999434</td>\n",
       "      <td>-0.920992</td>\n",
       "      <td>NaN</td>\n",
       "      <td>NaN</td>\n",
       "      <td>NaN</td>\n",
       "      <td>NaN</td>\n",
       "      <td>NaN</td>\n",
       "      <td>NaN</td>\n",
       "      <td>NaN</td>\n",
       "      <td>NaN</td>\n",
       "    </tr>\n",
       "    <tr>\n",
       "      <th>NBRKM_DRAP_ 0</th>\n",
       "      <td>NaN</td>\n",
       "      <td>NaN</td>\n",
       "      <td>0.999434</td>\n",
       "      <td>NaN</td>\n",
       "      <td>-1.000000</td>\n",
       "      <td>-0.921514</td>\n",
       "      <td>NaN</td>\n",
       "      <td>NaN</td>\n",
       "      <td>NaN</td>\n",
       "      <td>NaN</td>\n",
       "      <td>NaN</td>\n",
       "      <td>NaN</td>\n",
       "      <td>NaN</td>\n",
       "      <td>NaN</td>\n",
       "    </tr>\n",
       "    <tr>\n",
       "      <th>CONDUITE_1</th>\n",
       "      <td>NaN</td>\n",
       "      <td>NaN</td>\n",
       "      <td>-0.999434</td>\n",
       "      <td>-1.000000</td>\n",
       "      <td>NaN</td>\n",
       "      <td>0.921514</td>\n",
       "      <td>NaN</td>\n",
       "      <td>NaN</td>\n",
       "      <td>NaN</td>\n",
       "      <td>NaN</td>\n",
       "      <td>NaN</td>\n",
       "      <td>NaN</td>\n",
       "      <td>NaN</td>\n",
       "      <td>NaN</td>\n",
       "    </tr>\n",
       "    <tr>\n",
       "      <th>NBRKM_DRAP_ 1</th>\n",
       "      <td>NaN</td>\n",
       "      <td>NaN</td>\n",
       "      <td>-0.920992</td>\n",
       "      <td>-0.921514</td>\n",
       "      <td>0.921514</td>\n",
       "      <td>NaN</td>\n",
       "      <td>NaN</td>\n",
       "      <td>NaN</td>\n",
       "      <td>NaN</td>\n",
       "      <td>NaN</td>\n",
       "      <td>NaN</td>\n",
       "      <td>NaN</td>\n",
       "      <td>NaN</td>\n",
       "      <td>NaN</td>\n",
       "    </tr>\n",
       "    <tr>\n",
       "      <th>csei_61</th>\n",
       "      <td>NaN</td>\n",
       "      <td>NaN</td>\n",
       "      <td>NaN</td>\n",
       "      <td>NaN</td>\n",
       "      <td>NaN</td>\n",
       "      <td>NaN</td>\n",
       "      <td>NaN</td>\n",
       "      <td>0.809746</td>\n",
       "      <td>NaN</td>\n",
       "      <td>NaN</td>\n",
       "      <td>NaN</td>\n",
       "      <td>NaN</td>\n",
       "      <td>NaN</td>\n",
       "      <td>NaN</td>\n",
       "    </tr>\n",
       "    <tr>\n",
       "      <th>cser_6</th>\n",
       "      <td>NaN</td>\n",
       "      <td>NaN</td>\n",
       "      <td>NaN</td>\n",
       "      <td>NaN</td>\n",
       "      <td>NaN</td>\n",
       "      <td>NaN</td>\n",
       "      <td>0.809746</td>\n",
       "      <td>NaN</td>\n",
       "      <td>NaN</td>\n",
       "      <td>NaN</td>\n",
       "      <td>NaN</td>\n",
       "      <td>NaN</td>\n",
       "      <td>NaN</td>\n",
       "      <td>NaN</td>\n",
       "    </tr>\n",
       "    <tr>\n",
       "      <th>CWVIB_2</th>\n",
       "      <td>NaN</td>\n",
       "      <td>NaN</td>\n",
       "      <td>NaN</td>\n",
       "      <td>NaN</td>\n",
       "      <td>NaN</td>\n",
       "      <td>NaN</td>\n",
       "      <td>NaN</td>\n",
       "      <td>NaN</td>\n",
       "      <td>NaN</td>\n",
       "      <td>-0.999366</td>\n",
       "      <td>NaN</td>\n",
       "      <td>NaN</td>\n",
       "      <td>NaN</td>\n",
       "      <td>NaN</td>\n",
       "    </tr>\n",
       "    <tr>\n",
       "      <th>CWVIB_1</th>\n",
       "      <td>NaN</td>\n",
       "      <td>NaN</td>\n",
       "      <td>NaN</td>\n",
       "      <td>NaN</td>\n",
       "      <td>NaN</td>\n",
       "      <td>NaN</td>\n",
       "      <td>NaN</td>\n",
       "      <td>NaN</td>\n",
       "      <td>-0.999366</td>\n",
       "      <td>NaN</td>\n",
       "      <td>NaN</td>\n",
       "      <td>NaN</td>\n",
       "      <td>NaN</td>\n",
       "      <td>NaN</td>\n",
       "    </tr>\n",
       "    <tr>\n",
       "      <th>SECFUPOU_2</th>\n",
       "      <td>NaN</td>\n",
       "      <td>NaN</td>\n",
       "      <td>NaN</td>\n",
       "      <td>NaN</td>\n",
       "      <td>NaN</td>\n",
       "      <td>NaN</td>\n",
       "      <td>NaN</td>\n",
       "      <td>NaN</td>\n",
       "      <td>NaN</td>\n",
       "      <td>NaN</td>\n",
       "      <td>NaN</td>\n",
       "      <td>-0.999358</td>\n",
       "      <td>NaN</td>\n",
       "      <td>NaN</td>\n",
       "    </tr>\n",
       "    <tr>\n",
       "      <th>SECFUPOU_1</th>\n",
       "      <td>NaN</td>\n",
       "      <td>NaN</td>\n",
       "      <td>NaN</td>\n",
       "      <td>NaN</td>\n",
       "      <td>NaN</td>\n",
       "      <td>NaN</td>\n",
       "      <td>NaN</td>\n",
       "      <td>NaN</td>\n",
       "      <td>NaN</td>\n",
       "      <td>NaN</td>\n",
       "      <td>-0.999358</td>\n",
       "      <td>NaN</td>\n",
       "      <td>NaN</td>\n",
       "      <td>NaN</td>\n",
       "    </tr>\n",
       "    <tr>\n",
       "      <th>ACTIVFIN_86</th>\n",
       "      <td>NaN</td>\n",
       "      <td>NaN</td>\n",
       "      <td>NaN</td>\n",
       "      <td>NaN</td>\n",
       "      <td>NaN</td>\n",
       "      <td>NaN</td>\n",
       "      <td>NaN</td>\n",
       "      <td>NaN</td>\n",
       "      <td>NaN</td>\n",
       "      <td>NaN</td>\n",
       "      <td>NaN</td>\n",
       "      <td>NaN</td>\n",
       "      <td>NaN</td>\n",
       "      <td>1.0</td>\n",
       "    </tr>\n",
       "    <tr>\n",
       "      <th>naf38_QA</th>\n",
       "      <td>NaN</td>\n",
       "      <td>NaN</td>\n",
       "      <td>NaN</td>\n",
       "      <td>NaN</td>\n",
       "      <td>NaN</td>\n",
       "      <td>NaN</td>\n",
       "      <td>NaN</td>\n",
       "      <td>NaN</td>\n",
       "      <td>NaN</td>\n",
       "      <td>NaN</td>\n",
       "      <td>NaN</td>\n",
       "      <td>NaN</td>\n",
       "      <td>1.0</td>\n",
       "      <td>NaN</td>\n",
       "    </tr>\n",
       "  </tbody>\n",
       "</table>\n",
       "</div>"
      ],
      "text/plain": [
       "               SECROUT_1  SECROUT_2  CONDUITE_2  NBRKM_DRAP_ 0  CONDUITE_1  \\\n",
       "SECROUT_1            NaN  -0.999123         NaN            NaN         NaN   \n",
       "SECROUT_2      -0.999123        NaN         NaN            NaN         NaN   \n",
       "CONDUITE_2           NaN        NaN         NaN       0.999434   -0.999434   \n",
       "NBRKM_DRAP_ 0        NaN        NaN    0.999434            NaN   -1.000000   \n",
       "CONDUITE_1           NaN        NaN   -0.999434      -1.000000         NaN   \n",
       "NBRKM_DRAP_ 1        NaN        NaN   -0.920992      -0.921514    0.921514   \n",
       "csei_61              NaN        NaN         NaN            NaN         NaN   \n",
       "cser_6               NaN        NaN         NaN            NaN         NaN   \n",
       "CWVIB_2              NaN        NaN         NaN            NaN         NaN   \n",
       "CWVIB_1              NaN        NaN         NaN            NaN         NaN   \n",
       "SECFUPOU_2           NaN        NaN         NaN            NaN         NaN   \n",
       "SECFUPOU_1           NaN        NaN         NaN            NaN         NaN   \n",
       "ACTIVFIN_86          NaN        NaN         NaN            NaN         NaN   \n",
       "naf38_QA             NaN        NaN         NaN            NaN         NaN   \n",
       "\n",
       "               NBRKM_DRAP_ 1   csei_61    cser_6   CWVIB_2   CWVIB_1  \\\n",
       "SECROUT_1                NaN       NaN       NaN       NaN       NaN   \n",
       "SECROUT_2                NaN       NaN       NaN       NaN       NaN   \n",
       "CONDUITE_2         -0.920992       NaN       NaN       NaN       NaN   \n",
       "NBRKM_DRAP_ 0      -0.921514       NaN       NaN       NaN       NaN   \n",
       "CONDUITE_1          0.921514       NaN       NaN       NaN       NaN   \n",
       "NBRKM_DRAP_ 1            NaN       NaN       NaN       NaN       NaN   \n",
       "csei_61                  NaN       NaN  0.809746       NaN       NaN   \n",
       "cser_6                   NaN  0.809746       NaN       NaN       NaN   \n",
       "CWVIB_2                  NaN       NaN       NaN       NaN -0.999366   \n",
       "CWVIB_1                  NaN       NaN       NaN -0.999366       NaN   \n",
       "SECFUPOU_2               NaN       NaN       NaN       NaN       NaN   \n",
       "SECFUPOU_1               NaN       NaN       NaN       NaN       NaN   \n",
       "ACTIVFIN_86              NaN       NaN       NaN       NaN       NaN   \n",
       "naf38_QA                 NaN       NaN       NaN       NaN       NaN   \n",
       "\n",
       "               SECFUPOU_2  SECFUPOU_1  ACTIVFIN_86  naf38_QA  \n",
       "SECROUT_1             NaN         NaN          NaN       NaN  \n",
       "SECROUT_2             NaN         NaN          NaN       NaN  \n",
       "CONDUITE_2            NaN         NaN          NaN       NaN  \n",
       "NBRKM_DRAP_ 0         NaN         NaN          NaN       NaN  \n",
       "CONDUITE_1            NaN         NaN          NaN       NaN  \n",
       "NBRKM_DRAP_ 1         NaN         NaN          NaN       NaN  \n",
       "csei_61               NaN         NaN          NaN       NaN  \n",
       "cser_6                NaN         NaN          NaN       NaN  \n",
       "CWVIB_2               NaN         NaN          NaN       NaN  \n",
       "CWVIB_1               NaN         NaN          NaN       NaN  \n",
       "SECFUPOU_2            NaN   -0.999358          NaN       NaN  \n",
       "SECFUPOU_1      -0.999358         NaN          NaN       NaN  \n",
       "ACTIVFIN_86           NaN         NaN          NaN       1.0  \n",
       "naf38_QA              NaN         NaN          1.0       NaN  "
      ]
     },
     "execution_count": 160,
     "metadata": {},
     "output_type": "execute_result"
    }
   ],
   "source": [
    "filtered_corr_matrix"
   ]
  },
  {
   "cell_type": "code",
   "execution_count": 161,
   "metadata": {},
   "outputs": [
    {
     "data": {
      "image/png": "[encoded data removed]",
      "text/plain": [
       "<Figure size 2500x2500 with 2 Axes>"
      ]
     },
     "metadata": {},
     "output_type": "display_data"
    }
   ],
   "source": [
    "# Create a heatmap of the filtered correlation matrix\n",
    "plt.figure(figsize=(25, 25))\n",
    "sns.heatmap(filtered_corr_matrix, annot=True, cmap=\"coolwarm\", center=0)\n",
    "plt.title(\"Correlation Matrix Heatmap\")\n",
    "plt.show()"
   ]
  },
  {
   "cell_type": "markdown",
   "metadata": {},
   "source": [
    "##### Using the dictionnary we eliminate highly correlated variables."
   ]
  },
  {
   "cell_type": "code",
   "execution_count": 162,
   "metadata": {},
   "outputs": [
    {
     "name": "stderr",
     "output_type": "stream",
     "text": [
      "/tmp/ipykernel_160722/847262101.py:1: SettingWithCopyWarning:\n",
      "\n",
      "\n",
      "A value is trying to be set on a copy of a slice from a DataFrame\n",
      "\n",
      "See the caveats in the documentation: https://pandas.pydata.org/pandas-docs/stable/user_guide/indexing.html#returning-a-view-versus-a-copy\n",
      "\n"
     ]
    }
   ],
   "source": [
    "one_hot_df.drop(\n",
    "    columns=[\n",
    "        \"SECROUT_1\",\n",
    "        \"CONDUITE_2\",\n",
    "        \"NBRKM_DRAP_ 0\",\n",
    "        \"NBRKM_DRAP_ 1\",\n",
    "        \"CWVIB_1\",\n",
    "        \"SECFUPOU_2\",\n",
    "        \"ACTIVFIN_86\",\n",
    "        \"csei_61\",\n",
    "    ],\n",
    "    inplace=True,\n",
    ")"
   ]
  },
  {
   "cell_type": "markdown",
   "metadata": {},
   "source": [
    "---"
   ]
  },
  {
   "cell_type": "markdown",
   "metadata": {},
   "source": [
    "### B. Data Standardization"
   ]
  },
  {
   "cell_type": "markdown",
   "metadata": {},
   "source": [
    "##### The quantiative data has a high variance which is why we apply a standardization to have a mean of 0 and a standard deviation of 1"
   ]
  },
  {
   "cell_type": "code",
   "execution_count": 163,
   "metadata": {},
   "outputs": [
    {
     "name": "stderr",
     "output_type": "stream",
     "text": [
      "/tmp/ipykernel_160722/3478200850.py:5: SettingWithCopyWarning:\n",
      "\n",
      "\n",
      "A value is trying to be set on a copy of a slice from a DataFrame.\n",
      "Try using .loc[row_indexer,col_indexer] = value instead\n",
      "\n",
      "See the caveats in the documentation: https://pandas.pydata.org/pandas-docs/stable/user_guide/indexing.html#returning-a-view-versus-a-copy\n",
      "\n"
     ]
    }
   ],
   "source": [
    "def standard_columns(column):\n",
    "    return (column - column.mean()) / column.std() \n",
    "\n",
    "# Standardize the quantitative variables\n",
    "one_hot_df[one_hot_df.select_dtypes([\"int\", \"float\"]).columns] = one_hot_df[\n",
    "    one_hot_df.select_dtypes([\"int\", \"float\"]).columns \n",
    "].apply(standard_columns)"
   ]
  },
  {
   "cell_type": "markdown",
   "metadata": {},
   "source": [
    "---"
   ]
  },
  {
   "cell_type": "markdown",
   "metadata": {},
   "source": [
    "### C. Model creation & fitting"
   ]
  },
  {
   "cell_type": "code",
   "execution_count": 164,
   "metadata": {},
   "outputs": [
    {
     "name": "stdout",
     "output_type": "stream",
     "text": [
      "The final list of columns to be used in the model: ['TPP_1', 'SECROUT_2', 'cser_5', 'naf4_EV', 'CONDUITE_1', 'naf17_OQ', 'CJSITUA_6', 'TINA_3', 'cser_6', 'CWVIB_2', 'SECFUPOU_1', 'naf38_QA', 'HH', 'KMANNU', 'REVMENS', 'target']\n"
     ]
    }
   ],
   "source": [
    "print(f\"The final list of columns to be used in the model: {one_hot_df.columns.tolist()}\")"
   ]
  },
  {
   "cell_type": "markdown",
   "metadata": {},
   "source": [
    "##### We will use a Logistic Regression model more known as 'logi' through the statsmodels library"
   ]
  },
  {
   "cell_type": "code",
   "execution_count": 165,
   "metadata": {},
   "outputs": [
    {
     "name": "stdout",
     "output_type": "stream",
     "text": [
      "Optimization terminated successfully.\n",
      "         Current function value: 0.461927\n",
      "         Iterations 7\n"
     ]
    },
    {
     "data": {
      "text/html": [
       "<table class=\"simpletable\">\n",
       "<caption>Logit Regression Results</caption>\n",
       "<tr>\n",
       "  <th>Dep. Variable:</th>           <td>y</td>        <th>  No. Observations:  </th>  <td> 22306</td> \n",
       "</tr>\n",
       "<tr>\n",
       "  <th>Model:</th>                 <td>Logit</td>      <th>  Df Residuals:      </th>  <td> 22291</td> \n",
       "</tr>\n",
       "<tr>\n",
       "  <th>Method:</th>                 <td>MLE</td>       <th>  Df Model:          </th>  <td>    14</td> \n",
       "</tr>\n",
       "<tr>\n",
       "  <th>Date:</th>            <td>Sun, 07 Jul 2024</td> <th>  Pseudo R-squ.:     </th>  <td>0.3080</td> \n",
       "</tr>\n",
       "<tr>\n",
       "  <th>Time:</th>                <td>16:51:25</td>     <th>  Log-Likelihood:    </th> <td> -10304.</td>\n",
       "</tr>\n",
       "<tr>\n",
       "  <th>converged:</th>             <td>True</td>       <th>  LL-Null:           </th> <td> -14889.</td>\n",
       "</tr>\n",
       "<tr>\n",
       "  <th>Covariance Type:</th>     <td>nonrobust</td>    <th>  LLR p-value:       </th>  <td> 0.000</td> \n",
       "</tr>\n",
       "</table>\n",
       "<table class=\"simpletable\">\n",
       "<tr>\n",
       "   <td></td>      <th>coef</th>     <th>std err</th>      <th>z</th>      <th>P>|z|</th>  <th>[0.025</th>    <th>0.975]</th>  \n",
       "</tr>\n",
       "<tr>\n",
       "  <th>x1</th>  <td>    0.7776</td> <td>    0.053</td> <td>   14.616</td> <td> 0.000</td> <td>    0.673</td> <td>    0.882</td>\n",
       "</tr>\n",
       "<tr>\n",
       "  <th>x2</th>  <td>   -0.8112</td> <td>    0.045</td> <td>  -18.215</td> <td> 0.000</td> <td>   -0.898</td> <td>   -0.724</td>\n",
       "</tr>\n",
       "<tr>\n",
       "  <th>x3</th>  <td>   -0.6498</td> <td>    0.046</td> <td>  -14.083</td> <td> 0.000</td> <td>   -0.740</td> <td>   -0.559</td>\n",
       "</tr>\n",
       "<tr>\n",
       "  <th>x4</th>  <td>   -0.6687</td> <td>    0.046</td> <td>  -14.599</td> <td> 0.000</td> <td>   -0.758</td> <td>   -0.579</td>\n",
       "</tr>\n",
       "<tr>\n",
       "  <th>x5</th>  <td>    0.0232</td> <td>    0.043</td> <td>    0.538</td> <td> 0.590</td> <td>   -0.061</td> <td>    0.108</td>\n",
       "</tr>\n",
       "<tr>\n",
       "  <th>x6</th>  <td>   -0.3162</td> <td>    0.044</td> <td>   -7.200</td> <td> 0.000</td> <td>   -0.402</td> <td>   -0.230</td>\n",
       "</tr>\n",
       "<tr>\n",
       "  <th>x7</th>  <td>    2.9232</td> <td>    0.118</td> <td>   24.679</td> <td> 0.000</td> <td>    2.691</td> <td>    3.155</td>\n",
       "</tr>\n",
       "<tr>\n",
       "  <th>x8</th>  <td>    0.9319</td> <td>    0.047</td> <td>   19.830</td> <td> 0.000</td> <td>    0.840</td> <td>    1.024</td>\n",
       "</tr>\n",
       "<tr>\n",
       "  <th>x9</th>  <td>    0.4454</td> <td>    0.052</td> <td>    8.528</td> <td> 0.000</td> <td>    0.343</td> <td>    0.548</td>\n",
       "</tr>\n",
       "<tr>\n",
       "  <th>x10</th> <td>   -0.8480</td> <td>    0.046</td> <td>  -18.246</td> <td> 0.000</td> <td>   -0.939</td> <td>   -0.757</td>\n",
       "</tr>\n",
       "<tr>\n",
       "  <th>x11</th> <td>    0.1334</td> <td>    0.041</td> <td>    3.264</td> <td> 0.001</td> <td>    0.053</td> <td>    0.213</td>\n",
       "</tr>\n",
       "<tr>\n",
       "  <th>x12</th> <td>   -0.7799</td> <td>    0.060</td> <td>  -12.975</td> <td> 0.000</td> <td>   -0.898</td> <td>   -0.662</td>\n",
       "</tr>\n",
       "<tr>\n",
       "  <th>x13</th> <td>    0.1335</td> <td>    0.021</td> <td>    6.320</td> <td> 0.000</td> <td>    0.092</td> <td>    0.175</td>\n",
       "</tr>\n",
       "<tr>\n",
       "  <th>x14</th> <td>    0.1506</td> <td>    0.023</td> <td>    6.659</td> <td> 0.000</td> <td>    0.106</td> <td>    0.195</td>\n",
       "</tr>\n",
       "<tr>\n",
       "  <th>x15</th> <td>    1.1901</td> <td>    0.053</td> <td>   22.318</td> <td> 0.000</td> <td>    1.086</td> <td>    1.295</td>\n",
       "</tr>\n",
       "</table>"
      ],
      "text/latex": [
       "\\begin{center}\n",
       "\\begin{tabular}{lclc}\n",
       "\\toprule\n",
       "\\textbf{Dep. Variable:}   &        y         & \\textbf{  No. Observations:  } &    22306    \\\\\n",
       "\\textbf{Model:}           &      Logit       & \\textbf{  Df Residuals:      } &    22291    \\\\\n",
       "\\textbf{Method:}          &       MLE        & \\textbf{  Df Model:          } &       14    \\\\\n",
       "\\textbf{Date:}            & Sun, 07 Jul 2024 & \\textbf{  Pseudo R-squ.:     } &   0.3080    \\\\\n",
       "\\textbf{Time:}            &     16:51:25     & \\textbf{  Log-Likelihood:    } &   -10304.   \\\\\n",
       "\\textbf{converged:}       &       True       & \\textbf{  LL-Null:           } &   -14889.   \\\\\n",
       "\\textbf{Covariance Type:} &    nonrobust     & \\textbf{  LLR p-value:       } &    0.000    \\\\\n",
       "\\bottomrule\n",
       "\\end{tabular}\n",
       "\\begin{tabular}{lcccccc}\n",
       "             & \\textbf{coef} & \\textbf{std err} & \\textbf{z} & \\textbf{P$> |$z$|$} & \\textbf{[0.025} & \\textbf{0.975]}  \\\\\n",
       "\\midrule\n",
       "\\textbf{x1}  &       0.7776  &        0.053     &    14.616  &         0.000        &        0.673    &        0.882     \\\\\n",
       "\\textbf{x2}  &      -0.8112  &        0.045     &   -18.215  &         0.000        &       -0.898    &       -0.724     \\\\\n",
       "\\textbf{x3}  &      -0.6498  &        0.046     &   -14.083  &         0.000        &       -0.740    &       -0.559     \\\\\n",
       "\\textbf{x4}  &      -0.6687  &        0.046     &   -14.599  &         0.000        &       -0.758    &       -0.579     \\\\\n",
       "\\textbf{x5}  &       0.0232  &        0.043     &     0.538  &         0.590        &       -0.061    &        0.108     \\\\\n",
       "\\textbf{x6}  &      -0.3162  &        0.044     &    -7.200  &         0.000        &       -0.402    &       -0.230     \\\\\n",
       "\\textbf{x7}  &       2.9232  &        0.118     &    24.679  &         0.000        &        2.691    &        3.155     \\\\\n",
       "\\textbf{x8}  &       0.9319  &        0.047     &    19.830  &         0.000        &        0.840    &        1.024     \\\\\n",
       "\\textbf{x9}  &       0.4454  &        0.052     &     8.528  &         0.000        &        0.343    &        0.548     \\\\\n",
       "\\textbf{x10} &      -0.8480  &        0.046     &   -18.246  &         0.000        &       -0.939    &       -0.757     \\\\\n",
       "\\textbf{x11} &       0.1334  &        0.041     &     3.264  &         0.001        &        0.053    &        0.213     \\\\\n",
       "\\textbf{x12} &      -0.7799  &        0.060     &   -12.975  &         0.000        &       -0.898    &       -0.662     \\\\\n",
       "\\textbf{x13} &       0.1335  &        0.021     &     6.320  &         0.000        &        0.092    &        0.175     \\\\\n",
       "\\textbf{x14} &       0.1506  &        0.023     &     6.659  &         0.000        &        0.106    &        0.195     \\\\\n",
       "\\textbf{x15} &       1.1901  &        0.053     &    22.318  &         0.000        &        1.086    &        1.295     \\\\\n",
       "\\bottomrule\n",
       "\\end{tabular}\n",
       "%\\caption{Logit Regression Results}\n",
       "\\end{center}"
      ],
      "text/plain": [
       "<class 'statsmodels.iolib.summary.Summary'>\n",
       "\"\"\"\n",
       "                           Logit Regression Results                           \n",
       "==============================================================================\n",
       "Dep. Variable:                      y   No. Observations:                22306\n",
       "Model:                          Logit   Df Residuals:                    22291\n",
       "Method:                           MLE   Df Model:                           14\n",
       "Date:                Sun, 07 Jul 2024   Pseudo R-squ.:                  0.3080\n",
       "Time:                        16:51:25   Log-Likelihood:                -10304.\n",
       "converged:                       True   LL-Null:                       -14889.\n",
       "Covariance Type:            nonrobust   LLR p-value:                     0.000\n",
       "==============================================================================\n",
       "                 coef    std err          z      P>|z|      [0.025      0.975]\n",
       "------------------------------------------------------------------------------\n",
       "x1             0.7776      0.053     14.616      0.000       0.673       0.882\n",
       "x2            -0.8112      0.045    -18.215      0.000      -0.898      -0.724\n",
       "x3            -0.6498      0.046    -14.083      0.000      -0.740      -0.559\n",
       "x4            -0.6687      0.046    -14.599      0.000      -0.758      -0.579\n",
       "x5             0.0232      0.043      0.538      0.590      -0.061       0.108\n",
       "x6            -0.3162      0.044     -7.200      0.000      -0.402      -0.230\n",
       "x7             2.9232      0.118     24.679      0.000       2.691       3.155\n",
       "x8             0.9319      0.047     19.830      0.000       0.840       1.024\n",
       "x9             0.4454      0.052      8.528      0.000       0.343       0.548\n",
       "x10           -0.8480      0.046    -18.246      0.000      -0.939      -0.757\n",
       "x11            0.1334      0.041      3.264      0.001       0.053       0.213\n",
       "x12           -0.7799      0.060    -12.975      0.000      -0.898      -0.662\n",
       "x13            0.1335      0.021      6.320      0.000       0.092       0.175\n",
       "x14            0.1506      0.023      6.659      0.000       0.106       0.195\n",
       "x15            1.1901      0.053     22.318      0.000       1.086       1.295\n",
       "==============================================================================\n",
       "\"\"\""
      ]
     },
     "execution_count": 165,
     "metadata": {},
     "output_type": "execute_result"
    }
   ],
   "source": [
    "col_target = \"target\"\n",
    "col_features = one_hot_df.columns.tolist()[:-1] # Get all the columns except the target column\n",
    "\n",
    "X = np.array(one_hot_df[col_features]).astype(float) # Convert the features to a numpy array\n",
    "y = np.array(one_hot_df[col_target]) # Convert the target to a numpy array\n",
    "\n",
    "model = sm.Logit(y, X) # Create a logistic regression model\n",
    "result = model.fit() # Fit the model\n",
    "\n",
    "summary = result.summary() # Get the summary of the model\n",
    "summary"
   ]
  },
  {
   "cell_type": "markdown",
   "metadata": {},
   "source": [
    "##### From the model summary we can see that the coefficient of the 5th variable: **'CONDUITE_1'** has a **p-value** of **0.59** meaning it is highly insignificant which is why we decided to drop it. "
   ]
  },
  {
   "cell_type": "code",
   "execution_count": 166,
   "metadata": {},
   "outputs": [
    {
     "name": "stderr",
     "output_type": "stream",
     "text": [
      "/tmp/ipykernel_160722/3206857883.py:1: SettingWithCopyWarning:\n",
      "\n",
      "\n",
      "A value is trying to be set on a copy of a slice from a DataFrame\n",
      "\n",
      "See the caveats in the documentation: https://pandas.pydata.org/pandas-docs/stable/user_guide/indexing.html#returning-a-view-versus-a-copy\n",
      "\n"
     ]
    }
   ],
   "source": [
    "one_hot_df.drop(columns=[\"CONDUITE_1\"], inplace=True)"
   ]
  },
  {
   "cell_type": "markdown",
   "metadata": {},
   "source": [
    "##### We'll also try adding a constant to the model"
   ]
  },
  {
   "cell_type": "code",
   "execution_count": 167,
   "metadata": {},
   "outputs": [
    {
     "name": "stdout",
     "output_type": "stream",
     "text": [
      "Optimization terminated successfully.\n",
      "         Current function value: 0.453739\n",
      "         Iterations 7\n"
     ]
    },
    {
     "data": {
      "text/html": [
       "<table class=\"simpletable\">\n",
       "<caption>Logit Regression Results</caption>\n",
       "<tr>\n",
       "  <th>Dep. Variable:</th>           <td>y</td>        <th>  No. Observations:  </th>  <td> 22306</td> \n",
       "</tr>\n",
       "<tr>\n",
       "  <th>Model:</th>                 <td>Logit</td>      <th>  Df Residuals:      </th>  <td> 22291</td> \n",
       "</tr>\n",
       "<tr>\n",
       "  <th>Method:</th>                 <td>MLE</td>       <th>  Df Model:          </th>  <td>    14</td> \n",
       "</tr>\n",
       "<tr>\n",
       "  <th>Date:</th>            <td>Sun, 07 Jul 2024</td> <th>  Pseudo R-squ.:     </th>  <td>0.3202</td> \n",
       "</tr>\n",
       "<tr>\n",
       "  <th>Time:</th>                <td>16:51:26</td>     <th>  Log-Likelihood:    </th> <td> -10121.</td>\n",
       "</tr>\n",
       "<tr>\n",
       "  <th>converged:</th>             <td>True</td>       <th>  LL-Null:           </th> <td> -14889.</td>\n",
       "</tr>\n",
       "<tr>\n",
       "  <th>Covariance Type:</th>     <td>nonrobust</td>    <th>  LLR p-value:       </th>  <td> 0.000</td> \n",
       "</tr>\n",
       "</table>\n",
       "<table class=\"simpletable\">\n",
       "<tr>\n",
       "    <td></td>       <th>coef</th>     <th>std err</th>      <th>z</th>      <th>P>|z|</th>  <th>[0.025</th>    <th>0.975]</th>  \n",
       "</tr>\n",
       "<tr>\n",
       "  <th>const</th> <td>   -1.8818</td> <td>    0.102</td> <td>  -18.423</td> <td> 0.000</td> <td>   -2.082</td> <td>   -1.682</td>\n",
       "</tr>\n",
       "<tr>\n",
       "  <th>x1</th>    <td>    1.4514</td> <td>    0.069</td> <td>   21.085</td> <td> 0.000</td> <td>    1.316</td> <td>    1.586</td>\n",
       "</tr>\n",
       "<tr>\n",
       "  <th>x2</th>    <td>   -0.7051</td> <td>    0.039</td> <td>  -18.221</td> <td> 0.000</td> <td>   -0.781</td> <td>   -0.629</td>\n",
       "</tr>\n",
       "<tr>\n",
       "  <th>x3</th>    <td>   -0.5729</td> <td>    0.047</td> <td>  -12.237</td> <td> 0.000</td> <td>   -0.665</td> <td>   -0.481</td>\n",
       "</tr>\n",
       "<tr>\n",
       "  <th>x4</th>    <td>   -0.3539</td> <td>    0.049</td> <td>   -7.295</td> <td> 0.000</td> <td>   -0.449</td> <td>   -0.259</td>\n",
       "</tr>\n",
       "<tr>\n",
       "  <th>x5</th>    <td>   -0.3076</td> <td>    0.045</td> <td>   -6.903</td> <td> 0.000</td> <td>   -0.395</td> <td>   -0.220</td>\n",
       "</tr>\n",
       "<tr>\n",
       "  <th>x6</th>    <td>    3.0443</td> <td>    0.122</td> <td>   25.002</td> <td> 0.000</td> <td>    2.806</td> <td>    3.283</td>\n",
       "</tr>\n",
       "<tr>\n",
       "  <th>x7</th>    <td>    1.3918</td> <td>    0.056</td> <td>   24.936</td> <td> 0.000</td> <td>    1.282</td> <td>    1.501</td>\n",
       "</tr>\n",
       "<tr>\n",
       "  <th>x8</th>    <td>    0.6340</td> <td>    0.053</td> <td>   11.898</td> <td> 0.000</td> <td>    0.530</td> <td>    0.738</td>\n",
       "</tr>\n",
       "<tr>\n",
       "  <th>x9</th>    <td>   -0.3864</td> <td>    0.052</td> <td>   -7.411</td> <td> 0.000</td> <td>   -0.489</td> <td>   -0.284</td>\n",
       "</tr>\n",
       "<tr>\n",
       "  <th>x10</th>   <td>    0.3868</td> <td>    0.043</td> <td>    9.082</td> <td> 0.000</td> <td>    0.303</td> <td>    0.470</td>\n",
       "</tr>\n",
       "<tr>\n",
       "  <th>x11</th>   <td>   -0.7463</td> <td>    0.060</td> <td>  -12.368</td> <td> 0.000</td> <td>   -0.865</td> <td>   -0.628</td>\n",
       "</tr>\n",
       "<tr>\n",
       "  <th>x12</th>   <td>    0.0930</td> <td>    0.021</td> <td>    4.353</td> <td> 0.000</td> <td>    0.051</td> <td>    0.135</td>\n",
       "</tr>\n",
       "<tr>\n",
       "  <th>x13</th>   <td>    0.2008</td> <td>    0.023</td> <td>    8.817</td> <td> 0.000</td> <td>    0.156</td> <td>    0.245</td>\n",
       "</tr>\n",
       "<tr>\n",
       "  <th>x14</th>   <td>    1.1230</td> <td>    0.053</td> <td>   21.190</td> <td> 0.000</td> <td>    1.019</td> <td>    1.227</td>\n",
       "</tr>\n",
       "</table>"
      ],
      "text/latex": [
       "\\begin{center}\n",
       "\\begin{tabular}{lclc}\n",
       "\\toprule\n",
       "\\textbf{Dep. Variable:}   &        y         & \\textbf{  No. Observations:  } &    22306    \\\\\n",
       "\\textbf{Model:}           &      Logit       & \\textbf{  Df Residuals:      } &    22291    \\\\\n",
       "\\textbf{Method:}          &       MLE        & \\textbf{  Df Model:          } &       14    \\\\\n",
       "\\textbf{Date:}            & Sun, 07 Jul 2024 & \\textbf{  Pseudo R-squ.:     } &   0.3202    \\\\\n",
       "\\textbf{Time:}            &     16:51:26     & \\textbf{  Log-Likelihood:    } &   -10121.   \\\\\n",
       "\\textbf{converged:}       &       True       & \\textbf{  LL-Null:           } &   -14889.   \\\\\n",
       "\\textbf{Covariance Type:} &    nonrobust     & \\textbf{  LLR p-value:       } &    0.000    \\\\\n",
       "\\bottomrule\n",
       "\\end{tabular}\n",
       "\\begin{tabular}{lcccccc}\n",
       "               & \\textbf{coef} & \\textbf{std err} & \\textbf{z} & \\textbf{P$> |$z$|$} & \\textbf{[0.025} & \\textbf{0.975]}  \\\\\n",
       "\\midrule\n",
       "\\textbf{const} &      -1.8818  &        0.102     &   -18.423  &         0.000        &       -2.082    &       -1.682     \\\\\n",
       "\\textbf{x1}    &       1.4514  &        0.069     &    21.085  &         0.000        &        1.316    &        1.586     \\\\\n",
       "\\textbf{x2}    &      -0.7051  &        0.039     &   -18.221  &         0.000        &       -0.781    &       -0.629     \\\\\n",
       "\\textbf{x3}    &      -0.5729  &        0.047     &   -12.237  &         0.000        &       -0.665    &       -0.481     \\\\\n",
       "\\textbf{x4}    &      -0.3539  &        0.049     &    -7.295  &         0.000        &       -0.449    &       -0.259     \\\\\n",
       "\\textbf{x5}    &      -0.3076  &        0.045     &    -6.903  &         0.000        &       -0.395    &       -0.220     \\\\\n",
       "\\textbf{x6}    &       3.0443  &        0.122     &    25.002  &         0.000        &        2.806    &        3.283     \\\\\n",
       "\\textbf{x7}    &       1.3918  &        0.056     &    24.936  &         0.000        &        1.282    &        1.501     \\\\\n",
       "\\textbf{x8}    &       0.6340  &        0.053     &    11.898  &         0.000        &        0.530    &        0.738     \\\\\n",
       "\\textbf{x9}    &      -0.3864  &        0.052     &    -7.411  &         0.000        &       -0.489    &       -0.284     \\\\\n",
       "\\textbf{x10}   &       0.3868  &        0.043     &     9.082  &         0.000        &        0.303    &        0.470     \\\\\n",
       "\\textbf{x11}   &      -0.7463  &        0.060     &   -12.368  &         0.000        &       -0.865    &       -0.628     \\\\\n",
       "\\textbf{x12}   &       0.0930  &        0.021     &     4.353  &         0.000        &        0.051    &        0.135     \\\\\n",
       "\\textbf{x13}   &       0.2008  &        0.023     &     8.817  &         0.000        &        0.156    &        0.245     \\\\\n",
       "\\textbf{x14}   &       1.1230  &        0.053     &    21.190  &         0.000        &        1.019    &        1.227     \\\\\n",
       "\\bottomrule\n",
       "\\end{tabular}\n",
       "%\\caption{Logit Regression Results}\n",
       "\\end{center}"
      ],
      "text/plain": [
       "<class 'statsmodels.iolib.summary.Summary'>\n",
       "\"\"\"\n",
       "                           Logit Regression Results                           \n",
       "==============================================================================\n",
       "Dep. Variable:                      y   No. Observations:                22306\n",
       "Model:                          Logit   Df Residuals:                    22291\n",
       "Method:                           MLE   Df Model:                           14\n",
       "Date:                Sun, 07 Jul 2024   Pseudo R-squ.:                  0.3202\n",
       "Time:                        16:51:26   Log-Likelihood:                -10121.\n",
       "converged:                       True   LL-Null:                       -14889.\n",
       "Covariance Type:            nonrobust   LLR p-value:                     0.000\n",
       "==============================================================================\n",
       "                 coef    std err          z      P>|z|      [0.025      0.975]\n",
       "------------------------------------------------------------------------------\n",
       "const         -1.8818      0.102    -18.423      0.000      -2.082      -1.682\n",
       "x1             1.4514      0.069     21.085      0.000       1.316       1.586\n",
       "x2            -0.7051      0.039    -18.221      0.000      -0.781      -0.629\n",
       "x3            -0.5729      0.047    -12.237      0.000      -0.665      -0.481\n",
       "x4            -0.3539      0.049     -7.295      0.000      -0.449      -0.259\n",
       "x5            -0.3076      0.045     -6.903      0.000      -0.395      -0.220\n",
       "x6             3.0443      0.122     25.002      0.000       2.806       3.283\n",
       "x7             1.3918      0.056     24.936      0.000       1.282       1.501\n",
       "x8             0.6340      0.053     11.898      0.000       0.530       0.738\n",
       "x9            -0.3864      0.052     -7.411      0.000      -0.489      -0.284\n",
       "x10            0.3868      0.043      9.082      0.000       0.303       0.470\n",
       "x11           -0.7463      0.060    -12.368      0.000      -0.865      -0.628\n",
       "x12            0.0930      0.021      4.353      0.000       0.051       0.135\n",
       "x13            0.2008      0.023      8.817      0.000       0.156       0.245\n",
       "x14            1.1230      0.053     21.190      0.000       1.019       1.227\n",
       "==============================================================================\n",
       "\"\"\""
      ]
     },
     "execution_count": 167,
     "metadata": {},
     "output_type": "execute_result"
    }
   ],
   "source": [
    "col_target = \"target\"\n",
    "col_features = one_hot_df.columns.tolist()[:-1]\n",
    "\n",
    "X = np.array(one_hot_df[col_features]).astype(float)\n",
    "y = np.array(one_hot_df[col_target])\n",
    "X = sm.add_constant(X)\n",
    "model = sm.Logit(y, X)\n",
    "result = model.fit()\n",
    "\n",
    "summary = result.summary()\n",
    "summary"
   ]
  },
  {
   "cell_type": "markdown",
   "metadata": {},
   "source": [
    "##### **Results Analysis**: \n",
    "- The logistic regression model has a **Pseudo R-squared of 0.32** meaning it explains through the 14 provided variables **32%** of the variance in our target variable.\n",
    "- The **LLR p-value** and the **p-values** of the coeficients are all < 0.05 meaning that our model is **highly statistically significant**.\n",
    "- We can see that **Log-Likelihood > LL-Null** suggesting that the chosen variables **significantly improve the model's ability to predict the outcome variable**."
   ]
  },
  {
   "cell_type": "markdown",
   "metadata": {},
   "source": [
    "---"
   ]
  },
  {
   "cell_type": "markdown",
   "metadata": {},
   "source": [
    "### D. Model Optimization"
   ]
  },
  {
   "cell_type": "markdown",
   "metadata": {},
   "source": [
    "##### We aim to streamline our model by reducing the number of variables while maintaining high performance. Our approach involves systematically testing various combinations of selected variables to strike an optimal balance between model complexity and predictive accuracy. This process will help identify the most influential predictors while ensuring the model remains robust and effective in its predictions."
   ]
  },
  {
   "cell_type": "code",
   "execution_count": 168,
   "metadata": {},
   "outputs": [
    {
     "name": "stderr",
     "output_type": "stream",
     "text": [
      "Processing combinations:   0%|          | 0/16383 [00:00<?, ?it/s]"
     ]
    },
    {
     "name": "stderr",
     "output_type": "stream",
     "text": [
      "Processing combinations: 100%|██████████| 16383/16383 [11:17<00:00, 24.17it/s]\n"
     ]
    },
    {
     "data": {
      "text/html": [
       "<div>\n",
       "<style scoped>\n",
       "    .dataframe tbody tr th:only-of-type {\n",
       "        vertical-align: middle;\n",
       "    }\n",
       "\n",
       "    .dataframe tbody tr th {\n",
       "        vertical-align: top;\n",
       "    }\n",
       "\n",
       "    .dataframe thead th {\n",
       "        text-align: right;\n",
       "    }\n",
       "</style>\n",
       "<table border=\"1\" class=\"dataframe\">\n",
       "  <thead>\n",
       "    <tr style=\"text-align: right;\">\n",
       "      <th></th>\n",
       "      <th>Features</th>\n",
       "      <th>Pseudo R-squared</th>\n",
       "    </tr>\n",
       "  </thead>\n",
       "  <tbody>\n",
       "    <tr>\n",
       "      <th>0</th>\n",
       "      <td>(TPP_1,)</td>\n",
       "      <td>0.084428</td>\n",
       "    </tr>\n",
       "    <tr>\n",
       "      <th>1</th>\n",
       "      <td>(SECROUT_2,)</td>\n",
       "      <td>0.059901</td>\n",
       "    </tr>\n",
       "    <tr>\n",
       "      <th>2</th>\n",
       "      <td>(cser_5,)</td>\n",
       "      <td>0.070238</td>\n",
       "    </tr>\n",
       "    <tr>\n",
       "      <th>3</th>\n",
       "      <td>(naf4_EV,)</td>\n",
       "      <td>0.056070</td>\n",
       "    </tr>\n",
       "    <tr>\n",
       "      <th>4</th>\n",
       "      <td>(naf17_OQ,)</td>\n",
       "      <td>0.048079</td>\n",
       "    </tr>\n",
       "    <tr>\n",
       "      <th>...</th>\n",
       "      <td>...</td>\n",
       "      <td>...</td>\n",
       "    </tr>\n",
       "    <tr>\n",
       "      <th>16378</th>\n",
       "      <td>(TPP_1, SECROUT_2, cser_5, naf17_OQ, CJSITUA_6...</td>\n",
       "      <td>0.318455</td>\n",
       "    </tr>\n",
       "    <tr>\n",
       "      <th>16379</th>\n",
       "      <td>(TPP_1, SECROUT_2, naf4_EV, naf17_OQ, CJSITUA_...</td>\n",
       "      <td>0.315089</td>\n",
       "    </tr>\n",
       "    <tr>\n",
       "      <th>16380</th>\n",
       "      <td>(TPP_1, cser_5, naf4_EV, naf17_OQ, CJSITUA_6, ...</td>\n",
       "      <td>0.309135</td>\n",
       "    </tr>\n",
       "    <tr>\n",
       "      <th>16381</th>\n",
       "      <td>(SECROUT_2, cser_5, naf4_EV, naf17_OQ, CJSITUA...</td>\n",
       "      <td>0.302536</td>\n",
       "    </tr>\n",
       "    <tr>\n",
       "      <th>16382</th>\n",
       "      <td>(TPP_1, SECROUT_2, cser_5, naf4_EV, naf17_OQ, ...</td>\n",
       "      <td>0.320244</td>\n",
       "    </tr>\n",
       "  </tbody>\n",
       "</table>\n",
       "<p>16383 rows × 2 columns</p>\n",
       "</div>"
      ],
      "text/plain": [
       "                                                Features  Pseudo R-squared\n",
       "0                                               (TPP_1,)          0.084428\n",
       "1                                           (SECROUT_2,)          0.059901\n",
       "2                                              (cser_5,)          0.070238\n",
       "3                                             (naf4_EV,)          0.056070\n",
       "4                                            (naf17_OQ,)          0.048079\n",
       "...                                                  ...               ...\n",
       "16378  (TPP_1, SECROUT_2, cser_5, naf17_OQ, CJSITUA_6...          0.318455\n",
       "16379  (TPP_1, SECROUT_2, naf4_EV, naf17_OQ, CJSITUA_...          0.315089\n",
       "16380  (TPP_1, cser_5, naf4_EV, naf17_OQ, CJSITUA_6, ...          0.309135\n",
       "16381  (SECROUT_2, cser_5, naf4_EV, naf17_OQ, CJSITUA...          0.302536\n",
       "16382  (TPP_1, SECROUT_2, cser_5, naf4_EV, naf17_OQ, ...          0.320244\n",
       "\n",
       "[16383 rows x 2 columns]"
      ]
     },
     "execution_count": 168,
     "metadata": {},
     "output_type": "execute_result"
    }
   ],
   "source": [
    "import itertools\n",
    "from joblib import Parallel, delayed\n",
    "from tqdm import tqdm\n",
    "\n",
    "col_target = \"target\"\n",
    "col_features = one_hot_df.columns.tolist()[:-1]\n",
    "y_np = np.array(one_hot_df[col_target]) # Convert the target to a numpy array\n",
    "\n",
    "\n",
    "def fit_model(subset_features):\n",
    "    \"\"\"\n",
    "    Fits a logistic regression model and returns pseudo R-squared.\n",
    "\n",
    "    Args:\n",
    "    - features (list): Feature names.\n",
    "\n",
    "    Returns:\n",
    "    - tuple: (features, pseudo R-squared).\n",
    "    \"\"\"\n",
    "\n",
    "    X_subset = np.array(one_hot_df[list(subset_features)]).astype(float) # Convert the features to a numpy array\n",
    "    X_subset = sm.add_constant(X_subset)\n",
    "    model = sm.Logit(y_np, X_subset)\n",
    "    result = model.fit(disp=False)\n",
    "    return subset_features, result.prsquared\n",
    "\n",
    "\n",
    "# Generate all possible combinations of col_features\n",
    "all_combinations = []\n",
    "for i in range(1, len(col_features) + 1):\n",
    "    for subset_features in itertools.combinations(col_features, i):\n",
    "        all_combinations.append(subset_features) # Append the subset to the list\n",
    "\n",
    "# Parallel processing with tqdm progress bar\n",
    "num_cores = 4 # Number of cores to use for parallel processing\n",
    "results = Parallel(n_jobs=num_cores)(\n",
    "    delayed(fit_model)(subset)\n",
    "    for subset in tqdm(all_combinations, desc=\"Processing combinations\")\n",
    ")\n",
    "\n",
    "# Extract results\n",
    "combinations, r_squared_values = zip(*results)\n",
    "\n",
    "# Create a DataFrame to display the results\n",
    "results_df = pd.DataFrame(\n",
    "    {\"Features\": combinations, \"Pseudo R-squared\": r_squared_values}\n",
    ")\n",
    "\n",
    "results_df"
   ]
  },
  {
   "cell_type": "code",
   "execution_count": 169,
   "metadata": {},
   "outputs": [
    {
     "data": {
      "text/html": [
       "<div>\n",
       "<style scoped>\n",
       "    .dataframe tbody tr th:only-of-type {\n",
       "        vertical-align: middle;\n",
       "    }\n",
       "\n",
       "    .dataframe tbody tr th {\n",
       "        vertical-align: top;\n",
       "    }\n",
       "\n",
       "    .dataframe thead th {\n",
       "        text-align: right;\n",
       "    }\n",
       "</style>\n",
       "<table border=\"1\" class=\"dataframe\">\n",
       "  <thead>\n",
       "    <tr style=\"text-align: right;\">\n",
       "      <th></th>\n",
       "      <th>Features</th>\n",
       "      <th>Pseudo R-squared</th>\n",
       "    </tr>\n",
       "  </thead>\n",
       "  <tbody>\n",
       "    <tr>\n",
       "      <th>16382</th>\n",
       "      <td>(TPP_1, SECROUT_2, cser_5, naf4_EV, naf17_OQ, ...</td>\n",
       "      <td>0.320244</td>\n",
       "    </tr>\n",
       "    <tr>\n",
       "      <th>16370</th>\n",
       "      <td>(TPP_1, SECROUT_2, cser_5, naf4_EV, naf17_OQ, ...</td>\n",
       "      <td>0.319610</td>\n",
       "    </tr>\n",
       "    <tr>\n",
       "      <th>16377</th>\n",
       "      <td>(TPP_1, SECROUT_2, cser_5, naf4_EV, CJSITUA_6,...</td>\n",
       "      <td>0.318637</td>\n",
       "    </tr>\n",
       "    <tr>\n",
       "      <th>16378</th>\n",
       "      <td>(TPP_1, SECROUT_2, cser_5, naf17_OQ, CJSITUA_6...</td>\n",
       "      <td>0.318455</td>\n",
       "    </tr>\n",
       "    <tr>\n",
       "      <th>16373</th>\n",
       "      <td>(TPP_1, SECROUT_2, cser_5, naf4_EV, naf17_OQ, ...</td>\n",
       "      <td>0.318402</td>\n",
       "    </tr>\n",
       "    <tr>\n",
       "      <th>16324</th>\n",
       "      <td>(TPP_1, SECROUT_2, cser_5, naf17_OQ, CJSITUA_6...</td>\n",
       "      <td>0.317755</td>\n",
       "    </tr>\n",
       "    <tr>\n",
       "      <th>16315</th>\n",
       "      <td>(TPP_1, SECROUT_2, cser_5, naf4_EV, CJSITUA_6,...</td>\n",
       "      <td>0.317705</td>\n",
       "    </tr>\n",
       "    <tr>\n",
       "      <th>16289</th>\n",
       "      <td>(TPP_1, SECROUT_2, cser_5, naf4_EV, naf17_OQ, ...</td>\n",
       "      <td>0.317676</td>\n",
       "    </tr>\n",
       "    <tr>\n",
       "      <th>16372</th>\n",
       "      <td>(TPP_1, SECROUT_2, cser_5, naf4_EV, naf17_OQ, ...</td>\n",
       "      <td>0.317498</td>\n",
       "    </tr>\n",
       "    <tr>\n",
       "      <th>16369</th>\n",
       "      <td>(TPP_1, SECROUT_2, cser_5, naf4_EV, naf17_OQ, ...</td>\n",
       "      <td>0.317233</td>\n",
       "    </tr>\n",
       "  </tbody>\n",
       "</table>\n",
       "</div>"
      ],
      "text/plain": [
       "                                                Features  Pseudo R-squared\n",
       "16382  (TPP_1, SECROUT_2, cser_5, naf4_EV, naf17_OQ, ...          0.320244\n",
       "16370  (TPP_1, SECROUT_2, cser_5, naf4_EV, naf17_OQ, ...          0.319610\n",
       "16377  (TPP_1, SECROUT_2, cser_5, naf4_EV, CJSITUA_6,...          0.318637\n",
       "16378  (TPP_1, SECROUT_2, cser_5, naf17_OQ, CJSITUA_6...          0.318455\n",
       "16373  (TPP_1, SECROUT_2, cser_5, naf4_EV, naf17_OQ, ...          0.318402\n",
       "16324  (TPP_1, SECROUT_2, cser_5, naf17_OQ, CJSITUA_6...          0.317755\n",
       "16315  (TPP_1, SECROUT_2, cser_5, naf4_EV, CJSITUA_6,...          0.317705\n",
       "16289  (TPP_1, SECROUT_2, cser_5, naf4_EV, naf17_OQ, ...          0.317676\n",
       "16372  (TPP_1, SECROUT_2, cser_5, naf4_EV, naf17_OQ, ...          0.317498\n",
       "16369  (TPP_1, SECROUT_2, cser_5, naf4_EV, naf17_OQ, ...          0.317233"
      ]
     },
     "execution_count": 169,
     "metadata": {},
     "output_type": "execute_result"
    }
   ],
   "source": [
    "results_df = results_df.sort_values(by=\"Pseudo R-squared\", ascending=False)\n",
    "results_df.head(10)"
   ]
  },
  {
   "cell_type": "code",
   "execution_count": 170,
   "metadata": {},
   "outputs": [
    {
     "data": {
      "text/html": [
       "<div>\n",
       "<style scoped>\n",
       "    .dataframe tbody tr th:only-of-type {\n",
       "        vertical-align: middle;\n",
       "    }\n",
       "\n",
       "    .dataframe tbody tr th {\n",
       "        vertical-align: top;\n",
       "    }\n",
       "\n",
       "    .dataframe thead th {\n",
       "        text-align: right;\n",
       "    }\n",
       "</style>\n",
       "<table border=\"1\" class=\"dataframe\">\n",
       "  <thead>\n",
       "    <tr style=\"text-align: right;\">\n",
       "      <th></th>\n",
       "      <th>Features</th>\n",
       "      <th>Pseudo R-squared</th>\n",
       "      <th>Num Features</th>\n",
       "    </tr>\n",
       "  </thead>\n",
       "  <tbody>\n",
       "    <tr>\n",
       "      <th>16382</th>\n",
       "      <td>(TPP_1, SECROUT_2, cser_5, naf4_EV, naf17_OQ, ...</td>\n",
       "      <td>0.320244</td>\n",
       "      <td>14</td>\n",
       "    </tr>\n",
       "    <tr>\n",
       "      <th>16370</th>\n",
       "      <td>(TPP_1, SECROUT_2, cser_5, naf4_EV, naf17_OQ, ...</td>\n",
       "      <td>0.319610</td>\n",
       "      <td>13</td>\n",
       "    </tr>\n",
       "    <tr>\n",
       "      <th>16377</th>\n",
       "      <td>(TPP_1, SECROUT_2, cser_5, naf4_EV, CJSITUA_6,...</td>\n",
       "      <td>0.318637</td>\n",
       "      <td>13</td>\n",
       "    </tr>\n",
       "    <tr>\n",
       "      <th>16378</th>\n",
       "      <td>(TPP_1, SECROUT_2, cser_5, naf17_OQ, CJSITUA_6...</td>\n",
       "      <td>0.318455</td>\n",
       "      <td>13</td>\n",
       "    </tr>\n",
       "    <tr>\n",
       "      <th>16373</th>\n",
       "      <td>(TPP_1, SECROUT_2, cser_5, naf4_EV, naf17_OQ, ...</td>\n",
       "      <td>0.318402</td>\n",
       "      <td>13</td>\n",
       "    </tr>\n",
       "    <tr>\n",
       "      <th>...</th>\n",
       "      <td>...</td>\n",
       "      <td>...</td>\n",
       "      <td>...</td>\n",
       "    </tr>\n",
       "    <tr>\n",
       "      <th>8</th>\n",
       "      <td>(CWVIB_2,)</td>\n",
       "      <td>0.044554</td>\n",
       "      <td>1</td>\n",
       "    </tr>\n",
       "    <tr>\n",
       "      <th>7</th>\n",
       "      <td>(cser_6,)</td>\n",
       "      <td>0.042976</td>\n",
       "      <td>1</td>\n",
       "    </tr>\n",
       "    <tr>\n",
       "      <th>9</th>\n",
       "      <td>(SECFUPOU_1,)</td>\n",
       "      <td>0.040610</td>\n",
       "      <td>1</td>\n",
       "    </tr>\n",
       "    <tr>\n",
       "      <th>12</th>\n",
       "      <td>(KMANNU,)</td>\n",
       "      <td>0.038618</td>\n",
       "      <td>1</td>\n",
       "    </tr>\n",
       "    <tr>\n",
       "      <th>10</th>\n",
       "      <td>(naf38_QA,)</td>\n",
       "      <td>0.033592</td>\n",
       "      <td>1</td>\n",
       "    </tr>\n",
       "  </tbody>\n",
       "</table>\n",
       "<p>16383 rows × 3 columns</p>\n",
       "</div>"
      ],
      "text/plain": [
       "                                                Features  Pseudo R-squared  \\\n",
       "16382  (TPP_1, SECROUT_2, cser_5, naf4_EV, naf17_OQ, ...          0.320244   \n",
       "16370  (TPP_1, SECROUT_2, cser_5, naf4_EV, naf17_OQ, ...          0.319610   \n",
       "16377  (TPP_1, SECROUT_2, cser_5, naf4_EV, CJSITUA_6,...          0.318637   \n",
       "16378  (TPP_1, SECROUT_2, cser_5, naf17_OQ, CJSITUA_6...          0.318455   \n",
       "16373  (TPP_1, SECROUT_2, cser_5, naf4_EV, naf17_OQ, ...          0.318402   \n",
       "...                                                  ...               ...   \n",
       "8                                             (CWVIB_2,)          0.044554   \n",
       "7                                              (cser_6,)          0.042976   \n",
       "9                                          (SECFUPOU_1,)          0.040610   \n",
       "12                                             (KMANNU,)          0.038618   \n",
       "10                                           (naf38_QA,)          0.033592   \n",
       "\n",
       "       Num Features  \n",
       "16382            14  \n",
       "16370            13  \n",
       "16377            13  \n",
       "16378            13  \n",
       "16373            13  \n",
       "...             ...  \n",
       "8                 1  \n",
       "7                 1  \n",
       "9                 1  \n",
       "12                1  \n",
       "10                1  \n",
       "\n",
       "[16383 rows x 3 columns]"
      ]
     },
     "execution_count": 170,
     "metadata": {},
     "output_type": "execute_result"
    }
   ],
   "source": [
    "# Add a Number of Features Variable\n",
    "results_df[\"Num Features\"] = results_df[\"Features\"].apply(len)\n",
    "results_df"
   ]
  },
  {
   "cell_type": "code",
   "execution_count": 171,
   "metadata": {},
   "outputs": [
    {
     "data": {
      "image/png": "[encoded data removed]",
      "text/plain": [
       "<Figure size 1000x600 with 1 Axes>"
      ]
     },
     "metadata": {},
     "output_type": "display_data"
    }
   ],
   "source": [
    "# Plot the results\n",
    "plt.figure(figsize=(10, 6))\n",
    "plt.scatter(\n",
    "    results_df[\"Num Features\"],\n",
    "    results_df[\"Pseudo R-squared\"],\n",
    "    alpha=0.6, # Set the transparency of the points for visibility due to the overlapping points\n",
    "    edgecolors=\"w\",\n",
    "    linewidth=0.5,\n",
    ")\n",
    "plt.xlabel(\"Number of Features\")\n",
    "plt.ylabel(\"Pseudo R-squared\")\n",
    "plt.title(\"Pseudo R-squared vs. Number of Features\")\n",
    "plt.grid(True)\n",
    "\n",
    "# Highlight the best model\n",
    "best_model_idx = results_df[\"Pseudo R-squared\"].idxmax()\n",
    "best_model_r2 = results_df.loc[best_model_idx, \"Pseudo R-squared\"]\n",
    "best_model_features = results_df.loc[best_model_idx, \"Num Features\"]\n",
    "plt.scatter(\n",
    "    best_model_features,\n",
    "    best_model_r2,\n",
    "    color=\"red\",\n",
    "    s=100,\n",
    "    edgecolors=\"k\",\n",
    "    label=f\"Best Model\\n(R²={best_model_r2:.3f}, Features={best_model_features})\",\n",
    ")\n",
    "\n",
    "plt.legend()\n",
    "plt.show()"
   ]
  },
  {
   "cell_type": "markdown",
   "metadata": {},
   "source": [
    "##### Using the above plot we can see that even with **less features**, there are combinations that offer a similarly high R²"
   ]
  },
  {
   "cell_type": "code",
   "execution_count": 172,
   "metadata": {},
   "outputs": [
    {
     "data": {
      "text/html": [
       "<div>\n",
       "<style scoped>\n",
       "    .dataframe tbody tr th:only-of-type {\n",
       "        vertical-align: middle;\n",
       "    }\n",
       "\n",
       "    .dataframe tbody tr th {\n",
       "        vertical-align: top;\n",
       "    }\n",
       "\n",
       "    .dataframe thead th {\n",
       "        text-align: right;\n",
       "    }\n",
       "</style>\n",
       "<table border=\"1\" class=\"dataframe\">\n",
       "  <thead>\n",
       "    <tr style=\"text-align: right;\">\n",
       "      <th></th>\n",
       "      <th>Features</th>\n",
       "      <th>Pseudo R-squared</th>\n",
       "      <th>Num Features</th>\n",
       "    </tr>\n",
       "  </thead>\n",
       "  <tbody>\n",
       "    <tr>\n",
       "      <th>0</th>\n",
       "      <td>(TPP_1,)</td>\n",
       "      <td>0.084428</td>\n",
       "      <td>1</td>\n",
       "    </tr>\n",
       "    <tr>\n",
       "      <th>18</th>\n",
       "      <td>(TPP_1, CJSITUA_6)</td>\n",
       "      <td>0.140544</td>\n",
       "      <td>2</td>\n",
       "    </tr>\n",
       "    <tr>\n",
       "      <th>119</th>\n",
       "      <td>(TPP_1, cser_5, CJSITUA_6)</td>\n",
       "      <td>0.190021</td>\n",
       "      <td>3</td>\n",
       "    </tr>\n",
       "    <tr>\n",
       "      <th>471</th>\n",
       "      <td>(TPP_1, SECROUT_2, cser_5, CJSITUA_6)</td>\n",
       "      <td>0.227992</td>\n",
       "      <td>4</td>\n",
       "    </tr>\n",
       "    <tr>\n",
       "      <th>1489</th>\n",
       "      <td>(TPP_1, SECROUT_2, cser_5, CJSITUA_6, TINA_3)</td>\n",
       "      <td>0.258208</td>\n",
       "      <td>5</td>\n",
       "    </tr>\n",
       "    <tr>\n",
       "      <th>3517</th>\n",
       "      <td>(TPP_1, SECROUT_2, cser_5, naf17_OQ, CJSITUA_6...</td>\n",
       "      <td>0.276181</td>\n",
       "      <td>6</td>\n",
       "    </tr>\n",
       "    <tr>\n",
       "      <th>7020</th>\n",
       "      <td>(TPP_1, SECROUT_2, naf17_OQ, CJSITUA_6, TINA_3...</td>\n",
       "      <td>0.294518</td>\n",
       "      <td>7</td>\n",
       "    </tr>\n",
       "    <tr>\n",
       "      <th>10122</th>\n",
       "      <td>(TPP_1, SECROUT_2, cser_5, naf17_OQ, CJSITUA_6...</td>\n",
       "      <td>0.300685</td>\n",
       "      <td>8</td>\n",
       "    </tr>\n",
       "    <tr>\n",
       "      <th>13170</th>\n",
       "      <td>(TPP_1, SECROUT_2, cser_5, naf17_OQ, CJSITUA_6...</td>\n",
       "      <td>0.306971</td>\n",
       "      <td>9</td>\n",
       "    </tr>\n",
       "    <tr>\n",
       "      <th>15134</th>\n",
       "      <td>(TPP_1, SECROUT_2, cser_5, naf17_OQ, CJSITUA_6...</td>\n",
       "      <td>0.311476</td>\n",
       "      <td>10</td>\n",
       "    </tr>\n",
       "    <tr>\n",
       "      <th>16009</th>\n",
       "      <td>(TPP_1, SECROUT_2, cser_5, naf4_EV, CJSITUA_6,...</td>\n",
       "      <td>0.315782</td>\n",
       "      <td>11</td>\n",
       "    </tr>\n",
       "    <tr>\n",
       "      <th>16324</th>\n",
       "      <td>(TPP_1, SECROUT_2, cser_5, naf17_OQ, CJSITUA_6...</td>\n",
       "      <td>0.317755</td>\n",
       "      <td>12</td>\n",
       "    </tr>\n",
       "    <tr>\n",
       "      <th>16370</th>\n",
       "      <td>(TPP_1, SECROUT_2, cser_5, naf4_EV, naf17_OQ, ...</td>\n",
       "      <td>0.319610</td>\n",
       "      <td>13</td>\n",
       "    </tr>\n",
       "    <tr>\n",
       "      <th>16382</th>\n",
       "      <td>(TPP_1, SECROUT_2, cser_5, naf4_EV, naf17_OQ, ...</td>\n",
       "      <td>0.320244</td>\n",
       "      <td>14</td>\n",
       "    </tr>\n",
       "  </tbody>\n",
       "</table>\n",
       "</div>"
      ],
      "text/plain": [
       "                                                Features  Pseudo R-squared  \\\n",
       "0                                               (TPP_1,)          0.084428   \n",
       "18                                    (TPP_1, CJSITUA_6)          0.140544   \n",
       "119                           (TPP_1, cser_5, CJSITUA_6)          0.190021   \n",
       "471                (TPP_1, SECROUT_2, cser_5, CJSITUA_6)          0.227992   \n",
       "1489       (TPP_1, SECROUT_2, cser_5, CJSITUA_6, TINA_3)          0.258208   \n",
       "3517   (TPP_1, SECROUT_2, cser_5, naf17_OQ, CJSITUA_6...          0.276181   \n",
       "7020   (TPP_1, SECROUT_2, naf17_OQ, CJSITUA_6, TINA_3...          0.294518   \n",
       "10122  (TPP_1, SECROUT_2, cser_5, naf17_OQ, CJSITUA_6...          0.300685   \n",
       "13170  (TPP_1, SECROUT_2, cser_5, naf17_OQ, CJSITUA_6...          0.306971   \n",
       "15134  (TPP_1, SECROUT_2, cser_5, naf17_OQ, CJSITUA_6...          0.311476   \n",
       "16009  (TPP_1, SECROUT_2, cser_5, naf4_EV, CJSITUA_6,...          0.315782   \n",
       "16324  (TPP_1, SECROUT_2, cser_5, naf17_OQ, CJSITUA_6...          0.317755   \n",
       "16370  (TPP_1, SECROUT_2, cser_5, naf4_EV, naf17_OQ, ...          0.319610   \n",
       "16382  (TPP_1, SECROUT_2, cser_5, naf4_EV, naf17_OQ, ...          0.320244   \n",
       "\n",
       "       Num Features  \n",
       "0                 1  \n",
       "18                2  \n",
       "119               3  \n",
       "471               4  \n",
       "1489              5  \n",
       "3517              6  \n",
       "7020              7  \n",
       "10122             8  \n",
       "13170             9  \n",
       "15134            10  \n",
       "16009            11  \n",
       "16324            12  \n",
       "16370            13  \n",
       "16382            14  "
      ]
     },
     "execution_count": 172,
     "metadata": {},
     "output_type": "execute_result"
    }
   ],
   "source": [
    "# Extract the best models for each number of features\n",
    "best_models = results_df.loc[\n",
    "    results_df.groupby(\"Num Features\")[\"Pseudo R-squared\"].idxmax()\n",
    "]\n",
    "best_models"
   ]
  },
  {
   "cell_type": "code",
   "execution_count": 174,
   "metadata": {},
   "outputs": [
    {
     "data": {
      "image/png": "[encoded data removed]",
      "text/plain": [
       "<Figure size 1000x600 with 1 Axes>"
      ]
     },
     "metadata": {},
     "output_type": "display_data"
    }
   ],
   "source": [
    "# Plotting the results\n",
    "plt.figure(figsize=(10, 6))\n",
    "plt.plot(\n",
    "    best_models[\"Num Features\"],\n",
    "    best_models[\"Pseudo R-squared\"],\n",
    "    marker=\"o\",\n",
    "    linestyle=\"-\",\n",
    "    color=\"b\",\n",
    ")\n",
    "plt.title(\"Number of Variables vs. Pseudo R-squared\")\n",
    "plt.xlabel(\"Number of Variables\")\n",
    "plt.ylabel(\"Pseudo R-squared\")\n",
    "plt.grid(True)\n",
    "plt.show()"
   ]
  },
  {
   "cell_type": "markdown",
   "metadata": {},
   "source": [
    "##### From the following graph we can choose a number of variables that also offers a performant model. We chose the **7** variables listed below"
   ]
  },
  {
   "cell_type": "code",
   "execution_count": 175,
   "metadata": {},
   "outputs": [
    {
     "data": {
      "text/plain": [
       "['TPP_1', 'SECROUT_2', 'naf17_OQ', 'CJSITUA_6', 'TINA_3', 'cser_6', 'REVMENS']"
      ]
     },
     "execution_count": 175,
     "metadata": {},
     "output_type": "execute_result"
    }
   ],
   "source": [
    "best_features = list(best_models.iloc[6][\"Features\"])\n",
    "best_features"
   ]
  },
  {
   "cell_type": "markdown",
   "metadata": {},
   "source": [
    "##### We retrain a model with the final chosen combination of variables"
   ]
  },
  {
   "cell_type": "code",
   "execution_count": 176,
   "metadata": {},
   "outputs": [
    {
     "name": "stdout",
     "output_type": "stream",
     "text": [
      "Optimization terminated successfully.\n",
      "         Current function value: 0.470935\n",
      "         Iterations 7\n"
     ]
    },
    {
     "data": {
      "text/html": [
       "<table class=\"simpletable\">\n",
       "<caption>Logit Regression Results</caption>\n",
       "<tr>\n",
       "  <th>Dep. Variable:</th>        <td>target</td>      <th>  No. Observations:  </th>  <td> 17844</td> \n",
       "</tr>\n",
       "<tr>\n",
       "  <th>Model:</th>                 <td>Logit</td>      <th>  Df Residuals:      </th>  <td> 17836</td> \n",
       "</tr>\n",
       "<tr>\n",
       "  <th>Method:</th>                 <td>MLE</td>       <th>  Df Model:          </th>  <td>     7</td> \n",
       "</tr>\n",
       "<tr>\n",
       "  <th>Date:</th>            <td>Sun, 07 Jul 2024</td> <th>  Pseudo R-squ.:     </th>  <td>0.2945</td> \n",
       "</tr>\n",
       "<tr>\n",
       "  <th>Time:</th>                <td>17:03:35</td>     <th>  Log-Likelihood:    </th> <td> -8403.4</td>\n",
       "</tr>\n",
       "<tr>\n",
       "  <th>converged:</th>             <td>True</td>       <th>  LL-Null:           </th> <td> -11910.</td>\n",
       "</tr>\n",
       "<tr>\n",
       "  <th>Covariance Type:</th>     <td>nonrobust</td>    <th>  LLR p-value:       </th>  <td> 0.000</td> \n",
       "</tr>\n",
       "</table>\n",
       "<table class=\"simpletable\">\n",
       "<tr>\n",
       "      <td></td>         <th>coef</th>     <th>std err</th>      <th>z</th>      <th>P>|z|</th>  <th>[0.025</th>    <th>0.975]</th>  \n",
       "</tr>\n",
       "<tr>\n",
       "  <th>const</th>     <td>   -2.4526</td> <td>    0.091</td> <td>  -26.926</td> <td> 0.000</td> <td>   -2.631</td> <td>   -2.274</td>\n",
       "</tr>\n",
       "<tr>\n",
       "  <th>TPP_1</th>     <td>    1.6284</td> <td>    0.071</td> <td>   23.075</td> <td> 0.000</td> <td>    1.490</td> <td>    1.767</td>\n",
       "</tr>\n",
       "<tr>\n",
       "  <th>SECROUT_2</th> <td>   -1.0821</td> <td>    0.039</td> <td>  -27.899</td> <td> 0.000</td> <td>   -1.158</td> <td>   -1.006</td>\n",
       "</tr>\n",
       "<tr>\n",
       "  <th>naf17_OQ</th>  <td>   -0.8505</td> <td>    0.040</td> <td>  -21.376</td> <td> 0.000</td> <td>   -0.928</td> <td>   -0.772</td>\n",
       "</tr>\n",
       "<tr>\n",
       "  <th>CJSITUA_6</th> <td>    3.0820</td> <td>    0.135</td> <td>   22.867</td> <td> 0.000</td> <td>    2.818</td> <td>    3.346</td>\n",
       "</tr>\n",
       "<tr>\n",
       "  <th>TINA_3</th>    <td>    1.4998</td> <td>    0.061</td> <td>   24.394</td> <td> 0.000</td> <td>    1.379</td> <td>    1.620</td>\n",
       "</tr>\n",
       "<tr>\n",
       "  <th>cser_6</th>    <td>    1.1193</td> <td>    0.052</td> <td>   21.421</td> <td> 0.000</td> <td>    1.017</td> <td>    1.222</td>\n",
       "</tr>\n",
       "<tr>\n",
       "  <th>REVMENS</th>   <td>    1.3330</td> <td>    0.057</td> <td>   23.295</td> <td> 0.000</td> <td>    1.221</td> <td>    1.445</td>\n",
       "</tr>\n",
       "</table>"
      ],
      "text/latex": [
       "\\begin{center}\n",
       "\\begin{tabular}{lclc}\n",
       "\\toprule\n",
       "\\textbf{Dep. Variable:}   &      target      & \\textbf{  No. Observations:  } &    17844    \\\\\n",
       "\\textbf{Model:}           &      Logit       & \\textbf{  Df Residuals:      } &    17836    \\\\\n",
       "\\textbf{Method:}          &       MLE        & \\textbf{  Df Model:          } &        7    \\\\\n",
       "\\textbf{Date:}            & Sun, 07 Jul 2024 & \\textbf{  Pseudo R-squ.:     } &   0.2945    \\\\\n",
       "\\textbf{Time:}            &     17:03:35     & \\textbf{  Log-Likelihood:    } &   -8403.4   \\\\\n",
       "\\textbf{converged:}       &       True       & \\textbf{  LL-Null:           } &   -11910.   \\\\\n",
       "\\textbf{Covariance Type:} &    nonrobust     & \\textbf{  LLR p-value:       } &    0.000    \\\\\n",
       "\\bottomrule\n",
       "\\end{tabular}\n",
       "\\begin{tabular}{lcccccc}\n",
       "                    & \\textbf{coef} & \\textbf{std err} & \\textbf{z} & \\textbf{P$> |$z$|$} & \\textbf{[0.025} & \\textbf{0.975]}  \\\\\n",
       "\\midrule\n",
       "\\textbf{const}      &      -2.4526  &        0.091     &   -26.926  &         0.000        &       -2.631    &       -2.274     \\\\\n",
       "\\textbf{TPP\\_1}     &       1.6284  &        0.071     &    23.075  &         0.000        &        1.490    &        1.767     \\\\\n",
       "\\textbf{SECROUT\\_2} &      -1.0821  &        0.039     &   -27.899  &         0.000        &       -1.158    &       -1.006     \\\\\n",
       "\\textbf{naf17\\_OQ}  &      -0.8505  &        0.040     &   -21.376  &         0.000        &       -0.928    &       -0.772     \\\\\n",
       "\\textbf{CJSITUA\\_6} &       3.0820  &        0.135     &    22.867  &         0.000        &        2.818    &        3.346     \\\\\n",
       "\\textbf{TINA\\_3}    &       1.4998  &        0.061     &    24.394  &         0.000        &        1.379    &        1.620     \\\\\n",
       "\\textbf{cser\\_6}    &       1.1193  &        0.052     &    21.421  &         0.000        &        1.017    &        1.222     \\\\\n",
       "\\textbf{REVMENS}    &       1.3330  &        0.057     &    23.295  &         0.000        &        1.221    &        1.445     \\\\\n",
       "\\bottomrule\n",
       "\\end{tabular}\n",
       "%\\caption{Logit Regression Results}\n",
       "\\end{center}"
      ],
      "text/plain": [
       "<class 'statsmodels.iolib.summary.Summary'>\n",
       "\"\"\"\n",
       "                           Logit Regression Results                           \n",
       "==============================================================================\n",
       "Dep. Variable:                 target   No. Observations:                17844\n",
       "Model:                          Logit   Df Residuals:                    17836\n",
       "Method:                           MLE   Df Model:                            7\n",
       "Date:                Sun, 07 Jul 2024   Pseudo R-squ.:                  0.2945\n",
       "Time:                        17:03:35   Log-Likelihood:                -8403.4\n",
       "converged:                       True   LL-Null:                       -11910.\n",
       "Covariance Type:            nonrobust   LLR p-value:                     0.000\n",
       "==============================================================================\n",
       "                 coef    std err          z      P>|z|      [0.025      0.975]\n",
       "------------------------------------------------------------------------------\n",
       "const         -2.4526      0.091    -26.926      0.000      -2.631      -2.274\n",
       "TPP_1          1.6284      0.071     23.075      0.000       1.490       1.767\n",
       "SECROUT_2     -1.0821      0.039    -27.899      0.000      -1.158      -1.006\n",
       "naf17_OQ      -0.8505      0.040    -21.376      0.000      -0.928      -0.772\n",
       "CJSITUA_6      3.0820      0.135     22.867      0.000       2.818       3.346\n",
       "TINA_3         1.4998      0.061     24.394      0.000       1.379       1.620\n",
       "cser_6         1.1193      0.052     21.421      0.000       1.017       1.222\n",
       "REVMENS        1.3330      0.057     23.295      0.000       1.221       1.445\n",
       "==============================================================================\n",
       "\"\"\""
      ]
     },
     "execution_count": 176,
     "metadata": {},
     "output_type": "execute_result"
    }
   ],
   "source": [
    "from sklearn.model_selection import train_test_split\n",
    "import statsmodels.api as sm\n",
    "\n",
    "col_target = \"target\"\n",
    "col_features = best_features\n",
    "X = one_hot_df[col_features].astype(float)\n",
    "X = sm.add_constant(X)\n",
    "X_train, X_test, y_train, y_test = train_test_split(\n",
    "    X, one_hot_df[col_target], test_size=0.2, random_state=42\n",
    ")\n",
    "model = sm.Logit(y_train, X_train)\n",
    "result = model.fit()\n",
    "summary = result.summary()\n",
    "summary"
   ]
  },
  {
   "cell_type": "markdown",
   "metadata": {},
   "source": [
    "##### The model is still performant and significant"
   ]
  },
  {
   "cell_type": "markdown",
   "metadata": {},
   "source": [
    "---"
   ]
  },
  {
   "cell_type": "markdown",
   "metadata": {},
   "source": [
    "### E. Model testing\n"
   ]
  },
  {
   "cell_type": "code",
   "execution_count": 177,
   "metadata": {},
   "outputs": [],
   "source": [
    "# Import the necessary libraries for model testing\n",
    "from sklearn.metrics import (\n",
    "    confusion_matrix,\n",
    "    roc_auc_score,\n",
    "    roc_curve,\n",
    "    precision_score,\n",
    "    recall_score,\n",
    "    f1_score,\n",
    ")\n",
    "from sklearn.calibration import calibration_curve"
   ]
  },
  {
   "cell_type": "markdown",
   "metadata": {},
   "source": [
    "#### 0- Predictions:"
   ]
  },
  {
   "cell_type": "code",
   "execution_count": 178,
   "metadata": {},
   "outputs": [],
   "source": [
    "# Make the predictions using the model \n",
    "y_pred_proba = [] # Create an empty list to store the predicted probabilities\n",
    "for i in range(0, len(X_test)):\n",
    "    y_pred_proba.append(result.predict(X_test.iloc[i].values))\n",
    "y_pred = (np.array(y_pred_proba) > 0.5).astype(int) # Convert the predicted probabilities to binary values"
   ]
  },
  {
   "cell_type": "markdown",
   "metadata": {},
   "source": [
    "#### 1- Precision, Recall & F1 Metrics:"
   ]
  },
  {
   "cell_type": "code",
   "execution_count": 179,
   "metadata": {},
   "outputs": [
    {
     "name": "stdout",
     "output_type": "stream",
     "text": [
      "Precision: 0.7225063938618926\n",
      "Recall: 0.653556969346443\n",
      "F1 Score: 0.6863042818098998\n"
     ]
    }
   ],
   "source": [
    "# Calculate precision, recall, and F1 score metrics for the model\n",
    "precision = precision_score(y_test, y_pred)\n",
    "recall = recall_score(y_test, y_pred)\n",
    "f1 = f1_score(y_test, y_pred)\n",
    "\n",
    "print(\"Precision:\", precision)\n",
    "print(\"Recall:\", recall)\n",
    "print(\"F1 Score:\", f1)"
   ]
  },
  {
   "cell_type": "markdown",
   "metadata": {},
   "source": [
    "#### 2- Confusion Matrix:"
   ]
  },
  {
   "cell_type": "code",
   "execution_count": 180,
   "metadata": {},
   "outputs": [
    {
     "data": {
      "image/png": "[encoded data removed]",
      "text/plain": [
       "<Figure size 800x600 with 2 Axes>"
      ]
     },
     "metadata": {},
     "output_type": "display_data"
    }
   ],
   "source": [
    "\n",
    "# Confusion Matrix\n",
    "conf_matrix = confusion_matrix(y_test, y_pred)\n",
    "\n",
    "# Plot the confusion matrix\n",
    "plt.figure(figsize=(8, 6))\n",
    "sns.heatmap(\n",
    "    conf_matrix,\n",
    "    annot=True,\n",
    "    fmt=\"d\",\n",
    "    cmap=\"Blues\",\n",
    "    xticklabels=[\"Predicted 0\", \"Predicted 1\"],\n",
    "    yticklabels=[\"Actual 0\", \"Actual 1\"],\n",
    ")\n",
    "plt.xlabel(\"Predicted\")\n",
    "plt.ylabel(\"Actual\")\n",
    "plt.title(\"Confusion Matrix for logit model\")\n",
    "plt.show()"
   ]
  },
  {
   "cell_type": "markdown",
   "metadata": {},
   "source": [
    "It looks like the model is better at predicting negative instances (Predicted 0) than positive instances (Predicted 1).\n",
    "This could also be caused by a classes imbalance which needs further processing.\n",
    "\n"
   ]
  },
  {
   "cell_type": "markdown",
   "metadata": {},
   "source": [
    "#### 3- ROC Curve & ROC-AUC metric:"
   ]
  },
  {
   "cell_type": "code",
   "execution_count": 181,
   "metadata": {},
   "outputs": [
    {
     "name": "stdout",
     "output_type": "stream",
     "text": [
      "ROC AUC Score: 0.85\n"
     ]
    },
    {
     "data": {
      "image/png": "[encoded data removed]",
      "text/plain": [
       "<Figure size 640x480 with 1 Axes>"
      ]
     },
     "metadata": {},
     "output_type": "display_data"
    }
   ],
   "source": [
    "# ROC AUC Score\n",
    "roc_auc = roc_auc_score(y_test, y_pred_proba)\n",
    "print(f\"ROC AUC Score: {roc_auc:.2f}\")\n",
    "\n",
    "# ROC curve\n",
    "fpr, tpr, thresholds = roc_curve(y_test, y_pred_proba)\n",
    "# Plotting ROC curve\n",
    "plt.figure()\n",
    "plt.plot(fpr, tpr, color=\"darkorange\", lw=2, label=\"ROC curve (area = %0.2f)\" % roc_auc)\n",
    "plt.plot([0, 1], [0, 1], color=\"navy\", lw=2, linestyle=\"--\")\n",
    "plt.xlim([0.0, 1.0])\n",
    "plt.ylim([0.0, 1.05])\n",
    "plt.xlabel(\"False Positive Rate\")\n",
    "plt.ylabel(\"True Positive Rate\")\n",
    "plt.title(\"Receiver Operating Characteristic (ROC)\")\n",
    "plt.legend(loc=\"lower right\")\n",
    "plt.show()"
   ]
  },
  {
   "cell_type": "markdown",
   "metadata": {},
   "source": [
    "With a ROC AUC of 0.85 we can say that the model performs well in distinguishing between the two classes"
   ]
  },
  {
   "cell_type": "code",
   "execution_count": 182,
   "metadata": {},
   "outputs": [
    {
     "data": {
      "image/png": "[encoded data removed]",
      "text/plain": [
       "<Figure size 640x480 with 1 Axes>"
      ]
     },
     "metadata": {},
     "output_type": "display_data"
    }
   ],
   "source": [
    "# Calculate the calibration curve\n",
    "prob_true, prob_pred = calibration_curve(y_test, y_pred_proba, n_bins=26)\n",
    "\n",
    "# Plot the calibration curve\n",
    "plt.plot(prob_pred, prob_true, marker=\"o\", label=\"Reliability\")\n",
    "plt.plot([0, 1], [0, 1], linestyle=\"--\", label=\"Perfectly Calibrated\")\n",
    "plt.xlabel(\"Predicted Probability\")\n",
    "plt.title(\"Calibration Curve\")\n",
    "plt.ylabel(\"True Fraction\")\n",
    "plt.legend()\n",
    "plt.show()"
   ]
  },
  {
   "cell_type": "markdown",
   "metadata": {},
   "source": [
    "The graph shows that the model’s predictions are well calibrated, meaning that the predicted probability of an event closely matches the actual probability of the event. The reliability is high throughout, which means the model is consistently good at making these predictions excpet some minor disturbances at predictions with probabilities between 0.6 & 0.8."
   ]
  },
  {
   "cell_type": "markdown",
   "metadata": {},
   "source": [
    "---"
   ]
  },
  {
   "cell_type": "markdown",
   "metadata": {},
   "source": [
    "## 5. Conclusion"
   ]
  },
  {
   "cell_type": "markdown",
   "metadata": {},
   "source": [
    "##### After multiple levels of feature selection, model fitting & optimization we found the following variables to be the determinants for a woman being the primary source of revenue in the household:\n",
    "### **Work Characteristics:**\n",
    "\n",
    "- **Full-time Work (TPP_1)**: Women who work full-time (TPP_1) are more likely to assume the role of primary source of revenue, as indicated by its positive coefficient of (1.62).\n",
    "- **Workplace Risk (SECROUT_2)**: The absence of high-risk workplace conditions (SECROUT_2) correlates negatively with the likelihood of a woman being the primary source of revenue (-1.08).\n",
    "\n",
    "### **Occupational Factors:**\n",
    "\n",
    "- **Industry Sector (naf17_OQ)**: Engaging in administrative activities, education, or health sectors (naf17_OQ) corresponds to a decrease in the likelihood (-0.85) of a woman being the primary source of revenue.\n",
    "- **Socio-Professional Category (cser_6)**: Occupying blue-collar positions (cser_6), such as 'Ouvrier', is associated with a higher probability (1.12) of being the primary source of revenue.\n",
    "\n",
    "### **Family and Career Dynamics:**\n",
    "\n",
    "- **Spouse's Work Situation (CJSITUA_6)**: Having an inactive spouse (CJSITUA_6), such as one who is a homemaker or retired, significantly increases the odds (3.08) of a woman being the primary source of revenue.\n",
    "- **Career Breaks (TINA_3)**: Never having taken extended breaks from work (TINA_3) positively influences (1.5) the likelihood of being the primary source of revenue.\n",
    "\n",
    "### **Income Considerations:**\n",
    "\n",
    "- **Monthly Income (REVMENS)**: Higher net monthly income (REVMENS) positively impacts (1.33) the likelihood of a woman being the primary source of revenue.\n",
    "\n",
    "These variables collectively provide insights into the socioeconomic factors influencing the likelihood of a woman being the primary source of revenue in a household, highlighting both occupational and household dynamics impacting income and employment roles.\n",
    "\n"
   ]
  }
 ],
 "metadata": {
  "kernelspec": {
   "display_name": ".venv",
   "language": "python",
   "name": "python3"
  },
  "language_info": {
   "codemirror_mode": {
    "name": "ipython",
    "version": 3
   },
   "file_extension": ".py",
   "mimetype": "text/x-python",
   "name": "python",
   "nbconvert_exporter": "python",
   "pygments_lexer": "ipython3",
   "version": "3.11.6"
  }
 },
 "nbformat": 4,
 "nbformat_minor": 2
}
